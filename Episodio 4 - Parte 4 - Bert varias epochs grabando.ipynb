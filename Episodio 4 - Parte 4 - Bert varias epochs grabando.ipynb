{
 "cells": [
  {
   "cell_type": "markdown",
   "id": "a66fdded",
   "metadata": {},
   "source": [
    "# 🤗 Transformers Episodio 4 - Parte 4\n"
   ]
  },
  {
   "cell_type": "code",
   "execution_count": 1,
   "id": "26b7e8c9",
   "metadata": {},
   "outputs": [
    {
     "name": "stdout",
     "output_type": "stream",
     "text": [
      "INFO:tensorflow:Enabling eager execution\n",
      "INFO:tensorflow:Enabling v2 tensorshape\n",
      "INFO:tensorflow:Enabling resource variables\n",
      "INFO:tensorflow:Enabling tensor equality\n",
      "INFO:tensorflow:Enabling control flow v2\n"
     ]
    },
    {
     "data": {
      "text/html": [
       "<style>.container { width:100% !important; }</style>"
      ],
      "text/plain": [
       "<IPython.core.display.HTML object>"
      ]
     },
     "metadata": {},
     "output_type": "display_data"
    }
   ],
   "source": [
    "import utils\n",
    "import importlib\n",
    "importlib.reload(utils)\n",
    "\n",
    "from sklearn.model_selection import train_test_split\n",
    "import numpy as np\n",
    "import pandas as pd\n",
    "from utils import get_submission, submit, get_tokenizer_and_model,\\\n",
    "                  compute_metrics, load_dfs, tokenize, get_train_args\n",
    "\n",
    "\n",
    "import transformers\n",
    "from transformers import Trainer\n",
    "transformers.logging.set_verbosity_warning()\n",
    "\n",
    "def read_scores():\n",
    "    s = !kaggle competitions submissions nlp-getting-started \n",
    "    df = pd.DataFrame([(l.split()[0], l.split()[-2]) for l in s[2:]], columns=[\"Archivo\", \"Score\"]).set_index(\"Archivo\")\n",
    "    display(df)\n",
    "    return df\n",
    "\n",
    "utils.nb_set_width()"
   ]
  },
  {
   "cell_type": "code",
   "execution_count": 2,
   "id": "1cd02996",
   "metadata": {},
   "outputs": [
    {
     "name": "stderr",
     "output_type": "stream",
     "text": [
      "Some weights of the model checkpoint at bert-base-cased were not used when initializing BertForSequenceClassification: ['cls.predictions.transform.LayerNorm.bias', 'cls.seq_relationship.weight', 'cls.predictions.decoder.weight', 'cls.seq_relationship.bias', 'cls.predictions.bias', 'cls.predictions.transform.dense.weight', 'cls.predictions.transform.LayerNorm.weight', 'cls.predictions.transform.dense.bias']\n",
      "- This IS expected if you are initializing BertForSequenceClassification from the checkpoint of a model trained on another task or with another architecture (e.g. initializing a BertForSequenceClassification model from a BertForPreTraining model).\n",
      "- This IS NOT expected if you are initializing BertForSequenceClassification from the checkpoint of a model that you expect to be exactly identical (initializing a BertForSequenceClassification model from a BertForSequenceClassification model).\n",
      "Some weights of BertForSequenceClassification were not initialized from the model checkpoint at bert-base-cased and are newly initialized: ['classifier.bias', 'classifier.weight']\n",
      "You should probably TRAIN this model on a down-stream task to be able to use it for predictions and inference.\n"
     ]
    }
   ],
   "source": [
    "model_id = \"episodio_4_pred_4\"\n",
    "pred_file_name = f\"{model_id}.csv\"\n",
    "submit_message = \"Episodio 4 Prediccion 4 Bert Varias Epochs\"\n",
    "\n",
    "model_name = \"bert-base-cased\"\n",
    "tokenizer, model = get_tokenizer_and_model(model_name)\n",
    "\n",
    "df_base, df_test = load_dfs()\n",
    "df_train, df_val = train_test_split(df_base, test_size=0.066)\n",
    "ds_train, ds_val, ds_test = tokenize(tokenizer, df_train, df_val, df_test)"
   ]
  },
  {
   "cell_type": "code",
   "execution_count": 4,
   "id": "597b6c81",
   "metadata": {},
   "outputs": [
    {
     "data": {
      "text/html": [
       "\n",
       "    <div>\n",
       "      \n",
       "      <progress value='3556' max='3556' style='width:300px; height:20px; vertical-align: middle;'></progress>\n",
       "      [3556/3556 47:23, Epoch 4/4]\n",
       "    </div>\n",
       "    <table border=\"1\" class=\"dataframe\">\n",
       "  <thead>\n",
       "    <tr style=\"text-align: left;\">\n",
       "      <th>Epoch</th>\n",
       "      <th>Training Loss</th>\n",
       "      <th>Validation Loss</th>\n",
       "      <th>Accuracy</th>\n",
       "      <th>F1</th>\n",
       "      <th>Precision</th>\n",
       "      <th>Recall</th>\n",
       "    </tr>\n",
       "  </thead>\n",
       "  <tbody>\n",
       "    <tr>\n",
       "      <td>1</td>\n",
       "      <td>0.508900</td>\n",
       "      <td>0.466396</td>\n",
       "      <td>0.809145</td>\n",
       "      <td>0.769231</td>\n",
       "      <td>0.808081</td>\n",
       "      <td>0.733945</td>\n",
       "    </tr>\n",
       "    <tr>\n",
       "      <td>2</td>\n",
       "      <td>0.388600</td>\n",
       "      <td>0.465995</td>\n",
       "      <td>0.817097</td>\n",
       "      <td>0.779904</td>\n",
       "      <td>0.815000</td>\n",
       "      <td>0.747706</td>\n",
       "    </tr>\n",
       "    <tr>\n",
       "      <td>3</td>\n",
       "      <td>0.314500</td>\n",
       "      <td>0.651032</td>\n",
       "      <td>0.817097</td>\n",
       "      <td>0.771144</td>\n",
       "      <td>0.842391</td>\n",
       "      <td>0.711009</td>\n",
       "    </tr>\n",
       "    <tr>\n",
       "      <td>4</td>\n",
       "      <td>0.225300</td>\n",
       "      <td>0.765736</td>\n",
       "      <td>0.817097</td>\n",
       "      <td>0.781991</td>\n",
       "      <td>0.808824</td>\n",
       "      <td>0.756881</td>\n",
       "    </tr>\n",
       "  </tbody>\n",
       "</table><p>"
      ],
      "text/plain": [
       "<IPython.core.display.HTML object>"
      ]
     },
     "metadata": {},
     "output_type": "display_data"
    },
    {
     "data": {
      "text/plain": [
       "TrainOutput(global_step=3556, training_loss=0.3580994697201775, metrics={'train_runtime': 2844.4639, 'train_samples_per_second': 9.998, 'train_steps_per_second': 1.25, 'total_flos': 9462951556300800.0, 'train_loss': 0.3580994697201775, 'epoch': 4.0})"
      ]
     },
     "execution_count": 4,
     "metadata": {},
     "output_type": "execute_result"
    }
   ],
   "source": [
    "trainer = Trainer(model=model, args=get_train_args(model_id, epochs=4, save_steps=500), \n",
    "                  train_dataset=ds_train, \n",
    "                  eval_dataset=ds_val,\n",
    "                  compute_metrics=compute_metrics)\n",
    "\n",
    "trainer.train()"
   ]
  },
  {
   "cell_type": "code",
   "execution_count": 5,
   "id": "e1d0dce3",
   "metadata": {},
   "outputs": [
    {
     "data": {
      "text/html": [
       "\n",
       "    <div>\n",
       "      \n",
       "      <progress value='408' max='408' style='width:300px; height:20px; vertical-align: middle;'></progress>\n",
       "      [408/408 01:53]\n",
       "    </div>\n",
       "    "
      ],
      "text/plain": [
       "<IPython.core.display.HTML object>"
      ]
     },
     "metadata": {},
     "output_type": "display_data"
    }
   ],
   "source": [
    "df_res = get_submission(trainer, ds_test, pred_file_name)"
   ]
  },
  {
   "cell_type": "code",
   "execution_count": 6,
   "id": "1073c13c",
   "metadata": {},
   "outputs": [
    {
     "name": "stdout",
     "output_type": "stream",
     "text": [
      "stdout=\n",
      "Successfully submitted to Natural Language Processing with Disaster Tweets\n",
      "stderr=\n",
      "\r",
      "  0%|          | 0.00/22.2k [00:00<?, ?B/s]\r",
      "100%|██████████| 22.2k/22.2k [00:00<00:00, 120kB/s]\n",
      "\n"
     ]
    }
   ],
   "source": [
    "submit(pred_file_name, submit_message)"
   ]
  },
  {
   "cell_type": "code",
   "execution_count": 7,
   "id": "5796af76",
   "metadata": {},
   "outputs": [
    {
     "data": {
      "text/html": [
       "<div>\n",
       "<style scoped>\n",
       "    .dataframe tbody tr th:only-of-type {\n",
       "        vertical-align: middle;\n",
       "    }\n",
       "\n",
       "    .dataframe tbody tr th {\n",
       "        vertical-align: top;\n",
       "    }\n",
       "\n",
       "    .dataframe thead th {\n",
       "        text-align: right;\n",
       "    }\n",
       "</style>\n",
       "<table border=\"1\" class=\"dataframe\">\n",
       "  <thead>\n",
       "    <tr style=\"text-align: right;\">\n",
       "      <th></th>\n",
       "      <th>Score</th>\n",
       "    </tr>\n",
       "    <tr>\n",
       "      <th>Archivo</th>\n",
       "      <th></th>\n",
       "    </tr>\n",
       "  </thead>\n",
       "  <tbody>\n",
       "    <tr>\n",
       "      <th>episodio_4_pred_4.csv</th>\n",
       "      <td>0.81979</td>\n",
       "    </tr>\n",
       "    <tr>\n",
       "      <th>episodio_4_pred_2_checkpoint_2000.csv</th>\n",
       "      <td>0.80968</td>\n",
       "    </tr>\n",
       "    <tr>\n",
       "      <th>episodio_4_pred_2.csv</th>\n",
       "      <td>0.81734</td>\n",
       "    </tr>\n",
       "    <tr>\n",
       "      <th>episodio_4_pred_1.csv</th>\n",
       "      <td>0.81274</td>\n",
       "    </tr>\n",
       "    <tr>\n",
       "      <th>bert_first_submission.csv</th>\n",
       "      <td>0.80049</td>\n",
       "    </tr>\n",
       "  </tbody>\n",
       "</table>\n",
       "</div>"
      ],
      "text/plain": [
       "                                         Score\n",
       "Archivo                                       \n",
       "episodio_4_pred_4.csv                  0.81979\n",
       "episodio_4_pred_2_checkpoint_2000.csv  0.80968\n",
       "episodio_4_pred_2.csv                  0.81734\n",
       "episodio_4_pred_1.csv                  0.81274\n",
       "bert_first_submission.csv              0.80049"
      ]
     },
     "metadata": {},
     "output_type": "display_data"
    }
   ],
   "source": [
    "# Leaderbord - 744\n",
    "read_scores();"
   ]
  },
  {
   "cell_type": "code",
   "execution_count": null,
   "id": "f797e72b",
   "metadata": {},
   "outputs": [],
   "source": [
    "!sudo shutdown now"
   ]
  },
  {
   "cell_type": "code",
   "execution_count": null,
   "id": "76d6469f",
   "metadata": {},
   "outputs": [],
   "source": []
  }
 ],
 "metadata": {
  "kernelspec": {
   "display_name": "Python 3",
   "language": "python",
   "name": "python3"
  },
  "language_info": {
   "codemirror_mode": {
    "name": "ipython",
    "version": 3
   },
   "file_extension": ".py",
   "mimetype": "text/x-python",
   "name": "python",
   "nbconvert_exporter": "python",
   "pygments_lexer": "ipython3",
   "version": "3.7.10"
  }
 },
 "nbformat": 4,
 "nbformat_minor": 5
}

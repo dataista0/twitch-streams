{
 "cells": [
  {
   "cell_type": "markdown",
   "id": "a66fdded",
   "metadata": {},
   "source": [
    "# 🤗 Episodio 5 - RoBERTa\n"
   ]
  },
  {
   "cell_type": "code",
   "execution_count": 1,
   "id": "26b7e8c9",
   "metadata": {},
   "outputs": [
    {
     "name": "stdout",
     "output_type": "stream",
     "text": [
      "INFO:tensorflow:Enabling eager execution\n",
      "INFO:tensorflow:Enabling v2 tensorshape\n",
      "INFO:tensorflow:Enabling resource variables\n",
      "INFO:tensorflow:Enabling tensor equality\n",
      "INFO:tensorflow:Enabling control flow v2\n"
     ]
    },
    {
     "data": {
      "text/html": [
       "<style>.container { width:100% !important; }</style>"
      ],
      "text/plain": [
       "<IPython.core.display.HTML object>"
      ]
     },
     "metadata": {},
     "output_type": "display_data"
    }
   ],
   "source": [
    "import utils\n",
    "import importlib\n",
    "importlib.reload(utils)\n",
    "\n",
    "from sklearn.model_selection import train_test_split\n",
    "import numpy as np\n",
    "import pandas as pd\n",
    "from utils import get_submission, submit, get_tokenizer_and_model,\\\n",
    "                  compute_metrics, load_dfs, tokenize, get_train_args\n",
    "\n",
    "\n",
    "import transformers\n",
    "from transformers import Trainer\n",
    "transformers.logging.set_verbosity_warning()\n",
    "\n",
    "def read_scores():\n",
    "    s = !kaggle competitions submissions nlp-getting-started \n",
    "    df = pd.DataFrame([(l.split()[0], l.split()[-2]) for l in s[2:]], columns=[\"Archivo\", \"Score\"]).set_index(\"Archivo\")\n",
    "    display(df)\n",
    "    return df\n",
    "\n",
    "utils.nb_set_width()"
   ]
  },
  {
   "cell_type": "code",
   "execution_count": 11,
   "id": "1cd02996",
   "metadata": {},
   "outputs": [
    {
     "data": {
      "application/vnd.jupyter.widget-view+json": {
       "model_id": "41cab34c5954491c958c28092a0b67bd",
       "version_major": 2,
       "version_minor": 0
      },
      "text/plain": [
       "HBox(children=(FloatProgress(value=0.0, description='Downloading', max=481.0, style=ProgressStyle(description_…"
      ]
     },
     "metadata": {},
     "output_type": "display_data"
    },
    {
     "name": "stdout",
     "output_type": "stream",
     "text": [
      "\n"
     ]
    },
    {
     "data": {
      "application/vnd.jupyter.widget-view+json": {
       "model_id": "030135af5f51452bb3cb6d847b560e67",
       "version_major": 2,
       "version_minor": 0
      },
      "text/plain": [
       "HBox(children=(FloatProgress(value=0.0, description='Downloading', max=898823.0, style=ProgressStyle(descripti…"
      ]
     },
     "metadata": {},
     "output_type": "display_data"
    },
    {
     "name": "stdout",
     "output_type": "stream",
     "text": [
      "\n"
     ]
    },
    {
     "data": {
      "application/vnd.jupyter.widget-view+json": {
       "model_id": "8401e562a7c54f96a77b2abd7eb12b68",
       "version_major": 2,
       "version_minor": 0
      },
      "text/plain": [
       "HBox(children=(FloatProgress(value=0.0, description='Downloading', max=456318.0, style=ProgressStyle(descripti…"
      ]
     },
     "metadata": {},
     "output_type": "display_data"
    },
    {
     "name": "stdout",
     "output_type": "stream",
     "text": [
      "\n"
     ]
    },
    {
     "data": {
      "application/vnd.jupyter.widget-view+json": {
       "model_id": "22c30f073cab4c5f9a7b1c63fc7022b7",
       "version_major": 2,
       "version_minor": 0
      },
      "text/plain": [
       "HBox(children=(FloatProgress(value=0.0, description='Downloading', max=1355863.0, style=ProgressStyle(descript…"
      ]
     },
     "metadata": {},
     "output_type": "display_data"
    },
    {
     "name": "stdout",
     "output_type": "stream",
     "text": [
      "\n"
     ]
    },
    {
     "data": {
      "application/vnd.jupyter.widget-view+json": {
       "model_id": "aa0f7b3a3e0542c181dbe9717d9a536e",
       "version_major": 2,
       "version_minor": 0
      },
      "text/plain": [
       "HBox(children=(FloatProgress(value=0.0, description='Downloading', max=501200538.0, style=ProgressStyle(descri…"
      ]
     },
     "metadata": {},
     "output_type": "display_data"
    },
    {
     "name": "stdout",
     "output_type": "stream",
     "text": [
      "\n"
     ]
    },
    {
     "name": "stderr",
     "output_type": "stream",
     "text": [
      "Some weights of the model checkpoint at roberta-base were not used when initializing RobertaForSequenceClassification: ['roberta.pooler.dense.bias', 'lm_head.layer_norm.bias', 'lm_head.dense.bias', 'lm_head.bias', 'lm_head.layer_norm.weight', 'lm_head.decoder.weight', 'roberta.pooler.dense.weight', 'lm_head.dense.weight']\n",
      "- This IS expected if you are initializing RobertaForSequenceClassification from the checkpoint of a model trained on another task or with another architecture (e.g. initializing a BertForSequenceClassification model from a BertForPreTraining model).\n",
      "- This IS NOT expected if you are initializing RobertaForSequenceClassification from the checkpoint of a model that you expect to be exactly identical (initializing a BertForSequenceClassification model from a BertForSequenceClassification model).\n",
      "Some weights of RobertaForSequenceClassification were not initialized from the model checkpoint at roberta-base and are newly initialized: ['classifier.out_proj.bias', 'classifier.dense.weight', 'classifier.out_proj.weight', 'classifier.dense.bias']\n",
      "You should probably TRAIN this model on a down-stream task to be able to use it for predictions and inference.\n"
     ]
    }
   ],
   "source": [
    "model_id = \"episodio_5_part1\"\n",
    "pred_file_name = f\"{model_id}.csv\"\n",
    "submit_message = \"Episodio 5 RoBERTa Base\"\n",
    "\n",
    "model_name = \"roberta-base\"\n",
    "tokenizer, model = get_tokenizer_and_model(model_name)\n",
    "\n",
    "df_base, df_test = load_dfs()\n",
    "df_train, df_val = train_test_split(df_base, test_size=0.066)\n",
    "ds_train, ds_val, ds_test = tokenize(tokenizer, df_train, df_val, df_test)"
   ]
  },
  {
   "cell_type": "code",
   "execution_count": 12,
   "id": "d40e5a2f",
   "metadata": {},
   "outputs": [
    {
     "data": {
      "text/plain": [
       "503"
      ]
     },
     "execution_count": 12,
     "metadata": {},
     "output_type": "execute_result"
    }
   ],
   "source": [
    "len(ds_val)"
   ]
  },
  {
   "cell_type": "code",
   "execution_count": 13,
   "id": "597b6c81",
   "metadata": {},
   "outputs": [
    {
     "data": {
      "text/html": [
       "\n",
       "    <div>\n",
       "      \n",
       "      <progress value='889' max='889' style='width:300px; height:20px; vertical-align: middle;'></progress>\n",
       "      [889/889 12:09, Epoch 1/1]\n",
       "    </div>\n",
       "    <table border=\"1\" class=\"dataframe\">\n",
       "  <thead>\n",
       "    <tr style=\"text-align: left;\">\n",
       "      <th>Epoch</th>\n",
       "      <th>Training Loss</th>\n",
       "      <th>Validation Loss</th>\n",
       "      <th>Accuracy</th>\n",
       "      <th>F1</th>\n",
       "      <th>Precision</th>\n",
       "      <th>Recall</th>\n",
       "    </tr>\n",
       "  </thead>\n",
       "  <tbody>\n",
       "    <tr>\n",
       "      <td>1</td>\n",
       "      <td>0.525800</td>\n",
       "      <td>0.481705</td>\n",
       "      <td>0.829026</td>\n",
       "      <td>0.798122</td>\n",
       "      <td>0.829268</td>\n",
       "      <td>0.769231</td>\n",
       "    </tr>\n",
       "  </tbody>\n",
       "</table><p>"
      ],
      "text/plain": [
       "<IPython.core.display.HTML object>"
      ]
     },
     "metadata": {},
     "output_type": "display_data"
    },
    {
     "data": {
      "text/plain": [
       "TrainOutput(global_step=889, training_loss=0.5012093577261583, metrics={'train_runtime': 730.0794, 'train_samples_per_second': 9.739, 'train_steps_per_second': 1.218, 'total_flos': 2722533515366400.0, 'train_loss': 0.5012093577261583, 'epoch': 1.0})"
      ]
     },
     "execution_count": 13,
     "metadata": {},
     "output_type": "execute_result"
    }
   ],
   "source": [
    "trainer = Trainer(model=model, args=get_train_args(model_id, epochs=1, save_steps=500), \n",
    "                  train_dataset=ds_train, \n",
    "                  eval_dataset=ds_val,\n",
    "                  compute_metrics=compute_metrics)\n",
    "\n",
    "trainer.train()"
   ]
  },
  {
   "cell_type": "code",
   "execution_count": 15,
   "id": "e1d0dce3",
   "metadata": {},
   "outputs": [
    {
     "data": {
      "text/html": [
       "\n",
       "    <div>\n",
       "      \n",
       "      <progress value='408' max='408' style='width:300px; height:20px; vertical-align: middle;'></progress>\n",
       "      [408/408 01:44]\n",
       "    </div>\n",
       "    "
      ],
      "text/plain": [
       "<IPython.core.display.HTML object>"
      ]
     },
     "metadata": {},
     "output_type": "display_data"
    }
   ],
   "source": [
    "df_res = get_submission(trainer, ds_test, pred_file_name)"
   ]
  },
  {
   "cell_type": "code",
   "execution_count": 16,
   "id": "1073c13c",
   "metadata": {},
   "outputs": [
    {
     "name": "stdout",
     "output_type": "stream",
     "text": [
      "stdout=\n",
      "Successfully submitted to Natural Language Processing with Disaster Tweets\n",
      "stderr=\n",
      "\r",
      "  0%|          | 0.00/22.2k [00:00<?, ?B/s]\r",
      "100%|██████████| 22.2k/22.2k [00:00<00:00, 117kB/s]\n",
      "\n"
     ]
    }
   ],
   "source": [
    "submit(pred_file_name, submit_message)"
   ]
  },
  {
   "cell_type": "code",
   "execution_count": 18,
   "id": "5796af76",
   "metadata": {},
   "outputs": [
    {
     "data": {
      "text/html": [
       "<div>\n",
       "<style scoped>\n",
       "    .dataframe tbody tr th:only-of-type {\n",
       "        vertical-align: middle;\n",
       "    }\n",
       "\n",
       "    .dataframe tbody tr th {\n",
       "        vertical-align: top;\n",
       "    }\n",
       "\n",
       "    .dataframe thead th {\n",
       "        text-align: right;\n",
       "    }\n",
       "</style>\n",
       "<table border=\"1\" class=\"dataframe\">\n",
       "  <thead>\n",
       "    <tr style=\"text-align: right;\">\n",
       "      <th></th>\n",
       "      <th>Score</th>\n",
       "    </tr>\n",
       "    <tr>\n",
       "      <th>Archivo</th>\n",
       "      <th></th>\n",
       "    </tr>\n",
       "  </thead>\n",
       "  <tbody>\n",
       "    <tr>\n",
       "      <th>episodio_5_part1.csv</th>\n",
       "      <td>0.82562</td>\n",
       "    </tr>\n",
       "    <tr>\n",
       "      <th>episodio_5.csv</th>\n",
       "      <td>0.57033</td>\n",
       "    </tr>\n",
       "    <tr>\n",
       "      <th>episodio_4_pred_4.csv</th>\n",
       "      <td>0.81979</td>\n",
       "    </tr>\n",
       "    <tr>\n",
       "      <th>episodio_4_pred_2_checkpoint_2000.csv</th>\n",
       "      <td>0.80968</td>\n",
       "    </tr>\n",
       "    <tr>\n",
       "      <th>episodio_4_pred_2.csv</th>\n",
       "      <td>0.81734</td>\n",
       "    </tr>\n",
       "    <tr>\n",
       "      <th>episodio_4_pred_1.csv</th>\n",
       "      <td>0.81274</td>\n",
       "    </tr>\n",
       "    <tr>\n",
       "      <th>bert_first_submission.csv</th>\n",
       "      <td>0.80049</td>\n",
       "    </tr>\n",
       "  </tbody>\n",
       "</table>\n",
       "</div>"
      ],
      "text/plain": [
       "                                         Score\n",
       "Archivo                                       \n",
       "episodio_5_part1.csv                   0.82562\n",
       "episodio_5.csv                         0.57033\n",
       "episodio_4_pred_4.csv                  0.81979\n",
       "episodio_4_pred_2_checkpoint_2000.csv  0.80968\n",
       "episodio_4_pred_2.csv                  0.81734\n",
       "episodio_4_pred_1.csv                  0.81274\n",
       "bert_first_submission.csv              0.80049"
      ]
     },
     "metadata": {},
     "output_type": "display_data"
    }
   ],
   "source": [
    "# Leaderbord - 625 - 0.82562\n",
    "read_scores();"
   ]
  },
  {
   "cell_type": "code",
   "execution_count": 19,
   "id": "743a68ff",
   "metadata": {},
   "outputs": [
    {
     "data": {
      "text/plain": [
       "484"
      ]
     },
     "execution_count": 19,
     "metadata": {},
     "output_type": "execute_result"
    }
   ],
   "source": [
    "625 - 141"
   ]
  },
  {
   "cell_type": "code",
   "execution_count": 20,
   "id": "89faa972",
   "metadata": {},
   "outputs": [],
   "source": [
    "transformers.logging.set_verbosity_debug()"
   ]
  },
  {
   "cell_type": "code",
   "execution_count": 21,
   "id": "9da8854f",
   "metadata": {},
   "outputs": [
    {
     "name": "stderr",
     "output_type": "stream",
     "text": [
      "PyTorch: setting up devices\n",
      "The default value for the training argument `--report_to` will change in v5 (from all installed integrations to none). In v5, you will need to use `--report_to all` to get the same behavior as now. You should start updating your code and make this info disappear :-).\n",
      "***** Running training *****\n",
      "  Num examples = 7110\n",
      "  Num Epochs = 4\n",
      "  Instantaneous batch size per device = 8\n",
      "  Total train batch size (w. parallel, distributed & accumulation) = 8\n",
      "  Gradient Accumulation steps = 1\n",
      "  Total optimization steps = 3556\n"
     ]
    },
    {
     "data": {
      "text/html": [
       "\n",
       "    <div>\n",
       "      \n",
       "      <progress value='3556' max='3556' style='width:300px; height:20px; vertical-align: middle;'></progress>\n",
       "      [3556/3556 49:00, Epoch 4/4]\n",
       "    </div>\n",
       "    <table border=\"1\" class=\"dataframe\">\n",
       "  <thead>\n",
       "    <tr style=\"text-align: left;\">\n",
       "      <th>Epoch</th>\n",
       "      <th>Training Loss</th>\n",
       "      <th>Validation Loss</th>\n",
       "      <th>Accuracy</th>\n",
       "      <th>F1</th>\n",
       "      <th>Precision</th>\n",
       "      <th>Recall</th>\n",
       "    </tr>\n",
       "  </thead>\n",
       "  <tbody>\n",
       "    <tr>\n",
       "      <td>1</td>\n",
       "      <td>0.483200</td>\n",
       "      <td>0.506572</td>\n",
       "      <td>0.799205</td>\n",
       "      <td>0.768879</td>\n",
       "      <td>0.777778</td>\n",
       "      <td>0.760181</td>\n",
       "    </tr>\n",
       "    <tr>\n",
       "      <td>2</td>\n",
       "      <td>0.470500</td>\n",
       "      <td>0.470479</td>\n",
       "      <td>0.817097</td>\n",
       "      <td>0.760417</td>\n",
       "      <td>0.895706</td>\n",
       "      <td>0.660633</td>\n",
       "    </tr>\n",
       "    <tr>\n",
       "      <td>3</td>\n",
       "      <td>0.415400</td>\n",
       "      <td>0.484515</td>\n",
       "      <td>0.836978</td>\n",
       "      <td>0.805687</td>\n",
       "      <td>0.845771</td>\n",
       "      <td>0.769231</td>\n",
       "    </tr>\n",
       "    <tr>\n",
       "      <td>4</td>\n",
       "      <td>0.368400</td>\n",
       "      <td>0.510587</td>\n",
       "      <td>0.833002</td>\n",
       "      <td>0.809955</td>\n",
       "      <td>0.809955</td>\n",
       "      <td>0.809955</td>\n",
       "    </tr>\n",
       "  </tbody>\n",
       "</table><p>"
      ],
      "text/plain": [
       "<IPython.core.display.HTML object>"
      ]
     },
     "metadata": {},
     "output_type": "display_data"
    },
    {
     "name": "stderr",
     "output_type": "stream",
     "text": [
      "Saving model checkpoint to /home/dataista/git/twitch-streams/data/models/episodio_5_part1/checkpoint-500\n",
      "Configuration saved in /home/dataista/git/twitch-streams/data/models/episodio_5_part1/checkpoint-500/config.json\n",
      "Model weights saved in /home/dataista/git/twitch-streams/data/models/episodio_5_part1/checkpoint-500/pytorch_model.bin\n",
      "***** Running Evaluation *****\n",
      "  Num examples = 503\n",
      "  Batch size = 8\n",
      "Saving model checkpoint to /home/dataista/git/twitch-streams/data/models/episodio_5_part1/checkpoint-1000\n",
      "Configuration saved in /home/dataista/git/twitch-streams/data/models/episodio_5_part1/checkpoint-1000/config.json\n",
      "Model weights saved in /home/dataista/git/twitch-streams/data/models/episodio_5_part1/checkpoint-1000/pytorch_model.bin\n",
      "Saving model checkpoint to /home/dataista/git/twitch-streams/data/models/episodio_5_part1/checkpoint-1500\n",
      "Configuration saved in /home/dataista/git/twitch-streams/data/models/episodio_5_part1/checkpoint-1500/config.json\n",
      "Model weights saved in /home/dataista/git/twitch-streams/data/models/episodio_5_part1/checkpoint-1500/pytorch_model.bin\n",
      "***** Running Evaluation *****\n",
      "  Num examples = 503\n",
      "  Batch size = 8\n",
      "Saving model checkpoint to /home/dataista/git/twitch-streams/data/models/episodio_5_part1/checkpoint-2000\n",
      "Configuration saved in /home/dataista/git/twitch-streams/data/models/episodio_5_part1/checkpoint-2000/config.json\n",
      "Model weights saved in /home/dataista/git/twitch-streams/data/models/episodio_5_part1/checkpoint-2000/pytorch_model.bin\n",
      "Saving model checkpoint to /home/dataista/git/twitch-streams/data/models/episodio_5_part1/checkpoint-2500\n",
      "Configuration saved in /home/dataista/git/twitch-streams/data/models/episodio_5_part1/checkpoint-2500/config.json\n",
      "Model weights saved in /home/dataista/git/twitch-streams/data/models/episodio_5_part1/checkpoint-2500/pytorch_model.bin\n",
      "***** Running Evaluation *****\n",
      "  Num examples = 503\n",
      "  Batch size = 8\n",
      "Saving model checkpoint to /home/dataista/git/twitch-streams/data/models/episodio_5_part1/checkpoint-3000\n",
      "Configuration saved in /home/dataista/git/twitch-streams/data/models/episodio_5_part1/checkpoint-3000/config.json\n",
      "Model weights saved in /home/dataista/git/twitch-streams/data/models/episodio_5_part1/checkpoint-3000/pytorch_model.bin\n",
      "Saving model checkpoint to /home/dataista/git/twitch-streams/data/models/episodio_5_part1/checkpoint-3500\n",
      "Configuration saved in /home/dataista/git/twitch-streams/data/models/episodio_5_part1/checkpoint-3500/config.json\n",
      "Model weights saved in /home/dataista/git/twitch-streams/data/models/episodio_5_part1/checkpoint-3500/pytorch_model.bin\n",
      "***** Running Evaluation *****\n",
      "  Num examples = 503\n",
      "  Batch size = 8\n",
      "\n",
      "\n",
      "Training completed. Do not forget to share your model on huggingface.co/models =)\n",
      "\n",
      "\n"
     ]
    },
    {
     "data": {
      "text/plain": [
       "TrainOutput(global_step=3556, training_loss=0.4264886129827682, metrics={'train_runtime': 2940.9494, 'train_samples_per_second': 9.67, 'train_steps_per_second': 1.209, 'total_flos': 1.08901340614656e+16, 'train_loss': 0.4264886129827682, 'epoch': 4.0})"
      ]
     },
     "execution_count": 21,
     "metadata": {},
     "output_type": "execute_result"
    }
   ],
   "source": [
    "trainer = Trainer(model=model, args=get_train_args(model_id, epochs=4, save_steps=500), \n",
    "                  train_dataset=ds_train, \n",
    "                  eval_dataset=ds_val,\n",
    "                  compute_metrics=compute_metrics)\n",
    "\n",
    "trainer.train()"
   ]
  },
  {
   "cell_type": "code",
   "execution_count": 22,
   "id": "35b236de",
   "metadata": {},
   "outputs": [
    {
     "name": "stderr",
     "output_type": "stream",
     "text": [
      "***** Running Prediction *****\n",
      "  Num examples = 3263\n",
      "  Batch size = 8\n"
     ]
    },
    {
     "data": {
      "text/html": [
       "\n",
       "    <div>\n",
       "      \n",
       "      <progress value='408' max='408' style='width:300px; height:20px; vertical-align: middle;'></progress>\n",
       "      [408/408 01:44]\n",
       "    </div>\n",
       "    "
      ],
      "text/plain": [
       "<IPython.core.display.HTML object>"
      ]
     },
     "metadata": {},
     "output_type": "display_data"
    },
    {
     "name": "stdout",
     "output_type": "stream",
     "text": [
      "stdout=\n",
      "Successfully submitted to Natural Language Processing with Disaster Tweets\n",
      "stderr=\n",
      "\r",
      "  0%|          | 0.00/22.2k [00:00<?, ?B/s]\r",
      "100%|██████████| 22.2k/22.2k [00:00<00:00, 124kB/s]\n",
      "\n"
     ]
    }
   ],
   "source": [
    "model_id = \"episodio_5_part1-4-epochs\"\n",
    "pred_file_name = f\"{model_id}.csv\"\n",
    "submit_message = \"Episodio 5 RoBERTa Base Con 4 Epochs\"\n",
    "df_res = get_submission(trainer, ds_test, pred_file_name)\n",
    "submit(pred_file_name, submit_message)"
   ]
  },
  {
   "cell_type": "code",
   "execution_count": 24,
   "id": "8b03868b",
   "metadata": {},
   "outputs": [
    {
     "data": {
      "text/html": [
       "<div>\n",
       "<style scoped>\n",
       "    .dataframe tbody tr th:only-of-type {\n",
       "        vertical-align: middle;\n",
       "    }\n",
       "\n",
       "    .dataframe tbody tr th {\n",
       "        vertical-align: top;\n",
       "    }\n",
       "\n",
       "    .dataframe thead th {\n",
       "        text-align: right;\n",
       "    }\n",
       "</style>\n",
       "<table border=\"1\" class=\"dataframe\">\n",
       "  <thead>\n",
       "    <tr style=\"text-align: right;\">\n",
       "      <th></th>\n",
       "      <th>Score</th>\n",
       "    </tr>\n",
       "    <tr>\n",
       "      <th>Archivo</th>\n",
       "      <th></th>\n",
       "    </tr>\n",
       "  </thead>\n",
       "  <tbody>\n",
       "    <tr>\n",
       "      <th>episodio_5_part1-4-epochs.csv</th>\n",
       "      <td>0.81918</td>\n",
       "    </tr>\n",
       "    <tr>\n",
       "      <th>episodio_5_part1.csv</th>\n",
       "      <td>0.82562</td>\n",
       "    </tr>\n",
       "    <tr>\n",
       "      <th>episodio_5.csv</th>\n",
       "      <td>0.57033</td>\n",
       "    </tr>\n",
       "    <tr>\n",
       "      <th>episodio_4_pred_4.csv</th>\n",
       "      <td>0.81979</td>\n",
       "    </tr>\n",
       "    <tr>\n",
       "      <th>episodio_4_pred_2_checkpoint_2000.csv</th>\n",
       "      <td>0.80968</td>\n",
       "    </tr>\n",
       "    <tr>\n",
       "      <th>episodio_4_pred_2.csv</th>\n",
       "      <td>0.81734</td>\n",
       "    </tr>\n",
       "    <tr>\n",
       "      <th>episodio_4_pred_1.csv</th>\n",
       "      <td>0.81274</td>\n",
       "    </tr>\n",
       "    <tr>\n",
       "      <th>bert_first_submission.csv</th>\n",
       "      <td>0.80049</td>\n",
       "    </tr>\n",
       "  </tbody>\n",
       "</table>\n",
       "</div>"
      ],
      "text/plain": [
       "                                         Score\n",
       "Archivo                                       \n",
       "episodio_5_part1-4-epochs.csv          0.81918\n",
       "episodio_5_part1.csv                   0.82562\n",
       "episodio_5.csv                         0.57033\n",
       "episodio_4_pred_4.csv                  0.81979\n",
       "episodio_4_pred_2_checkpoint_2000.csv  0.80968\n",
       "episodio_4_pred_2.csv                  0.81734\n",
       "episodio_4_pred_1.csv                  0.81274\n",
       "bert_first_submission.csv              0.80049"
      ]
     },
     "metadata": {},
     "output_type": "display_data"
    }
   ],
   "source": [
    "# Leaderbord - ??\n",
    "read_scores();"
   ]
  },
  {
   "cell_type": "code",
   "execution_count": 26,
   "id": "9ed52ea8",
   "metadata": {},
   "outputs": [],
   "source": [
    "from transformers import AutoModelForSequenceClassification"
   ]
  },
  {
   "cell_type": "code",
   "execution_count": 27,
   "id": "324767d9",
   "metadata": {},
   "outputs": [
    {
     "name": "stderr",
     "output_type": "stream",
     "text": [
      "loading configuration file /home/dataista/git/twitch-streams/data/models/episodio_5_part1/checkpoint-2500/config.json\n",
      "Model config RobertaConfig {\n",
      "  \"_name_or_path\": \"roberta-base\",\n",
      "  \"architectures\": [\n",
      "    \"RobertaForSequenceClassification\"\n",
      "  ],\n",
      "  \"attention_probs_dropout_prob\": 0.1,\n",
      "  \"bos_token_id\": 0,\n",
      "  \"eos_token_id\": 2,\n",
      "  \"gradient_checkpointing\": false,\n",
      "  \"hidden_act\": \"gelu\",\n",
      "  \"hidden_dropout_prob\": 0.1,\n",
      "  \"hidden_size\": 768,\n",
      "  \"initializer_range\": 0.02,\n",
      "  \"intermediate_size\": 3072,\n",
      "  \"layer_norm_eps\": 1e-05,\n",
      "  \"max_position_embeddings\": 514,\n",
      "  \"model_type\": \"roberta\",\n",
      "  \"num_attention_heads\": 12,\n",
      "  \"num_hidden_layers\": 12,\n",
      "  \"pad_token_id\": 1,\n",
      "  \"position_embedding_type\": \"absolute\",\n",
      "  \"problem_type\": \"single_label_classification\",\n",
      "  \"transformers_version\": \"4.7.0.dev0\",\n",
      "  \"type_vocab_size\": 1,\n",
      "  \"use_cache\": true,\n",
      "  \"vocab_size\": 50265\n",
      "}\n",
      "\n",
      "loading weights file /home/dataista/git/twitch-streams/data/models/episodio_5_part1/checkpoint-2500/pytorch_model.bin\n",
      "All model checkpoint weights were used when initializing RobertaForSequenceClassification.\n",
      "\n",
      "All the weights of RobertaForSequenceClassification were initialized from the model checkpoint at /home/dataista/git/twitch-streams/data/models/episodio_5_part1/checkpoint-2500.\n",
      "If your task is similar to the task the model of the checkpoint was trained on, you can already use RobertaForSequenceClassification for predictions without further training.\n"
     ]
    }
   ],
   "source": [
    "path = \"/home/dataista/git/twitch-streams/data/models/episodio_5_part1/checkpoint-2500\"\n",
    "model = AutoModelForSequenceClassification.from_pretrained(path, num_labels=2)\n"
   ]
  },
  {
   "cell_type": "code",
   "execution_count": 28,
   "id": "dc0b5a0f",
   "metadata": {},
   "outputs": [
    {
     "name": "stderr",
     "output_type": "stream",
     "text": [
      "PyTorch: setting up devices\n",
      "The default value for the training argument `--report_to` will change in v5 (from all installed integrations to none). In v5, you will need to use `--report_to all` to get the same behavior as now. You should start updating your code and make this info disappear :-).\n"
     ]
    }
   ],
   "source": [
    "trainer = Trainer(model=model, args=get_train_args(model_id, epochs=4, save_steps=500), \n",
    "                  train_dataset=ds_train, \n",
    "                  eval_dataset=ds_val,\n",
    "                  compute_metrics=compute_metrics)"
   ]
  },
  {
   "cell_type": "code",
   "execution_count": 29,
   "id": "743c3ab3",
   "metadata": {},
   "outputs": [
    {
     "name": "stderr",
     "output_type": "stream",
     "text": [
      "***** Running Prediction *****\n",
      "  Num examples = 3263\n",
      "  Batch size = 8\n"
     ]
    },
    {
     "data": {
      "text/html": [
       "\n",
       "    <div>\n",
       "      \n",
       "      <progress value='408' max='408' style='width:300px; height:20px; vertical-align: middle;'></progress>\n",
       "      [408/408 01:44]\n",
       "    </div>\n",
       "    "
      ],
      "text/plain": [
       "<IPython.core.display.HTML object>"
      ]
     },
     "metadata": {},
     "output_type": "display_data"
    },
    {
     "name": "stdout",
     "output_type": "stream",
     "text": [
      "stdout=\n",
      "Successfully submitted to Natural Language Processing with Disaster Tweets\n",
      "stderr=\n",
      "\r",
      "  0%|          | 0.00/22.2k [00:00<?, ?B/s]\r",
      "100%|██████████| 22.2k/22.2k [00:00<00:00, 129kB/s]\n",
      "\n"
     ]
    }
   ],
   "source": [
    "model_id = \"episodio_5_part1-4-epochs-cp2500\"\n",
    "pred_file_name = f\"{model_id}.csv\"\n",
    "submit_message = \"Episodio 5 RoBERTa Base Con 4 Epochs Checkpoint 2500\"\n",
    "df_res = get_submission(trainer, ds_test, pred_file_name)\n",
    "submit(pred_file_name, submit_message)"
   ]
  },
  {
   "cell_type": "code",
   "execution_count": 30,
   "id": "471156a5",
   "metadata": {},
   "outputs": [
    {
     "data": {
      "text/html": [
       "<div>\n",
       "<style scoped>\n",
       "    .dataframe tbody tr th:only-of-type {\n",
       "        vertical-align: middle;\n",
       "    }\n",
       "\n",
       "    .dataframe tbody tr th {\n",
       "        vertical-align: top;\n",
       "    }\n",
       "\n",
       "    .dataframe thead th {\n",
       "        text-align: right;\n",
       "    }\n",
       "</style>\n",
       "<table border=\"1\" class=\"dataframe\">\n",
       "  <thead>\n",
       "    <tr style=\"text-align: right;\">\n",
       "      <th></th>\n",
       "      <th>Score</th>\n",
       "    </tr>\n",
       "    <tr>\n",
       "      <th>Archivo</th>\n",
       "      <th></th>\n",
       "    </tr>\n",
       "  </thead>\n",
       "  <tbody>\n",
       "    <tr>\n",
       "      <th>episodio_5_part1-4-epochs-cp2500.csv</th>\n",
       "      <td>0.82592</td>\n",
       "    </tr>\n",
       "    <tr>\n",
       "      <th>episodio_5_part1-4-epochs.csv</th>\n",
       "      <td>0.81918</td>\n",
       "    </tr>\n",
       "    <tr>\n",
       "      <th>episodio_5_part1.csv</th>\n",
       "      <td>0.82562</td>\n",
       "    </tr>\n",
       "    <tr>\n",
       "      <th>episodio_5.csv</th>\n",
       "      <td>0.57033</td>\n",
       "    </tr>\n",
       "    <tr>\n",
       "      <th>episodio_4_pred_4.csv</th>\n",
       "      <td>0.81979</td>\n",
       "    </tr>\n",
       "    <tr>\n",
       "      <th>episodio_4_pred_2_checkpoint_2000.csv</th>\n",
       "      <td>0.80968</td>\n",
       "    </tr>\n",
       "    <tr>\n",
       "      <th>episodio_4_pred_2.csv</th>\n",
       "      <td>0.81734</td>\n",
       "    </tr>\n",
       "    <tr>\n",
       "      <th>episodio_4_pred_1.csv</th>\n",
       "      <td>0.81274</td>\n",
       "    </tr>\n",
       "    <tr>\n",
       "      <th>bert_first_submission.csv</th>\n",
       "      <td>0.80049</td>\n",
       "    </tr>\n",
       "  </tbody>\n",
       "</table>\n",
       "</div>"
      ],
      "text/plain": [
       "                                         Score\n",
       "Archivo                                       \n",
       "episodio_5_part1-4-epochs-cp2500.csv   0.82592\n",
       "episodio_5_part1-4-epochs.csv          0.81918\n",
       "episodio_5_part1.csv                   0.82562\n",
       "episodio_5.csv                         0.57033\n",
       "episodio_4_pred_4.csv                  0.81979\n",
       "episodio_4_pred_2_checkpoint_2000.csv  0.80968\n",
       "episodio_4_pred_2.csv                  0.81734\n",
       "episodio_4_pred_1.csv                  0.81274\n",
       "bert_first_submission.csv              0.80049"
      ]
     },
     "metadata": {},
     "output_type": "display_data"
    }
   ],
   "source": [
    "# Leaderbord - 618 - 0.82592\n",
    "read_scores();"
   ]
  }
 ],
 "metadata": {
  "kernelspec": {
   "display_name": "Python 3",
   "language": "python",
   "name": "python3"
  },
  "language_info": {
   "codemirror_mode": {
    "name": "ipython",
    "version": 3
   },
   "file_extension": ".py",
   "mimetype": "text/x-python",
   "name": "python",
   "nbconvert_exporter": "python",
   "pygments_lexer": "ipython3",
   "version": "3.7.10"
  }
 },
 "nbformat": 4,
 "nbformat_minor": 5
}

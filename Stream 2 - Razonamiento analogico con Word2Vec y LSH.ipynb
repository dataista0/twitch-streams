{
 "cells": [
  {
   "cell_type": "markdown",
   "id": "8b7fb0b2",
   "metadata": {},
   "source": [
    "# Stream 2 - Razonamiento analogico con Word2Vec y LSH\n",
    "\n",
    "[twitch.tv/dataista0](twitch.tv/dataista0)\n",
    "\n",
    "### Referencias:\n",
    "\n",
    "* [Pagina de embeddings preentrenados de google](https://code.google.com/archive/p/word2vec/)\n",
    "* [Embeddings](https://drive.google.com/file/d/0B7XkCwpI5KDYNlNUTTlSS21pQmM/edit?resourcekey=0-wjGZdNAUop6WykTtMip30g)\n",
    "* [Distancia coseno](https://en.wikipedia.org/wiki/Cosine_similarity)"
   ]
  },
  {
   "cell_type": "markdown",
   "id": "a29b035b",
   "metadata": {},
   "source": [
    "## Primer acercamiento a `KeyedVectors`"
   ]
  },
  {
   "cell_type": "code",
   "execution_count": 2,
   "id": "8f817d61",
   "metadata": {},
   "outputs": [],
   "source": [
    "W2V_BIN = \"/media/dataista/DATA/embeddings/GoogleNews-vectors-negative300.bin\""
   ]
  },
  {
   "cell_type": "code",
   "execution_count": 4,
   "id": "503944cf",
   "metadata": {},
   "outputs": [],
   "source": [
    "from gensim.models import KeyedVectors"
   ]
  },
  {
   "cell_type": "code",
   "execution_count": 5,
   "id": "cf836328",
   "metadata": {},
   "outputs": [],
   "source": [
    "w2v = KeyedVectors.load_word2vec_format(W2V_BIN, binary=True)"
   ]
  },
  {
   "cell_type": "code",
   "execution_count": 7,
   "id": "5af49d16",
   "metadata": {},
   "outputs": [
    {
     "data": {
      "text/plain": [
       "['_adapt_by_suffix',\n",
       " '_load_specials',\n",
       " '_log_evaluate_word_analogies',\n",
       " '_save_specials',\n",
       " '_smart_save',\n",
       " '_upconvert_old_d2vkv',\n",
       " '_upconvert_old_vocab',\n",
       " 'add_lifecycle_event',\n",
       " 'add_vector',\n",
       " 'add_vectors',\n",
       " 'allocate_vecattrs',\n",
       " 'closer_than',\n",
       " 'cosine_similarities',\n",
       " 'distance',\n",
       " 'distances',\n",
       " 'doesnt_match',\n",
       " 'evaluate_word_analogies',\n",
       " 'evaluate_word_pairs',\n",
       " 'expandos',\n",
       " 'fill_norms',\n",
       " 'get_index',\n",
       " 'get_normed_vectors',\n",
       " 'get_vecattr',\n",
       " 'get_vector',\n",
       " 'has_index_for',\n",
       " 'index2entity',\n",
       " 'index2word',\n",
       " 'index_to_key',\n",
       " 'init_sims',\n",
       " 'intersect_word2vec_format',\n",
       " 'key_to_index',\n",
       " 'lifecycle_events',\n",
       " 'load',\n",
       " 'load_word2vec_format',\n",
       " 'log_accuracy',\n",
       " 'log_evaluate_word_pairs',\n",
       " 'mapfile_path',\n",
       " 'most_similar',\n",
       " 'most_similar_cosmul',\n",
       " 'most_similar_to_given',\n",
       " 'n_similarity',\n",
       " 'next_index',\n",
       " 'norms',\n",
       " 'rank',\n",
       " 'rank_by_centrality',\n",
       " 'relative_cosine_similarity',\n",
       " 'resize_vectors',\n",
       " 'save',\n",
       " 'save_word2vec_format',\n",
       " 'set_vecattr',\n",
       " 'similar_by_key',\n",
       " 'similar_by_vector',\n",
       " 'similar_by_word',\n",
       " 'similarity',\n",
       " 'similarity_unseen_docs',\n",
       " 'sort_by_descending_frequency',\n",
       " 'unit_normalize_all',\n",
       " 'vector_size',\n",
       " 'vectors',\n",
       " 'vectors_norm',\n",
       " 'vocab',\n",
       " 'wmdistance',\n",
       " 'word_vec',\n",
       " 'words_closer_than']"
      ]
     },
     "execution_count": 7,
     "metadata": {},
     "output_type": "execute_result"
    }
   ],
   "source": [
    "[a for a in dir(w2v) if not a.startswith(\"__\")]"
   ]
  },
  {
   "cell_type": "code",
   "execution_count": 8,
   "id": "151920c1",
   "metadata": {},
   "outputs": [
    {
     "data": {
      "text/plain": [
       "numpy.ndarray"
      ]
     },
     "execution_count": 8,
     "metadata": {},
     "output_type": "execute_result"
    }
   ],
   "source": [
    "type(w2v.vectors)"
   ]
  },
  {
   "cell_type": "code",
   "execution_count": 9,
   "id": "56c8a315",
   "metadata": {},
   "outputs": [
    {
     "data": {
      "text/plain": [
       "(3000000, 300)"
      ]
     },
     "execution_count": 9,
     "metadata": {},
     "output_type": "execute_result"
    }
   ],
   "source": [
    "w2v.vectors.shape"
   ]
  },
  {
   "cell_type": "code",
   "execution_count": 11,
   "id": "e44c2e08",
   "metadata": {},
   "outputs": [
    {
     "data": {
      "text/plain": [
       "array([ 0.001, -0.001,  0.   ,  0.002,  0.001, -0.001, -0.   , -0.   ,\n",
       "       -0.001,  0.001, -0.001, -0.001, -0.001,  0.001, -0.002, -0.001,\n",
       "        0.002, -0.001, -0.001,  0.001, -0.   , -0.001,  0.002, -0.   ,\n",
       "        0.   ,  0.002,  0.001, -0.001, -0.001,  0.002,  0.   , -0.001,\n",
       "       -0.   , -0.001,  0.002,  0.001, -0.001,  0.   ,  0.001,  0.   ,\n",
       "       -0.   , -0.001,  0.001, -0.   ,  0.   , -0.   ,  0.   , -0.   ,\n",
       "        0.001, -0.001, -0.   ,  0.001, -0.001, -0.002, -0.   , -0.001,\n",
       "       -0.001, -0.   ,  0.   , -0.001, -0.001,  0.001,  0.   , -0.   ,\n",
       "       -0.001,  0.   , -0.001, -0.001,  0.001,  0.001, -0.001, -0.001,\n",
       "        0.001,  0.001, -0.   ,  0.002, -0.002, -0.   ,  0.   ,  0.001,\n",
       "       -0.001, -0.   , -0.   , -0.   ,  0.001,  0.   ,  0.   , -0.001,\n",
       "        0.002,  0.001,  0.   , -0.001,  0.   ,  0.001, -0.001, -0.001,\n",
       "        0.001,  0.   ,  0.   , -0.001,  0.001,  0.001,  0.   , -0.001,\n",
       "       -0.001,  0.001, -0.001, -0.001,  0.   , -0.   , -0.001,  0.   ,\n",
       "       -0.002,  0.   , -0.001,  0.   , -0.   ,  0.001, -0.002,  0.002,\n",
       "        0.002, -0.   ,  0.001,  0.001, -0.001,  0.001, -0.001,  0.   ,\n",
       "       -0.001,  0.001, -0.001,  0.001, -0.001, -0.001,  0.002, -0.001,\n",
       "        0.001, -0.001, -0.001, -0.001,  0.   ,  0.   , -0.001,  0.   ,\n",
       "       -0.001,  0.001,  0.   , -0.002, -0.   ,  0.001, -0.001, -0.   ,\n",
       "        0.001, -0.001, -0.   , -0.001, -0.001, -0.001, -0.001,  0.001,\n",
       "        0.001, -0.   , -0.   ,  0.001, -0.001, -0.001,  0.   , -0.001,\n",
       "        0.   , -0.002, -0.   ,  0.001, -0.001, -0.002, -0.002,  0.001,\n",
       "        0.001,  0.   , -0.   ,  0.   , -0.   , -0.001, -0.001, -0.001,\n",
       "       -0.   ,  0.001,  0.001,  0.   , -0.001,  0.001,  0.   , -0.001,\n",
       "       -0.001, -0.001,  0.001,  0.   , -0.001,  0.001, -0.001,  0.   ,\n",
       "        0.001, -0.001, -0.002,  0.002, -0.001, -0.001,  0.002,  0.001,\n",
       "       -0.   ,  0.001,  0.001,  0.001, -0.002,  0.001,  0.001, -0.001,\n",
       "        0.001,  0.001,  0.001,  0.001, -0.001, -0.002,  0.001,  0.001,\n",
       "        0.002, -0.001, -0.001,  0.   , -0.   ,  0.   ,  0.002, -0.001,\n",
       "        0.001, -0.001, -0.   ,  0.   , -0.001, -0.   , -0.001, -0.   ,\n",
       "        0.001,  0.   , -0.001,  0.001,  0.001, -0.001,  0.   , -0.002,\n",
       "        0.   , -0.   , -0.001, -0.001,  0.001, -0.001, -0.   ,  0.   ,\n",
       "       -0.001,  0.   , -0.   ,  0.   , -0.   ,  0.001, -0.002,  0.001,\n",
       "       -0.001,  0.001, -0.001,  0.002,  0.001, -0.001,  0.001, -0.001,\n",
       "        0.   ,  0.001, -0.   ,  0.001,  0.001,  0.001, -0.001, -0.   ,\n",
       "       -0.   , -0.   ,  0.001, -0.001, -0.   ,  0.001, -0.   ,  0.001,\n",
       "       -0.001, -0.001, -0.002,  0.001, -0.   , -0.001,  0.001,  0.001,\n",
       "        0.001, -0.002, -0.   , -0.   ], dtype=float32)"
      ]
     },
     "execution_count": 11,
     "metadata": {},
     "output_type": "execute_result"
    }
   ],
   "source": [
    "w2v.vectors[0].round(3)"
   ]
  },
  {
   "cell_type": "code",
   "execution_count": 14,
   "id": "356e8275",
   "metadata": {},
   "outputs": [],
   "source": [
    "V = w2v.index_to_key"
   ]
  },
  {
   "cell_type": "code",
   "execution_count": 16,
   "id": "e753f6ab",
   "metadata": {},
   "outputs": [
    {
     "data": {
      "text/plain": [
       "'doing'"
      ]
     },
     "execution_count": 16,
     "metadata": {},
     "output_type": "execute_result"
    }
   ],
   "source": [
    "V[500]"
   ]
  },
  {
   "cell_type": "code",
   "execution_count": 17,
   "id": "6fc573c1",
   "metadata": {},
   "outputs": [],
   "source": [
    "E = w2v.vectors"
   ]
  },
  {
   "cell_type": "code",
   "execution_count": 18,
   "id": "7e718618",
   "metadata": {},
   "outputs": [
    {
     "data": {
      "text/plain": [
       "array([ 6.29882812e-02,  1.84570312e-01, -4.76074219e-02,  6.73828125e-02,\n",
       "       -1.61132812e-01,  7.86132812e-02,  2.69775391e-02,  5.76019287e-04,\n",
       "        4.37011719e-02,  2.96630859e-02,  6.49414062e-02, -1.79687500e-01,\n",
       "       -9.71679688e-02, -5.02929688e-02, -1.69921875e-01,  2.69531250e-01,\n",
       "       -7.22656250e-02,  9.61914062e-02,  1.02539062e-01, -1.91406250e-01,\n",
       "       -1.99890137e-03,  8.15429688e-02, -7.81250000e-02, -3.00292969e-02,\n",
       "        7.22656250e-02, -1.08398438e-01,  9.66796875e-02, -1.97265625e-01,\n",
       "       -6.78710938e-02,  4.76074219e-02, -4.46777344e-02, -5.90820312e-02,\n",
       "        6.54296875e-02, -8.05664062e-02,  9.61914062e-02,  4.90722656e-02,\n",
       "        1.04003906e-01, -3.44238281e-02,  1.80664062e-01,  1.30859375e-01,\n",
       "        1.64062500e-01,  1.02539062e-01,  2.77099609e-02, -6.59179688e-02,\n",
       "       -1.54296875e-01,  6.98242188e-02, -1.41601562e-01, -9.71679688e-02,\n",
       "       -2.33154297e-02, -7.81250000e-03, -5.88378906e-02,  9.76562500e-02,\n",
       "        9.08203125e-02, -1.92871094e-02,  1.15234375e-01,  1.47460938e-01,\n",
       "       -1.05590820e-02, -1.09863281e-02,  6.54296875e-02, -5.83496094e-02,\n",
       "        1.82617188e-01,  3.12500000e-01, -2.19726562e-01, -2.24609375e-01,\n",
       "        1.28906250e-01,  1.09375000e-01, -2.49023438e-01, -3.90625000e-02,\n",
       "       -7.03125000e-02, -1.84570312e-01,  2.75878906e-02,  8.30078125e-02,\n",
       "        1.01074219e-01,  1.79687500e-01, -2.32421875e-01, -8.64257812e-02,\n",
       "       -2.90527344e-02, -1.68945312e-01,  3.19824219e-02,  1.20605469e-01,\n",
       "       -1.09863281e-01,  7.91015625e-02,  7.37304688e-02,  5.56640625e-02,\n",
       "       -1.94549561e-03, -2.51953125e-01,  9.32617188e-02,  1.63085938e-01,\n",
       "        7.61718750e-02,  4.49218750e-02, -1.02539062e-01,  5.83496094e-02,\n",
       "        5.12695312e-02, -4.54101562e-02,  1.11328125e-01, -7.81250000e-02,\n",
       "        2.10937500e-01, -4.66308594e-02, -6.20117188e-02, -1.25000000e-01,\n",
       "       -4.16015625e-01, -1.54296875e-01,  6.59179688e-02, -2.63671875e-02,\n",
       "        2.44140625e-02, -7.17773438e-02, -1.69921875e-01, -7.76367188e-02,\n",
       "        3.06396484e-02, -1.04980469e-01, -3.78417969e-02, -1.79443359e-02,\n",
       "       -4.27246094e-02,  1.82617188e-01, -6.93359375e-02,  2.58789062e-02,\n",
       "        2.59765625e-01,  1.33666992e-02,  2.55126953e-02, -6.54296875e-02,\n",
       "       -1.40625000e-01,  1.67968750e-01, -1.11328125e-01,  2.32421875e-01,\n",
       "       -1.12304688e-01,  3.57055664e-03, -1.94335938e-01, -6.74438477e-03,\n",
       "       -1.04003906e-01, -1.03027344e-01, -2.22656250e-01, -2.33398438e-01,\n",
       "       -1.25000000e-01, -9.42382812e-02,  5.17578125e-02, -2.21679688e-01,\n",
       "        1.90429688e-01,  1.83593750e-01, -5.79833984e-03,  1.03027344e-01,\n",
       "       -1.50146484e-02, -9.37500000e-02,  6.50024414e-03, -2.57568359e-02,\n",
       "        1.19018555e-03, -2.19726562e-02, -2.04101562e-01, -2.01171875e-01,\n",
       "       -7.59887695e-03, -9.57031250e-02,  4.95605469e-02,  2.39257812e-01,\n",
       "       -1.77734375e-01,  1.47460938e-01,  8.83789062e-02,  8.59375000e-02,\n",
       "       -1.49414062e-01, -3.20312500e-01, -1.04980469e-02,  1.51367188e-01,\n",
       "       -1.14135742e-02,  3.08593750e-01, -9.57031250e-02,  1.49414062e-01,\n",
       "       -9.91210938e-02, -3.18359375e-01,  6.10351562e-02, -6.10351562e-02,\n",
       "        1.56250000e-01, -1.43554688e-01, -1.94335938e-01, -1.01074219e-01,\n",
       "        1.25976562e-01,  2.50244141e-02, -7.95898438e-02,  1.05285645e-03,\n",
       "        2.59765625e-01, -9.47265625e-02, -2.41699219e-02,  6.15234375e-02,\n",
       "       -5.22460938e-02, -1.49414062e-01,  1.51367188e-01, -4.02832031e-02,\n",
       "        7.27539062e-02, -6.83593750e-03,  5.52368164e-03,  1.50756836e-02,\n",
       "        3.17382812e-02, -1.08398438e-01, -8.72612000e-05,  2.96875000e-01,\n",
       "        2.24609375e-01, -5.68847656e-02, -5.44433594e-02, -1.38671875e-01,\n",
       "        7.32421875e-02,  5.59082031e-02,  9.13085938e-02, -1.24023438e-01,\n",
       "       -1.06933594e-01,  2.59765625e-01, -9.15527344e-03, -6.49414062e-02,\n",
       "       -5.68847656e-02,  2.36328125e-01, -2.53906250e-01, -8.93554688e-02,\n",
       "       -1.84570312e-01, -3.24707031e-02,  7.56835938e-02,  2.81250000e-01,\n",
       "       -3.27148438e-02,  5.20019531e-02,  7.81250000e-02, -1.72119141e-02,\n",
       "        7.12890625e-02,  3.68652344e-02, -4.73632812e-02,  6.68945312e-02,\n",
       "        8.54492188e-02, -8.98437500e-02, -1.47460938e-01,  1.50390625e-01,\n",
       "       -7.17163086e-03, -1.05468750e-01,  5.63964844e-02, -3.97949219e-02,\n",
       "       -1.09375000e-01, -4.11987305e-03,  2.75878906e-02, -2.14843750e-01,\n",
       "       -1.32446289e-02,  8.20312500e-02,  6.22558594e-02, -1.04980469e-01,\n",
       "        2.03857422e-02, -1.45507812e-01,  1.31835938e-01, -1.62109375e-01,\n",
       "       -1.01562500e-01,  1.79687500e-01, -1.14257812e-01, -1.26953125e-01,\n",
       "        5.61523438e-02, -8.34960938e-02,  7.93457031e-03,  6.78710938e-02,\n",
       "        3.10058594e-02, -2.96875000e-01,  3.29589844e-02,  1.32812500e-01,\n",
       "        1.36718750e-01,  1.89453125e-01,  1.36718750e-01, -6.49414062e-02,\n",
       "       -1.42822266e-02,  1.33789062e-01, -4.02832031e-02, -1.67968750e-01,\n",
       "       -7.53784180e-03,  1.35498047e-02,  2.40234375e-01,  3.51562500e-02,\n",
       "        7.03125000e-02,  7.17773438e-02,  7.71484375e-02,  7.32421875e-02,\n",
       "       -3.63769531e-02,  8.78906250e-02,  7.27539062e-02,  4.15039062e-02,\n",
       "        1.94335938e-01,  2.43164062e-01,  4.32128906e-02, -2.03125000e-01,\n",
       "       -1.80664062e-02,  5.05371094e-02, -6.88476562e-02, -1.22558594e-01,\n",
       "       -8.78906250e-03, -1.49414062e-01,  3.32031250e-02,  1.01074219e-01,\n",
       "        9.03320312e-02, -7.12890625e-02,  1.35742188e-01, -8.44726562e-02,\n",
       "        2.87109375e-01,  6.78710938e-02, -2.33398438e-01,  8.25195312e-02,\n",
       "       -2.75390625e-01,  9.71679688e-02, -2.21679688e-01,  1.39648438e-01,\n",
       "        3.41796875e-01,  1.36718750e-01,  1.68945312e-01, -1.00097656e-01],\n",
       "      dtype=float32)"
      ]
     },
     "execution_count": 18,
     "metadata": {},
     "output_type": "execute_result"
    }
   ],
   "source": [
    "E[500]"
   ]
  },
  {
   "cell_type": "code",
   "execution_count": 19,
   "id": "a658cca8",
   "metadata": {},
   "outputs": [
    {
     "data": {
      "text/plain": [
       "array([ 0.0123291 ,  0.20410156, -0.28515625,  0.21679688,  0.11816406,\n",
       "        0.08300781,  0.04980469, -0.00952148,  0.22070312, -0.12597656,\n",
       "        0.08056641, -0.5859375 , -0.00445557, -0.296875  , -0.01312256,\n",
       "       -0.08349609,  0.05053711,  0.15136719, -0.44921875, -0.0135498 ,\n",
       "        0.21484375, -0.14746094,  0.22460938, -0.125     , -0.09716797,\n",
       "        0.24902344, -0.2890625 ,  0.36523438,  0.41210938, -0.0859375 ,\n",
       "       -0.07861328, -0.19726562, -0.09082031, -0.14160156, -0.10253906,\n",
       "        0.13085938, -0.00346375,  0.07226562,  0.04418945,  0.34570312,\n",
       "        0.07470703, -0.11230469,  0.06738281,  0.11230469,  0.01977539,\n",
       "       -0.12353516,  0.20996094, -0.07226562, -0.02783203,  0.05541992,\n",
       "       -0.33398438,  0.08544922,  0.34375   ,  0.13964844,  0.04931641,\n",
       "       -0.13476562,  0.16308594, -0.37304688,  0.39648438,  0.10693359,\n",
       "        0.22167969,  0.21289062, -0.08984375,  0.20703125,  0.08935547,\n",
       "       -0.08251953,  0.05957031,  0.10205078, -0.19238281, -0.09082031,\n",
       "        0.4921875 ,  0.03955078, -0.07080078, -0.0019989 , -0.23046875,\n",
       "        0.25585938,  0.08984375, -0.10644531,  0.00105286, -0.05883789,\n",
       "        0.05102539, -0.0291748 ,  0.19335938, -0.14160156, -0.33398438,\n",
       "        0.08154297, -0.27539062,  0.10058594, -0.10449219, -0.12353516,\n",
       "       -0.140625  ,  0.03491211, -0.11767578, -0.1796875 , -0.21484375,\n",
       "       -0.23828125,  0.08447266, -0.07519531, -0.25976562, -0.21289062,\n",
       "       -0.22363281, -0.09716797,  0.11572266,  0.15429688,  0.07373047,\n",
       "       -0.27539062,  0.14257812, -0.0201416 ,  0.10009766, -0.19042969,\n",
       "       -0.09375   ,  0.14160156,  0.17089844,  0.3125    , -0.16699219,\n",
       "       -0.08691406, -0.05004883, -0.24902344, -0.20800781, -0.09423828,\n",
       "       -0.12255859, -0.09472656, -0.390625  , -0.06640625, -0.31640625,\n",
       "        0.10986328, -0.00156403,  0.04345703,  0.15625   , -0.18945312,\n",
       "       -0.03491211,  0.03393555, -0.14453125,  0.01611328, -0.14160156,\n",
       "       -0.02392578,  0.01501465,  0.07568359,  0.10742188,  0.12695312,\n",
       "        0.10693359, -0.01184082, -0.24023438,  0.0291748 ,  0.16210938,\n",
       "        0.19921875, -0.28125   ,  0.16699219, -0.11621094, -0.25585938,\n",
       "        0.38671875, -0.06640625, -0.4609375 , -0.06176758, -0.14453125,\n",
       "       -0.11621094,  0.05688477,  0.03588867, -0.10693359,  0.18847656,\n",
       "       -0.16699219, -0.01794434,  0.10986328, -0.12353516, -0.16308594,\n",
       "       -0.14453125,  0.12890625,  0.11523438,  0.13671875,  0.05688477,\n",
       "       -0.08105469, -0.06152344, -0.06689453,  0.27929688, -0.19628906,\n",
       "        0.07226562,  0.12304688, -0.20996094, -0.22070312,  0.21386719,\n",
       "       -0.1484375 , -0.05932617,  0.05224609,  0.06445312, -0.02636719,\n",
       "        0.13183594,  0.19433594,  0.27148438,  0.18652344,  0.140625  ,\n",
       "        0.06542969, -0.14453125,  0.05029297,  0.08837891,  0.12255859,\n",
       "        0.26757812,  0.0534668 , -0.32226562, -0.20703125,  0.18164062,\n",
       "        0.04418945, -0.22167969, -0.13769531, -0.04174805, -0.00286865,\n",
       "        0.04077148,  0.07275391, -0.08300781,  0.08398438, -0.3359375 ,\n",
       "       -0.40039062,  0.01757812, -0.18652344, -0.0480957 , -0.19140625,\n",
       "        0.10107422,  0.09277344, -0.30664062, -0.19921875, -0.0168457 ,\n",
       "        0.12207031,  0.14648438, -0.12890625, -0.23535156, -0.05371094,\n",
       "       -0.06640625,  0.06884766, -0.03637695,  0.2109375 , -0.06005859,\n",
       "        0.19335938,  0.05151367, -0.05322266,  0.02893066, -0.27539062,\n",
       "        0.08447266,  0.328125  ,  0.01818848,  0.01495361,  0.04711914,\n",
       "        0.37695312, -0.21875   , -0.03393555,  0.01116943,  0.36914062,\n",
       "        0.02160645,  0.03466797,  0.07275391,  0.16015625, -0.16503906,\n",
       "       -0.296875  ,  0.15039062, -0.29101562,  0.13964844,  0.00448608,\n",
       "        0.171875  , -0.21972656,  0.09326172, -0.19042969,  0.01599121,\n",
       "       -0.09228516,  0.15722656, -0.14160156, -0.0534668 ,  0.03613281,\n",
       "        0.23632812, -0.15136719, -0.00689697, -0.27148438, -0.07128906,\n",
       "       -0.16503906,  0.18457031, -0.08398438,  0.18554688,  0.11669922,\n",
       "        0.02758789, -0.04760742,  0.17871094,  0.06542969, -0.03540039,\n",
       "        0.22949219,  0.02697754, -0.09765625,  0.26953125,  0.08349609,\n",
       "       -0.13085938, -0.10107422, -0.00738525,  0.07128906,  0.14941406,\n",
       "       -0.20605469,  0.18066406, -0.15820312,  0.05932617,  0.28710938,\n",
       "       -0.04663086,  0.15136719,  0.4921875 , -0.27539062,  0.05615234],\n",
       "      dtype=float32)"
      ]
     },
     "execution_count": 19,
     "metadata": {},
     "output_type": "execute_result"
    }
   ],
   "source": [
    "w2v.get_vector(\"cat\")"
   ]
  },
  {
   "cell_type": "markdown",
   "id": "3939576e",
   "metadata": {},
   "source": [
    "# Razonamiento analogico out-of-the-box"
   ]
  },
  {
   "cell_type": "code",
   "execution_count": 27,
   "id": "420a2f1c",
   "metadata": {},
   "outputs": [],
   "source": [
    "man = w2v.get_vector(\"man\")\n",
    "woman = w2v.get_vector(\"woman\")\n",
    "king = w2v.get_vector(\"king\")\n",
    "queen = w2v.get_vector(\"queen\")"
   ]
  },
  {
   "cell_type": "code",
   "execution_count": 24,
   "id": "77910283",
   "metadata": {},
   "outputs": [],
   "source": [
    "diff = woman - man"
   ]
  },
  {
   "cell_type": "code",
   "execution_count": 26,
   "id": "bac78365",
   "metadata": {},
   "outputs": [],
   "source": [
    "tentative_queen = (king - man + woman)"
   ]
  },
  {
   "cell_type": "code",
   "execution_count": 30,
   "id": "f846301e",
   "metadata": {},
   "outputs": [],
   "source": [
    "import numpy as np"
   ]
  },
  {
   "cell_type": "code",
   "execution_count": 37,
   "id": "38e7fa06",
   "metadata": {},
   "outputs": [
    {
     "data": {
      "text/plain": [
       "[('king', 0.8449392318725586),\n",
       " ('queen', 0.7300517559051514),\n",
       " ('monarch', 0.645466148853302),\n",
       " ('princess', 0.6156251430511475),\n",
       " ('crown_prince', 0.5818676352500916),\n",
       " ('prince', 0.5777117609977722),\n",
       " ('kings', 0.5613663792610168),\n",
       " ('sultan', 0.5376775860786438),\n",
       " ('Queen_Consort', 0.5344247817993164),\n",
       " ('queens', 0.5289887189865112)]"
      ]
     },
     "execution_count": 37,
     "metadata": {},
     "output_type": "execute_result"
    }
   ],
   "source": [
    "w2v.most_similar([tentative_queen])"
   ]
  },
  {
   "cell_type": "code",
   "execution_count": 34,
   "id": "6fed255f",
   "metadata": {},
   "outputs": [
    {
     "data": {
      "text/plain": [
       "0.73005176"
      ]
     },
     "execution_count": 34,
     "metadata": {},
     "output_type": "execute_result"
    }
   ],
   "source": [
    "np.dot(queen,tentative_queen) / (np.sqrt((np.sum(queen**2))) * np.sqrt(np.sum(tentative_queen**2)))"
   ]
  },
  {
   "cell_type": "code",
   "execution_count": 35,
   "id": "39bb24aa",
   "metadata": {},
   "outputs": [
    {
     "data": {
      "text/plain": [
       "0.65109557"
      ]
     },
     "execution_count": 35,
     "metadata": {},
     "output_type": "execute_result"
    }
   ],
   "source": [
    "np.dot(queen,king) / (np.sqrt((np.sum(queen**2))) * np.sqrt(np.sum(king**2)))"
   ]
  },
  {
   "cell_type": "code",
   "execution_count": 39,
   "id": "366c4e47",
   "metadata": {},
   "outputs": [],
   "source": [
    "paris = w2v.get_vector(\"paris\")\n",
    "france = w2v.get_vector(\"france\")\n",
    "italy = w2v.get_vector(\"italy\")\n",
    "tentative_rome = (paris - france + italy)"
   ]
  },
  {
   "cell_type": "code",
   "execution_count": 40,
   "id": "a98b46c5",
   "metadata": {},
   "outputs": [
    {
     "data": {
      "text/plain": [
       "[('paris', 0.719919741153717),\n",
       " ('italy', 0.6780312657356262),\n",
       " ('lohan', 0.5029091835021973),\n",
       " ('madrid', 0.47835028171539307),\n",
       " ('heidi', 0.47402819991111755),\n",
       " ('real_madrid', 0.47205063700675964),\n",
       " ('juventus', 0.4643799066543579),\n",
       " ('diego', 0.4630090594291687),\n",
       " ('ronnie', 0.462673544883728),\n",
       " ('florence', 0.4626060128211975)]"
      ]
     },
     "execution_count": 40,
     "metadata": {},
     "output_type": "execute_result"
    }
   ],
   "source": [
    "w2v.most_similar([tentative_rome])"
   ]
  },
  {
   "cell_type": "code",
   "execution_count": 73,
   "id": "c5bdec2d",
   "metadata": {},
   "outputs": [
    {
     "data": {
      "text/plain": [
       "[('paris', 0.719919741153717),\n",
       " ('italy', 0.6780312657356262),\n",
       " ('lohan', 0.5029091835021973),\n",
       " ('madrid', 0.47835028171539307),\n",
       " ('heidi', 0.47402819991111755),\n",
       " ('real_madrid', 0.47205063700675964),\n",
       " ('juventus', 0.4643799066543579),\n",
       " ('diego', 0.4630090594291687),\n",
       " ('ronnie', 0.462673544883728),\n",
       " ('florence', 0.4626060128211975)]"
      ]
     },
     "execution_count": 73,
     "metadata": {},
     "output_type": "execute_result"
    }
   ],
   "source": [
    "paris = w2v.get_vector(\"paris\")\n",
    "france = w2v.get_vector(\"france\")\n",
    "rome = w2v.get_vector(\"rome\")\n",
    "italy = w2v.get_vector(\"italy\")\n",
    "w2v.most_similar([(paris - france + italy)])"
   ]
  },
  {
   "cell_type": "code",
   "execution_count": 46,
   "id": "b2ed78d7",
   "metadata": {},
   "outputs": [],
   "source": [
    "def cosine_similarity(v, w):\n",
    "    norm_v = np.sqrt(np.sum(v**2))\n",
    "    norm_w = np.sqrt(np.sum(w**2))\n",
    "    return np.dot(v, w) / (norm_v * norm_w)"
   ]
  },
  {
   "cell_type": "code",
   "execution_count": 47,
   "id": "c6c13ebb",
   "metadata": {},
   "outputs": [
    {
     "data": {
      "text/plain": [
       "0.9999999999999998"
      ]
     },
     "execution_count": 47,
     "metadata": {},
     "output_type": "execute_result"
    }
   ],
   "source": [
    "v = np.array([1, 1])\n",
    "w = np.array([-1, 1])\n",
    "cosine_similarity(v, v)"
   ]
  },
  {
   "cell_type": "code",
   "execution_count": 48,
   "id": "bbe5f0ca",
   "metadata": {},
   "outputs": [
    {
     "data": {
      "text/plain": [
       "0.9999999999999998"
      ]
     },
     "execution_count": 48,
     "metadata": {},
     "output_type": "execute_result"
    }
   ],
   "source": [
    "cosine_similarity(v, v)"
   ]
  },
  {
   "cell_type": "code",
   "execution_count": 49,
   "id": "2cd721d1",
   "metadata": {},
   "outputs": [
    {
     "data": {
      "text/plain": [
       "0.9999999999999999"
      ]
     },
     "execution_count": 49,
     "metadata": {},
     "output_type": "execute_result"
    }
   ],
   "source": [
    "cosine_similarity(v, 50*v)"
   ]
  },
  {
   "cell_type": "code",
   "execution_count": 50,
   "id": "06c8206f",
   "metadata": {},
   "outputs": [
    {
     "data": {
      "text/plain": [
       "0.0"
      ]
     },
     "execution_count": 50,
     "metadata": {},
     "output_type": "execute_result"
    }
   ],
   "source": [
    "cosine_similarity(v, w)"
   ]
  },
  {
   "cell_type": "code",
   "execution_count": 51,
   "id": "fbd09d48",
   "metadata": {},
   "outputs": [
    {
     "data": {
      "text/plain": [
       "0.0"
      ]
     },
     "execution_count": 51,
     "metadata": {},
     "output_type": "execute_result"
    }
   ],
   "source": [
    "cosine_similarity(v, 50*w)"
   ]
  },
  {
   "cell_type": "code",
   "execution_count": 52,
   "id": "3ae57487",
   "metadata": {},
   "outputs": [
    {
     "data": {
      "text/plain": [
       "-0.9999999999999998"
      ]
     },
     "execution_count": 52,
     "metadata": {},
     "output_type": "execute_result"
    }
   ],
   "source": [
    "cosine_similarity(v, -v)"
   ]
  },
  {
   "cell_type": "code",
   "execution_count": 53,
   "id": "406f3575",
   "metadata": {},
   "outputs": [
    {
     "data": {
      "text/plain": [
       "(3000000, 300)"
      ]
     },
     "execution_count": 53,
     "metadata": {},
     "output_type": "execute_result"
    }
   ],
   "source": [
    "E.shape"
   ]
  },
  {
   "cell_type": "code",
   "execution_count": 55,
   "id": "9da5b074",
   "metadata": {},
   "outputs": [],
   "source": [
    "def distances_to_all_embeddings(v, E):\n",
    "    return [cosine_similarity(v, e) for e in E]"
   ]
  },
  {
   "cell_type": "code",
   "execution_count": 56,
   "id": "89c9c649",
   "metadata": {},
   "outputs": [
    {
     "name": "stdout",
     "output_type": "stream",
     "text": [
      "CPU times: user 45.9 s, sys: 264 ms, total: 46.2 s\n",
      "Wall time: 46.2 s\n"
     ]
    }
   ],
   "source": [
    "%%time\n",
    "distances = distances_to_all_embeddings(paris, E)"
   ]
  },
  {
   "cell_type": "code",
   "execution_count": 57,
   "id": "258a3815",
   "metadata": {},
   "outputs": [
    {
     "data": {
      "text/plain": [
       "3000000"
      ]
     },
     "execution_count": 57,
     "metadata": {},
     "output_type": "execute_result"
    }
   ],
   "source": [
    "len(distances)"
   ]
  },
  {
   "cell_type": "code",
   "execution_count": 62,
   "id": "2bc1ae78",
   "metadata": {},
   "outputs": [],
   "source": [
    "res = sorted(zip(V, distances), key=lambda x:x[1], reverse=True)"
   ]
  },
  {
   "cell_type": "code",
   "execution_count": 63,
   "id": "c72a306e",
   "metadata": {},
   "outputs": [
    {
     "data": {
      "text/plain": [
       "[('paris', 1.0),\n",
       " ('heidi', 0.5592167),\n",
       " ('london', 0.55557746),\n",
       " ('france', 0.5550796),\n",
       " ('dubai', 0.5532332),\n",
       " ('samuel', 0.5494195),\n",
       " ('hilton', 0.54728687),\n",
       " ('rome', 0.5465838),\n",
       " ('toronto', 0.5457153),\n",
       " ('las_vegas', 0.54417396)]"
      ]
     },
     "execution_count": 63,
     "metadata": {},
     "output_type": "execute_result"
    }
   ],
   "source": [
    "res[:10]"
   ]
  },
  {
   "cell_type": "code",
   "execution_count": 64,
   "id": "e1564642",
   "metadata": {},
   "outputs": [
    {
     "name": "stdout",
     "output_type": "stream",
     "text": [
      "CPU times: user 47.4 s, sys: 213 ms, total: 47.6 s\n",
      "Wall time: 47.5 s\n"
     ]
    },
    {
     "data": {
      "text/plain": [
       "[('italy', 0.78527325),\n",
       " ('france', 0.73938006),\n",
       " ('england', 0.56749296),\n",
       " ('italians', 0.5615107),\n",
       " ('juve', 0.5468682),\n",
       " ('spain', 0.5414675),\n",
       " ('europe', 0.5414587),\n",
       " ('italian', 0.54065686),\n",
       " ('lazio', 0.5280035),\n",
       " ('european', 0.5217158)]"
      ]
     },
     "execution_count": 64,
     "metadata": {},
     "output_type": "execute_result"
    }
   ],
   "source": [
    "%%time\n",
    "tentative_rome = (paris - france + italy)\n",
    "distances = distances_to_all_embeddings(tentative_rome, E)\n",
    "res = sorted(zip(V, distances), key=lambda x:x[1], reverse=True)\n",
    "res[:10]"
   ]
  },
  {
   "cell_type": "code",
   "execution_count": 65,
   "id": "71b0b293",
   "metadata": {},
   "outputs": [
    {
     "data": {
      "text/plain": [
       "[('italy', 0.78527325),\n",
       " ('france', 0.73938006),\n",
       " ('england', 0.56749296),\n",
       " ('italians', 0.5615107),\n",
       " ('juve', 0.5468682),\n",
       " ('spain', 0.5414675),\n",
       " ('europe', 0.5414587),\n",
       " ('italian', 0.54065686),\n",
       " ('lazio', 0.5280035),\n",
       " ('european', 0.5217158)]"
      ]
     },
     "execution_count": 65,
     "metadata": {},
     "output_type": "execute_result"
    }
   ],
   "source": [
    "res[:10]"
   ]
  },
  {
   "cell_type": "markdown",
   "id": "491cc9e4",
   "metadata": {},
   "source": [
    "Los resultados no parecen muy prometedores... ¿qué pasó?"
   ]
  },
  {
   "cell_type": "markdown",
   "id": "4324685e",
   "metadata": {},
   "source": [
    "https://stackoverflow.com/questions/52364632/what-is-the-operation-behind-the-word-analogy-in-word2vec"
   ]
  },
  {
   "cell_type": "code",
   "execution_count": null,
   "id": "f0f30724",
   "metadata": {},
   "outputs": [],
   "source": [
    "# wv('Paris') - wv('France') + wv('Italy`)"
   ]
  },
  {
   "cell_type": "code",
   "execution_count": 71,
   "id": "eb73f817",
   "metadata": {},
   "outputs": [
    {
     "data": {
      "text/plain": [
       "[('Milan', 0.7251641750335693),\n",
       " ('Rome', 0.7073156237602234),\n",
       " ('Italy', 0.6847635507583618),\n",
       " ('Paris', 0.6693719625473022),\n",
       " ('Palermo_Sicily', 0.6014109253883362),\n",
       " ('Italian', 0.596384584903717),\n",
       " ('Tuscany', 0.5672276020050049),\n",
       " ('Sicily', 0.5654013752937317),\n",
       " ('Bologna', 0.5645887851715088),\n",
       " ('Bologna_Italy', 0.5513801574707031)]"
      ]
     },
     "execution_count": 71,
     "metadata": {},
     "output_type": "execute_result"
    }
   ],
   "source": [
    "paris = w2v.get_vector(\"Paris\")\n",
    "france = w2v.get_vector(\"France\")\n",
    "rome = w2v.get_vector(\"Rome\")\n",
    "italy = w2v.get_vector(\"Italy\")\n",
    "w2v.most_similar([(paris - france + italy)])"
   ]
  },
  {
   "cell_type": "code",
   "execution_count": 72,
   "id": "734a9cb7",
   "metadata": {},
   "outputs": [
    {
     "name": "stdout",
     "output_type": "stream",
     "text": [
      "CPU times: user 50.9 s, sys: 272 ms, total: 51.2 s\n",
      "Wall time: 51.2 s\n"
     ]
    },
    {
     "data": {
      "text/plain": [
       "[('Milan', 0.7251641),\n",
       " ('Rome', 0.70731556),\n",
       " ('Italy', 0.6847636),\n",
       " ('Paris', 0.6693719),\n",
       " ('Palermo_Sicily', 0.601411),\n",
       " ('Italian', 0.5963846),\n",
       " ('Tuscany', 0.56722766),\n",
       " ('Sicily', 0.5654014),\n",
       " ('Bologna', 0.5645887),\n",
       " ('Bologna_Italy', 0.55138016)]"
      ]
     },
     "execution_count": 72,
     "metadata": {},
     "output_type": "execute_result"
    }
   ],
   "source": [
    "%%time\n",
    "tentative_rome = (paris - france + italy)\n",
    "distances = distances_to_all_embeddings(tentative_rome, E)\n",
    "res = sorted(zip(V, distances), key=lambda x:x[1], reverse=True)\n",
    "res[:10]"
   ]
  },
  {
   "cell_type": "code",
   "execution_count": 74,
   "id": "c820d861",
   "metadata": {},
   "outputs": [],
   "source": [
    "man = w2v.get_vector(\"Man\")\n",
    "woman = w2v.get_vector(\"Woman\")\n",
    "king = w2v.get_vector(\"King\")\n",
    "queen = w2v.get_vector(\"Queen\")"
   ]
  },
  {
   "cell_type": "code",
   "execution_count": 75,
   "id": "523eb8e2",
   "metadata": {},
   "outputs": [],
   "source": [
    "tentative_queen = king - man + woman"
   ]
  },
  {
   "cell_type": "code",
   "execution_count": 76,
   "id": "98f69c65",
   "metadata": {},
   "outputs": [
    {
     "data": {
      "text/plain": [
       "[('King', 0.5864337682723999),\n",
       " ('Woman', 0.4632062017917633),\n",
       " ('Queen', 0.4424014389514923),\n",
       " ('Adrianna_Sgarlata', 0.42792919278144836),\n",
       " ('Daughters', 0.41669827699661255),\n",
       " ('R._Grealy', 0.4130113124847412),\n",
       " ('Canzater', 0.4127107560634613),\n",
       " ('Oprah_BFF_Gayle', 0.4048640727996826),\n",
       " ('Ida_Vandross', 0.4038771390914917),\n",
       " ('Jalonick', 0.4024905562400818)]"
      ]
     },
     "execution_count": 76,
     "metadata": {},
     "output_type": "execute_result"
    }
   ],
   "source": [
    "w2v.most_similar([tentative_queen])"
   ]
  },
  {
   "cell_type": "code",
   "execution_count": 78,
   "id": "227ef7c0",
   "metadata": {},
   "outputs": [],
   "source": [
    "paris = w2v.get_vector(\"Paris\")\n",
    "france = w2v.get_vector(\"France\")\n",
    "rome = w2v.get_vector(\"Rome\")\n",
    "italy = w2v.get_vector(\"Italy\")\n",
    "\n",
    "avg_move_country_capital = ((france - paris) + (italy - rome)) / 2"
   ]
  },
  {
   "cell_type": "code",
   "execution_count": 82,
   "id": "8ce1f15d",
   "metadata": {},
   "outputs": [
    {
     "data": {
      "text/plain": [
       "[('Germany', 0.835921049118042),\n",
       " ('Berlin', 0.7332749962806702),\n",
       " ('German', 0.6438736319541931),\n",
       " ('Austria', 0.6350038051605225),\n",
       " ('Poland', 0.5922521352767944),\n",
       " ('Germans', 0.5875930190086365),\n",
       " ('France', 0.5759522318840027),\n",
       " ('Hungary', 0.5736603736877441),\n",
       " ('BBC_Tristana_Moore', 0.5657358169555664),\n",
       " ('symbol_RSTI', 0.556399405002594)]"
      ]
     },
     "execution_count": 82,
     "metadata": {},
     "output_type": "execute_result"
    }
   ],
   "source": [
    "v = w2v.get_vector(\"Berlin\") + avg_move_country_capital\n",
    "w2v.most_similar([v])"
   ]
  },
  {
   "cell_type": "code",
   "execution_count": 81,
   "id": "1764d308",
   "metadata": {},
   "outputs": [
    {
     "data": {
      "text/plain": [
       "[('Germany', 0.7883754372596741),\n",
       " ('Berlin', 0.7136659026145935),\n",
       " ('German', 0.6053126454353333),\n",
       " ('Austria', 0.5993577241897583),\n",
       " ('France', 0.5962119102478027),\n",
       " ('Germans', 0.5851607322692871),\n",
       " ('Poland', 0.5829465389251709),\n",
       " ('BBC_Tristana_Moore', 0.5333902835845947),\n",
       " ('Hungary', 0.5244225859642029),\n",
       " ('symbol_RSTI', 0.5242710113525391)]"
      ]
     },
     "execution_count": 81,
     "metadata": {},
     "output_type": "execute_result"
    }
   ],
   "source": [
    "v = w2v.get_vector(\"Berlin\") + (france - paris)\n",
    "w2v.most_similar([v])"
   ]
  },
  {
   "cell_type": "code",
   "execution_count": 83,
   "id": "4fc591b3",
   "metadata": {},
   "outputs": [
    {
     "data": {
      "text/plain": [
       "[('Germany', 0.7864465117454529),\n",
       " ('Berlin', 0.669633686542511),\n",
       " ('German', 0.6075415015220642),\n",
       " ('Austria', 0.5969886183738708),\n",
       " ('Italy', 0.5612674951553345),\n",
       " ('Hungary', 0.5549218058586121),\n",
       " ('Switzerland', 0.5380575656890869),\n",
       " ('Poland', 0.5348666310310364),\n",
       " ('BBC_Tristana_Moore', 0.5324059128761292),\n",
       " ('Germans', 0.5244300365447998)]"
      ]
     },
     "execution_count": 83,
     "metadata": {},
     "output_type": "execute_result"
    }
   ],
   "source": [
    "v = w2v.get_vector(\"Berlin\") + (italy - rome)\n",
    "w2v.most_similar([v])"
   ]
  },
  {
   "cell_type": "code",
   "execution_count": 84,
   "id": "b108840f",
   "metadata": {},
   "outputs": [
    {
     "data": {
      "text/plain": [
       "[('France', 0.7374979257583618),\n",
       " ('Paris', 0.6391468644142151),\n",
       " ('Italy', 0.6325781345367432),\n",
       " ('Belgium', 0.5785713195800781),\n",
       " ('Germany', 0.5641927719116211),\n",
       " ('Switzerland', 0.549392819404602),\n",
       " ('Villebon_Sur_Yvette', 0.5430181622505188),\n",
       " ('extradites_Noriega', 0.5361223220825195),\n",
       " ('Tourcoing', 0.5297444462776184),\n",
       " ('French', 0.5250194072723389)]"
      ]
     },
     "execution_count": 84,
     "metadata": {},
     "output_type": "execute_result"
    }
   ],
   "source": [
    "v = w2v.get_vector(\"Paris\") + (italy - rome)\n",
    "w2v.most_similar([v])"
   ]
  },
  {
   "cell_type": "code",
   "execution_count": 85,
   "id": "6dd829c5",
   "metadata": {},
   "outputs": [
    {
     "data": {
      "text/plain": [
       "[('Paris', 0.7167540192604065),\n",
       " ('Rome', 0.6986708045005798),\n",
       " ('France', 0.6032257676124573),\n",
       " ('French', 0.5341311097145081),\n",
       " ('Avignon', 0.5340989828109741),\n",
       " ('Strasbourg', 0.5200265049934387),\n",
       " ('Hopital_Europeen_Georges_Pompidou', 0.5185360312461853),\n",
       " ('Brussels', 0.5110957026481628),\n",
       " ('Pantheon_Sorbonne', 0.4982334077358246),\n",
       " ('Reims', 0.49628591537475586)]"
      ]
     },
     "execution_count": 85,
     "metadata": {},
     "output_type": "execute_result"
    }
   ],
   "source": [
    "v = w2v.get_vector(\"France\") + (rome - italy)\n",
    "w2v.most_similar([v])"
   ]
  },
  {
   "cell_type": "code",
   "execution_count": 86,
   "id": "12a83355",
   "metadata": {},
   "outputs": [
    {
     "data": {
      "text/plain": [
       "[('Paris', 0.7167540192604065),\n",
       " ('Rome', 0.6986708045005798),\n",
       " ('France', 0.6032257676124573),\n",
       " ('French', 0.5341311097145081),\n",
       " ('Avignon', 0.5340989828109741),\n",
       " ('Strasbourg', 0.5200265049934387),\n",
       " ('Hopital_Europeen_Georges_Pompidou', 0.5185360312461853),\n",
       " ('Brussels', 0.5110957026481628),\n",
       " ('Pantheon_Sorbonne', 0.4982334077358246),\n",
       " ('Reims', 0.49628591537475586)]"
      ]
     },
     "execution_count": 86,
     "metadata": {},
     "output_type": "execute_result"
    }
   ],
   "source": [
    "v = w2v.get_vector(\"Rome\") - italy + france\n",
    "w2v.most_similar([v])"
   ]
  },
  {
   "cell_type": "code",
   "execution_count": 87,
   "id": "3a345df3",
   "metadata": {},
   "outputs": [
    {
     "data": {
      "text/plain": [
       "[('Milan', 0.7251641750335693),\n",
       " ('Rome', 0.7073156237602234),\n",
       " ('Italy', 0.6847635507583618),\n",
       " ('Paris', 0.6693719625473022),\n",
       " ('Palermo_Sicily', 0.6014109253883362),\n",
       " ('Italian', 0.596384584903717),\n",
       " ('Tuscany', 0.5672276020050049),\n",
       " ('Sicily', 0.5654013752937317),\n",
       " ('Bologna', 0.5645887851715088),\n",
       " ('Bologna_Italy', 0.5513801574707031)]"
      ]
     },
     "execution_count": 87,
     "metadata": {},
     "output_type": "execute_result"
    }
   ],
   "source": [
    "v = w2v.get_vector(\"Paris\") - france + italy\n",
    "w2v.most_similar([v])"
   ]
  },
  {
   "cell_type": "code",
   "execution_count": 88,
   "id": "5e10592f",
   "metadata": {},
   "outputs": [
    {
     "name": "stdout",
     "output_type": "stream",
     "text": [
      "Collecting annoy\n",
      "  Downloading annoy-1.17.0.tar.gz (646 kB)\n",
      "\u001b[K     |████████████████████████████████| 646 kB 914 kB/s eta 0:00:01\n",
      "\u001b[?25hBuilding wheels for collected packages: annoy\n",
      "  Building wheel for annoy (setup.py) ... \u001b[?25ldone\n",
      "\u001b[?25h  Created wheel for annoy: filename=annoy-1.17.0-cp38-cp38-linux_x86_64.whl size=577526 sha256=f9e8a79227334f43840afecd953427c3c3f298d1b11cfc157df46c70bf7a4ac6\n",
      "  Stored in directory: /home/dataista/.cache/pip/wheels/77/01/de/4421524f9997a25dfa7291121565d12ef514154945e80e907a\n",
      "Successfully built annoy\n",
      "Installing collected packages: annoy\n",
      "Successfully installed annoy-1.17.0\n"
     ]
    }
   ],
   "source": [
    "!pip install annoy"
   ]
  },
  {
   "cell_type": "code",
   "execution_count": 90,
   "id": "63c0205d",
   "metadata": {},
   "outputs": [
    {
     "data": {
      "text/plain": [
       "True"
      ]
     },
     "execution_count": 90,
     "metadata": {},
     "output_type": "execute_result"
    }
   ],
   "source": [
    "from annoy import AnnoyIndex\n",
    "f = 300\n",
    "t = AnnoyIndex(f, 'angular')  # Length of item vector that will be indexed\n",
    "for e in E:\n",
    "    t.add_item(i, e)\n",
    "\n",
    "t.build(10) # 10 trees\n",
    "\n",
    "#print(u.get_nns_by_item(0, 1000)) # will find the 1000 nearest neighbors"
   ]
  },
  {
   "cell_type": "code",
   "execution_count": 91,
   "id": "2f6633f5",
   "metadata": {},
   "outputs": [
    {
     "data": {
      "text/plain": [
       "<annoy.Annoy at 0x7f0c1ef9fd70>"
      ]
     },
     "execution_count": 91,
     "metadata": {},
     "output_type": "execute_result"
    }
   ],
   "source": [
    "t"
   ]
  },
  {
   "cell_type": "code",
   "execution_count": 92,
   "id": "cf3f89a1",
   "metadata": {},
   "outputs": [],
   "source": [
    "man = w2v.get_vector(\"Man\")\n",
    "woman = w2v.get_vector(\"Woman\")\n",
    "king = w2v.get_vector(\"King\")\n",
    "queen = w2v.get_vector(\"Queen\")"
   ]
  },
  {
   "cell_type": "code",
   "execution_count": 93,
   "id": "d8d30002",
   "metadata": {},
   "outputs": [
    {
     "data": {
      "text/plain": [
       "[('King', 0.5864337682723999),\n",
       " ('Woman', 0.4632062017917633),\n",
       " ('Queen', 0.4424014389514923),\n",
       " ('Adrianna_Sgarlata', 0.42792919278144836),\n",
       " ('Daughters', 0.41669827699661255),\n",
       " ('R._Grealy', 0.4130113124847412),\n",
       " ('Canzater', 0.4127107560634613),\n",
       " ('Oprah_BFF_Gayle', 0.4048640727996826),\n",
       " ('Ida_Vandross', 0.4038771390914917),\n",
       " ('Jalonick', 0.4024905562400818)]"
      ]
     },
     "execution_count": 93,
     "metadata": {},
     "output_type": "execute_result"
    }
   ],
   "source": [
    "v = w2v.get_vector(\"King\") - man + woman\n",
    "w2v.most_similar([v])"
   ]
  },
  {
   "cell_type": "code",
   "execution_count": 96,
   "id": "cead57a9",
   "metadata": {},
   "outputs": [
    {
     "data": {
      "text/plain": [
       "2575"
      ]
     },
     "execution_count": 96,
     "metadata": {},
     "output_type": "execute_result"
    }
   ],
   "source": [
    "V.index(\"Paris\")"
   ]
  },
  {
   "cell_type": "code",
   "execution_count": 98,
   "id": "53ac8fb2",
   "metadata": {},
   "outputs": [],
   "source": [
    "approx_close_vecs = t.get_nns_by_vector(paris, 10)"
   ]
  },
  {
   "cell_type": "code",
   "execution_count": 99,
   "id": "4d62b941",
   "metadata": {},
   "outputs": [
    {
     "data": {
      "text/plain": [
       "[11]"
      ]
     },
     "execution_count": 99,
     "metadata": {},
     "output_type": "execute_result"
    }
   ],
   "source": [
    "approx_close_vecs"
   ]
  },
  {
   "cell_type": "code",
   "execution_count": null,
   "id": "ef05986e",
   "metadata": {},
   "outputs": [],
   "source": [
    "v = w2v.get_vector(\"Rome\") - italy + france\n",
    "w2v.most_similar([v])"
   ]
  },
  {
   "cell_type": "code",
   "execution_count": 113,
   "id": "364cbf2d",
   "metadata": {},
   "outputs": [],
   "source": [
    "def analogy(this, is_to_that, as_this_is_to):\n",
    "    v = w2v.get_vector(as_this_is_to) - w2v.get_vector(this) + w2v.get_vector(is_to_that)\n",
    "    try:\n",
    "        return w2v.most_similar([v])[0][0]\n",
    "    except:\n",
    "        pass"
   ]
  },
  {
   "cell_type": "code",
   "execution_count": 114,
   "id": "fc4654be",
   "metadata": {},
   "outputs": [
    {
     "data": {
      "text/plain": [
       "'Paris'"
      ]
     },
     "execution_count": 114,
     "metadata": {},
     "output_type": "execute_result"
    }
   ],
   "source": [
    "analogy(\"Italy\", \"France\", \"Rome\")"
   ]
  },
  {
   "cell_type": "code",
   "execution_count": 115,
   "id": "d32aa875",
   "metadata": {},
   "outputs": [
    {
     "data": {
      "text/plain": [
       "'Milan'"
      ]
     },
     "execution_count": 115,
     "metadata": {},
     "output_type": "execute_result"
    }
   ],
   "source": [
    "analogy(\"France\", \"Paris\", \"Italy\")"
   ]
  },
  {
   "cell_type": "code",
   "execution_count": 116,
   "id": "731afff2",
   "metadata": {},
   "outputs": [
    {
     "data": {
      "text/plain": [
       "'Rome'"
      ]
     },
     "execution_count": 116,
     "metadata": {},
     "output_type": "execute_result"
    }
   ],
   "source": [
    "analogy(\"London\", \"England\", \"Rome\")"
   ]
  },
  {
   "cell_type": "code",
   "execution_count": 117,
   "id": "53c14e80",
   "metadata": {},
   "outputs": [
    {
     "data": {
      "text/plain": [
       "'Italy'"
      ]
     },
     "execution_count": 117,
     "metadata": {},
     "output_type": "execute_result"
    }
   ],
   "source": [
    "analogy(\"England\", \"London\", \"Italy\")"
   ]
  }
 ],
 "metadata": {
  "kernelspec": {
   "display_name": "Python 3",
   "language": "python",
   "name": "python3"
  },
  "language_info": {
   "codemirror_mode": {
    "name": "ipython",
    "version": 3
   },
   "file_extension": ".py",
   "mimetype": "text/x-python",
   "name": "python",
   "nbconvert_exporter": "python",
   "pygments_lexer": "ipython3",
   "version": "3.8.10"
  }
 },
 "nbformat": 4,
 "nbformat_minor": 5
}

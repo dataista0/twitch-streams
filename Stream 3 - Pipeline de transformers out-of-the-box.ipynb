{
 "cells": [
  {
   "cell_type": "markdown",
   "id": "ae096d48",
   "metadata": {},
   "source": [
    "# Pipeline de transformers out-of-the-box\n",
    "\n",
    "### Referencias\n",
    "* [Summary of the tasks](https://huggingface.co/transformers/task_summary.html)"
   ]
  },
  {
   "cell_type": "code",
   "execution_count": 1,
   "id": "46f82e6c",
   "metadata": {},
   "outputs": [
    {
     "name": "stdout",
     "output_type": "stream",
     "text": [
      "INFO:tensorflow:Enabling eager execution\n",
      "INFO:tensorflow:Enabling v2 tensorshape\n",
      "INFO:tensorflow:Enabling resource variables\n",
      "INFO:tensorflow:Enabling tensor equality\n",
      "INFO:tensorflow:Enabling control flow v2\n"
     ]
    }
   ],
   "source": [
    "import numpy as np\n",
    "import pandas as pd\n",
    "\n",
    "from nltk.corpus import twitter_samples\n",
    "from sklearn.metrics import accuracy_score\n",
    "from transformers import pipeline\n",
    "from transformers import set_seed\n",
    "\n",
    "\n",
    "all_tasks = [\n",
    "\"sentiment-analysis\",\n",
    "\"ner\",\n",
    "\"fill-mask\",\n",
    "\"text-generation\",\n",
    "\"feature-extraction\",\n",
    "\n",
    "\"translation_xx_to_yy\",\n",
    "\"summarization\",\n",
    "\"question-answering\",\n",
    "    \n",
    "\n",
    "\"text-classification\",\n",
    "\"token-classification\",\n",
    "\"text2text-generation\",\n",
    "\"zero-shot-classification\",\n",
    "\"conversational\"]"
   ]
  },
  {
   "cell_type": "markdown",
   "id": "b1b1ca17",
   "metadata": {},
   "source": [
    "# Sentiment analysis"
   ]
  },
  {
   "cell_type": "code",
   "execution_count": 3,
   "id": "4650f29b",
   "metadata": {},
   "outputs": [],
   "source": [
    "m = pipeline('sentiment-analysis', framework=\"pt\")"
   ]
  },
  {
   "cell_type": "code",
   "execution_count": 4,
   "id": "986d73ed",
   "metadata": {},
   "outputs": [
    {
     "data": {
      "text/plain": [
       "[{'label': 'NEGATIVE', 'score': 0.9984995722770691}]"
      ]
     },
     "execution_count": 4,
     "metadata": {},
     "output_type": "execute_result"
    }
   ],
   "source": [
    "m(\"I want to die\")"
   ]
  },
  {
   "cell_type": "code",
   "execution_count": 5,
   "id": "7c766eb6",
   "metadata": {},
   "outputs": [
    {
     "data": {
      "text/plain": [
       "[{'label': 'POSITIVE', 'score': 0.9997795224189758}]"
      ]
     },
     "execution_count": 5,
     "metadata": {},
     "output_type": "execute_result"
    }
   ],
   "source": [
    "m('We are very happy to show you the 🤗 Transformers library.')"
   ]
  },
  {
   "cell_type": "markdown",
   "id": "a855f711",
   "metadata": {},
   "source": [
    "### Sentiment analisis sobre el dataset de tweets de nltk"
   ]
  },
  {
   "cell_type": "code",
   "execution_count": 7,
   "id": "11b710aa",
   "metadata": {},
   "outputs": [],
   "source": [
    "documents = ([(t, \"POSITIVE\") for t in twitter_samples.strings(\"positive_tweets.json\")] + \n",
    "             [(t, \"NEGATIVE\") for t in twitter_samples.strings(\"negative_tweets.json\")])"
   ]
  },
  {
   "cell_type": "code",
   "execution_count": 8,
   "id": "6a6ba7cb",
   "metadata": {},
   "outputs": [],
   "source": [
    "df = pd.DataFrame(documents, columns=[\"tweet\", \"label\"])"
   ]
  },
  {
   "cell_type": "code",
   "execution_count": 9,
   "id": "1b074709",
   "metadata": {},
   "outputs": [
    {
     "data": {
      "text/plain": [
       "(10000, 2)"
      ]
     },
     "execution_count": 9,
     "metadata": {},
     "output_type": "execute_result"
    }
   ],
   "source": [
    "df.shape"
   ]
  },
  {
   "cell_type": "code",
   "execution_count": 11,
   "id": "42ca2d35",
   "metadata": {},
   "outputs": [],
   "source": [
    "tweets = df.tweet.tolist()"
   ]
  },
  {
   "cell_type": "code",
   "execution_count": 25,
   "id": "1bf70675",
   "metadata": {},
   "outputs": [],
   "source": [
    "tweets_chunks = np.array_split(tweets, 100)"
   ]
  },
  {
   "cell_type": "code",
   "execution_count": 27,
   "id": "9242a119",
   "metadata": {
    "scrolled": true
   },
   "outputs": [
    {
     "name": "stdout",
     "output_type": "stream",
     "text": [
      "0\n",
      "1\n",
      "2\n",
      "3\n",
      "4\n",
      "5\n",
      "6\n",
      "7\n",
      "8\n",
      "9\n",
      "10\n",
      "11\n",
      "12\n",
      "13\n",
      "14\n",
      "15\n",
      "16\n",
      "17\n",
      "18\n",
      "19\n",
      "20\n",
      "21\n",
      "22\n",
      "23\n",
      "24\n",
      "25\n",
      "26\n",
      "27\n",
      "28\n",
      "29\n",
      "30\n",
      "31\n",
      "32\n",
      "33\n",
      "34\n",
      "35\n",
      "36\n",
      "37\n",
      "38\n",
      "39\n",
      "40\n",
      "41\n",
      "42\n",
      "43\n",
      "44\n",
      "45\n",
      "46\n",
      "47\n",
      "48\n",
      "49\n",
      "50\n",
      "51\n",
      "52\n",
      "53\n",
      "54\n",
      "55\n",
      "56\n",
      "57\n",
      "58\n",
      "59\n",
      "60\n",
      "61\n",
      "62\n",
      "63\n",
      "64\n",
      "65\n",
      "66\n",
      "67\n",
      "68\n",
      "69\n",
      "70\n",
      "71\n",
      "72\n",
      "73\n",
      "74\n",
      "75\n",
      "76\n",
      "77\n",
      "78\n",
      "79\n",
      "80\n",
      "81\n",
      "82\n",
      "83\n",
      "84\n",
      "85\n",
      "86\n",
      "87\n",
      "88\n",
      "89\n",
      "90\n",
      "91\n",
      "92\n",
      "93\n",
      "94\n",
      "95\n",
      "96\n",
      "97\n",
      "98\n",
      "99\n",
      "CPU times: user 24min 11s, sys: 1min 43s, total: 25min 55s\n",
      "Wall time: 4min 25s\n"
     ]
    }
   ],
   "source": [
    "%%time\n",
    "pred = []\n",
    "for i, chunk in enumerate(tweets_chunks):\n",
    "    print(i)\n",
    "    pred += m(list(chunk))"
   ]
  },
  {
   "cell_type": "code",
   "execution_count": 40,
   "id": "d11572a2",
   "metadata": {},
   "outputs": [
    {
     "data": {
      "text/html": [
       "<div>\n",
       "<style scoped>\n",
       "    .dataframe tbody tr th:only-of-type {\n",
       "        vertical-align: middle;\n",
       "    }\n",
       "\n",
       "    .dataframe tbody tr th {\n",
       "        vertical-align: top;\n",
       "    }\n",
       "\n",
       "    .dataframe thead th {\n",
       "        text-align: right;\n",
       "    }\n",
       "</style>\n",
       "<table border=\"1\" class=\"dataframe\">\n",
       "  <thead>\n",
       "    <tr style=\"text-align: right;\">\n",
       "      <th></th>\n",
       "      <th>label</th>\n",
       "      <th>score</th>\n",
       "    </tr>\n",
       "  </thead>\n",
       "  <tbody>\n",
       "    <tr>\n",
       "      <th>0</th>\n",
       "      <td>POSITIVE</td>\n",
       "      <td>0.926064</td>\n",
       "    </tr>\n",
       "    <tr>\n",
       "      <th>1</th>\n",
       "      <td>POSITIVE</td>\n",
       "      <td>0.999161</td>\n",
       "    </tr>\n",
       "    <tr>\n",
       "      <th>2</th>\n",
       "      <td>POSITIVE</td>\n",
       "      <td>0.999620</td>\n",
       "    </tr>\n",
       "    <tr>\n",
       "      <th>3</th>\n",
       "      <td>POSITIVE</td>\n",
       "      <td>0.992427</td>\n",
       "    </tr>\n",
       "    <tr>\n",
       "      <th>4</th>\n",
       "      <td>NEGATIVE</td>\n",
       "      <td>0.972595</td>\n",
       "    </tr>\n",
       "  </tbody>\n",
       "</table>\n",
       "</div>"
      ],
      "text/plain": [
       "      label     score\n",
       "0  POSITIVE  0.926064\n",
       "1  POSITIVE  0.999161\n",
       "2  POSITIVE  0.999620\n",
       "3  POSITIVE  0.992427\n",
       "4  NEGATIVE  0.972595"
      ]
     },
     "execution_count": 40,
     "metadata": {},
     "output_type": "execute_result"
    }
   ],
   "source": [
    "df_pred = pd.DataFrame(pred)\n",
    "df_pred.head()"
   ]
  },
  {
   "cell_type": "code",
   "execution_count": 41,
   "id": "5a833983",
   "metadata": {},
   "outputs": [
    {
     "data": {
      "text/plain": [
       "POSITIVE    0.5\n",
       "NEGATIVE    0.5\n",
       "Name: label, dtype: float64"
      ]
     },
     "execution_count": 41,
     "metadata": {},
     "output_type": "execute_result"
    }
   ],
   "source": [
    "df_final = df.join(df_pred.rename(columns={'label': 'pred'}))\n",
    "df_final.label.value_counts(normalize=True)"
   ]
  },
  {
   "cell_type": "code",
   "execution_count": 42,
   "id": "b6958235",
   "metadata": {},
   "outputs": [
    {
     "data": {
      "text/plain": [
       "0.6622"
      ]
     },
     "execution_count": 42,
     "metadata": {},
     "output_type": "execute_result"
    }
   ],
   "source": [
    "accuracy_score(df_final[\"label\"], df_final[\"pred\"])"
   ]
  },
  {
   "cell_type": "markdown",
   "id": "133a8379",
   "metadata": {},
   "source": [
    "# [NER: Named Entity Recognition](https://huggingface.co/transformers/task_summary.html#named-entity-recognition)\n"
   ]
  },
  {
   "cell_type": "code",
   "execution_count": 45,
   "id": "dab78cd1",
   "metadata": {},
   "outputs": [],
   "source": [
    "m = pipeline('ner', framework=\"pt\")\n",
    "res = m('Hugging Face is a French company based in New-York.')"
   ]
  },
  {
   "cell_type": "code",
   "execution_count": 47,
   "id": "262fa41f",
   "metadata": {},
   "outputs": [
    {
     "data": {
      "text/html": [
       "<div>\n",
       "<style scoped>\n",
       "    .dataframe tbody tr th:only-of-type {\n",
       "        vertical-align: middle;\n",
       "    }\n",
       "\n",
       "    .dataframe tbody tr th {\n",
       "        vertical-align: top;\n",
       "    }\n",
       "\n",
       "    .dataframe thead th {\n",
       "        text-align: right;\n",
       "    }\n",
       "</style>\n",
       "<table border=\"1\" class=\"dataframe\">\n",
       "  <thead>\n",
       "    <tr style=\"text-align: right;\">\n",
       "      <th></th>\n",
       "      <th>word</th>\n",
       "      <th>score</th>\n",
       "      <th>entity</th>\n",
       "      <th>index</th>\n",
       "      <th>start</th>\n",
       "      <th>end</th>\n",
       "    </tr>\n",
       "  </thead>\n",
       "  <tbody>\n",
       "    <tr>\n",
       "      <th>0</th>\n",
       "      <td>Hu</td>\n",
       "      <td>0.997094</td>\n",
       "      <td>I-ORG</td>\n",
       "      <td>1</td>\n",
       "      <td>0</td>\n",
       "      <td>2</td>\n",
       "    </tr>\n",
       "    <tr>\n",
       "      <th>1</th>\n",
       "      <td>##gging</td>\n",
       "      <td>0.934575</td>\n",
       "      <td>I-ORG</td>\n",
       "      <td>2</td>\n",
       "      <td>2</td>\n",
       "      <td>7</td>\n",
       "    </tr>\n",
       "    <tr>\n",
       "      <th>2</th>\n",
       "      <td>Face</td>\n",
       "      <td>0.978706</td>\n",
       "      <td>I-ORG</td>\n",
       "      <td>3</td>\n",
       "      <td>8</td>\n",
       "      <td>12</td>\n",
       "    </tr>\n",
       "    <tr>\n",
       "      <th>3</th>\n",
       "      <td>French</td>\n",
       "      <td>0.998200</td>\n",
       "      <td>I-MISC</td>\n",
       "      <td>6</td>\n",
       "      <td>18</td>\n",
       "      <td>24</td>\n",
       "    </tr>\n",
       "    <tr>\n",
       "      <th>4</th>\n",
       "      <td>New</td>\n",
       "      <td>0.998305</td>\n",
       "      <td>I-LOC</td>\n",
       "      <td>10</td>\n",
       "      <td>42</td>\n",
       "      <td>45</td>\n",
       "    </tr>\n",
       "    <tr>\n",
       "      <th>5</th>\n",
       "      <td>-</td>\n",
       "      <td>0.891346</td>\n",
       "      <td>I-LOC</td>\n",
       "      <td>11</td>\n",
       "      <td>45</td>\n",
       "      <td>46</td>\n",
       "    </tr>\n",
       "    <tr>\n",
       "      <th>6</th>\n",
       "      <td>York</td>\n",
       "      <td>0.997952</td>\n",
       "      <td>I-LOC</td>\n",
       "      <td>12</td>\n",
       "      <td>46</td>\n",
       "      <td>50</td>\n",
       "    </tr>\n",
       "  </tbody>\n",
       "</table>\n",
       "</div>"
      ],
      "text/plain": [
       "      word     score  entity  index  start  end\n",
       "0       Hu  0.997094   I-ORG      1      0    2\n",
       "1  ##gging  0.934575   I-ORG      2      2    7\n",
       "2     Face  0.978706   I-ORG      3      8   12\n",
       "3   French  0.998200  I-MISC      6     18   24\n",
       "4      New  0.998305   I-LOC     10     42   45\n",
       "5        -  0.891346   I-LOC     11     45   46\n",
       "6     York  0.997952   I-LOC     12     46   50"
      ]
     },
     "execution_count": 47,
     "metadata": {},
     "output_type": "execute_result"
    }
   ],
   "source": [
    "pd.DataFrame(res)"
   ]
  },
  {
   "cell_type": "code",
   "execution_count": 48,
   "id": "7212c31c",
   "metadata": {},
   "outputs": [
    {
     "data": {
      "text/html": [
       "<div>\n",
       "<style scoped>\n",
       "    .dataframe tbody tr th:only-of-type {\n",
       "        vertical-align: middle;\n",
       "    }\n",
       "\n",
       "    .dataframe tbody tr th {\n",
       "        vertical-align: top;\n",
       "    }\n",
       "\n",
       "    .dataframe thead th {\n",
       "        text-align: right;\n",
       "    }\n",
       "</style>\n",
       "<table border=\"1\" class=\"dataframe\">\n",
       "  <thead>\n",
       "    <tr style=\"text-align: right;\">\n",
       "      <th></th>\n",
       "      <th>word</th>\n",
       "      <th>score</th>\n",
       "      <th>entity</th>\n",
       "      <th>index</th>\n",
       "      <th>start</th>\n",
       "      <th>end</th>\n",
       "    </tr>\n",
       "  </thead>\n",
       "  <tbody>\n",
       "    <tr>\n",
       "      <th>0</th>\n",
       "      <td>Oscar</td>\n",
       "      <td>0.997312</td>\n",
       "      <td>I-MISC</td>\n",
       "      <td>5</td>\n",
       "      <td>18</td>\n",
       "      <td>23</td>\n",
       "    </tr>\n",
       "    <tr>\n",
       "      <th>1</th>\n",
       "      <td>of</td>\n",
       "      <td>0.806631</td>\n",
       "      <td>I-MISC</td>\n",
       "      <td>6</td>\n",
       "      <td>24</td>\n",
       "      <td>26</td>\n",
       "    </tr>\n",
       "    <tr>\n",
       "      <th>2</th>\n",
       "      <td>2020</td>\n",
       "      <td>0.685957</td>\n",
       "      <td>I-MISC</td>\n",
       "      <td>7</td>\n",
       "      <td>27</td>\n",
       "      <td>31</td>\n",
       "    </tr>\n",
       "    <tr>\n",
       "      <th>3</th>\n",
       "      <td>Joaquin</td>\n",
       "      <td>0.997767</td>\n",
       "      <td>I-PER</td>\n",
       "      <td>9</td>\n",
       "      <td>36</td>\n",
       "      <td>43</td>\n",
       "    </tr>\n",
       "    <tr>\n",
       "      <th>4</th>\n",
       "      <td>Phoenix</td>\n",
       "      <td>0.998577</td>\n",
       "      <td>I-PER</td>\n",
       "      <td>10</td>\n",
       "      <td>44</td>\n",
       "      <td>51</td>\n",
       "    </tr>\n",
       "  </tbody>\n",
       "</table>\n",
       "</div>"
      ],
      "text/plain": [
       "      word     score  entity  index  start  end\n",
       "0    Oscar  0.997312  I-MISC      5     18   23\n",
       "1       of  0.806631  I-MISC      6     24   26\n",
       "2     2020  0.685957  I-MISC      7     27   31\n",
       "3  Joaquin  0.997767   I-PER      9     36   43\n",
       "4  Phoenix  0.998577   I-PER     10     44   51"
      ]
     },
     "execution_count": 48,
     "metadata": {},
     "output_type": "execute_result"
    }
   ],
   "source": [
    "res = m('The winner of the Oscar of 2020 was Joaquin Phoenix')\n",
    "pd.DataFrame(res)"
   ]
  },
  {
   "cell_type": "code",
   "execution_count": 50,
   "id": "43040ee6",
   "metadata": {},
   "outputs": [
    {
     "data": {
      "text/html": [
       "<div>\n",
       "<style scoped>\n",
       "    .dataframe tbody tr th:only-of-type {\n",
       "        vertical-align: middle;\n",
       "    }\n",
       "\n",
       "    .dataframe tbody tr th {\n",
       "        vertical-align: top;\n",
       "    }\n",
       "\n",
       "    .dataframe thead th {\n",
       "        text-align: right;\n",
       "    }\n",
       "</style>\n",
       "<table border=\"1\" class=\"dataframe\">\n",
       "  <thead>\n",
       "    <tr style=\"text-align: right;\">\n",
       "      <th></th>\n",
       "      <th>word</th>\n",
       "      <th>score</th>\n",
       "      <th>entity</th>\n",
       "      <th>index</th>\n",
       "      <th>start</th>\n",
       "      <th>end</th>\n",
       "    </tr>\n",
       "  </thead>\n",
       "  <tbody>\n",
       "    <tr>\n",
       "      <th>0</th>\n",
       "      <td>Argentina</td>\n",
       "      <td>0.999763</td>\n",
       "      <td>I-LOC</td>\n",
       "      <td>1</td>\n",
       "      <td>0</td>\n",
       "      <td>9</td>\n",
       "    </tr>\n",
       "    <tr>\n",
       "      <th>1</th>\n",
       "      <td>Brasil</td>\n",
       "      <td>0.999834</td>\n",
       "      <td>I-LOC</td>\n",
       "      <td>3</td>\n",
       "      <td>11</td>\n",
       "      <td>17</td>\n",
       "    </tr>\n",
       "    <tr>\n",
       "      <th>2</th>\n",
       "      <td>Uruguay</td>\n",
       "      <td>0.999801</td>\n",
       "      <td>I-LOC</td>\n",
       "      <td>5</td>\n",
       "      <td>22</td>\n",
       "      <td>29</td>\n",
       "    </tr>\n",
       "    <tr>\n",
       "      <th>3</th>\n",
       "      <td>Me</td>\n",
       "      <td>0.998633</td>\n",
       "      <td>I-MISC</td>\n",
       "      <td>8</td>\n",
       "      <td>43</td>\n",
       "      <td>45</td>\n",
       "    </tr>\n",
       "    <tr>\n",
       "      <th>4</th>\n",
       "      <td>##rc</td>\n",
       "      <td>0.983118</td>\n",
       "      <td>I-MISC</td>\n",
       "      <td>9</td>\n",
       "      <td>45</td>\n",
       "      <td>47</td>\n",
       "    </tr>\n",
       "    <tr>\n",
       "      <th>5</th>\n",
       "      <td>##os</td>\n",
       "      <td>0.857216</td>\n",
       "      <td>I-MISC</td>\n",
       "      <td>10</td>\n",
       "      <td>47</td>\n",
       "      <td>49</td>\n",
       "    </tr>\n",
       "    <tr>\n",
       "      <th>6</th>\n",
       "      <td>##ur</td>\n",
       "      <td>0.978866</td>\n",
       "      <td>I-MISC</td>\n",
       "      <td>11</td>\n",
       "      <td>49</td>\n",
       "      <td>51</td>\n",
       "    </tr>\n",
       "    <tr>\n",
       "      <th>7</th>\n",
       "      <td>Gathering</td>\n",
       "      <td>0.997672</td>\n",
       "      <td>I-MISC</td>\n",
       "      <td>12</td>\n",
       "      <td>52</td>\n",
       "      <td>61</td>\n",
       "    </tr>\n",
       "  </tbody>\n",
       "</table>\n",
       "</div>"
      ],
      "text/plain": [
       "        word     score  entity  index  start  end\n",
       "0  Argentina  0.999763   I-LOC      1      0    9\n",
       "1     Brasil  0.999834   I-LOC      3     11   17\n",
       "2    Uruguay  0.999801   I-LOC      5     22   29\n",
       "3         Me  0.998633  I-MISC      8     43   45\n",
       "4       ##rc  0.983118  I-MISC      9     45   47\n",
       "5       ##os  0.857216  I-MISC     10     47   49\n",
       "6       ##ur  0.978866  I-MISC     11     49   51\n",
       "7  Gathering  0.997672  I-MISC     12     52   61"
      ]
     },
     "execution_count": 50,
     "metadata": {},
     "output_type": "execute_result"
    }
   ],
   "source": [
    "m = pipeline('ner', framework=\"pt\")\n",
    "res = m('Argentina, Brasil and Uruguay attended the Mercosur Gathering')\n",
    "pd.DataFrame(res)"
   ]
  },
  {
   "cell_type": "markdown",
   "id": "480eac24",
   "metadata": {},
   "source": [
    "## [Fill mask](https://huggingface.co/transformers/task_summary.html#masked-language-modeling)"
   ]
  },
  {
   "cell_type": "code",
   "execution_count": 51,
   "id": "6df10bc2",
   "metadata": {},
   "outputs": [],
   "source": [
    "m = pipeline('fill-mask', framework=\"pt\")\n",
    "res = m('Hugging Face is a French company based in <mask>')"
   ]
  },
  {
   "cell_type": "code",
   "execution_count": 53,
   "id": "d6a75876",
   "metadata": {},
   "outputs": [
    {
     "data": {
      "text/html": [
       "<div>\n",
       "<style scoped>\n",
       "    .dataframe tbody tr th:only-of-type {\n",
       "        vertical-align: middle;\n",
       "    }\n",
       "\n",
       "    .dataframe tbody tr th {\n",
       "        vertical-align: top;\n",
       "    }\n",
       "\n",
       "    .dataframe thead th {\n",
       "        text-align: right;\n",
       "    }\n",
       "</style>\n",
       "<table border=\"1\" class=\"dataframe\">\n",
       "  <thead>\n",
       "    <tr style=\"text-align: right;\">\n",
       "      <th></th>\n",
       "      <th>sequence</th>\n",
       "      <th>score</th>\n",
       "      <th>token</th>\n",
       "      <th>token_str</th>\n",
       "    </tr>\n",
       "  </thead>\n",
       "  <tbody>\n",
       "    <tr>\n",
       "      <th>0</th>\n",
       "      <td>Hugging Face is a French company based in Paris</td>\n",
       "      <td>0.277589</td>\n",
       "      <td>2201</td>\n",
       "      <td>Paris</td>\n",
       "    </tr>\n",
       "    <tr>\n",
       "      <th>1</th>\n",
       "      <td>Hugging Face is a French company based in Lyon</td>\n",
       "      <td>0.149412</td>\n",
       "      <td>12790</td>\n",
       "      <td>Lyon</td>\n",
       "    </tr>\n",
       "    <tr>\n",
       "      <th>2</th>\n",
       "      <td>Hugging Face is a French company based in Geneva</td>\n",
       "      <td>0.045764</td>\n",
       "      <td>11559</td>\n",
       "      <td>Geneva</td>\n",
       "    </tr>\n",
       "    <tr>\n",
       "      <th>3</th>\n",
       "      <td>Hugging Face is a French company based in France</td>\n",
       "      <td>0.045763</td>\n",
       "      <td>1470</td>\n",
       "      <td>France</td>\n",
       "    </tr>\n",
       "    <tr>\n",
       "      <th>4</th>\n",
       "      <td>Hugging Face is a French company based in Brus...</td>\n",
       "      <td>0.040676</td>\n",
       "      <td>6497</td>\n",
       "      <td>Brussels</td>\n",
       "    </tr>\n",
       "  </tbody>\n",
       "</table>\n",
       "</div>"
      ],
      "text/plain": [
       "                                            sequence     score  token  \\\n",
       "0    Hugging Face is a French company based in Paris  0.277589   2201   \n",
       "1     Hugging Face is a French company based in Lyon  0.149412  12790   \n",
       "2   Hugging Face is a French company based in Geneva  0.045764  11559   \n",
       "3   Hugging Face is a French company based in France  0.045763   1470   \n",
       "4  Hugging Face is a French company based in Brus...  0.040676   6497   \n",
       "\n",
       "   token_str  \n",
       "0      Paris  \n",
       "1       Lyon  \n",
       "2     Geneva  \n",
       "3     France  \n",
       "4   Brussels  "
      ]
     },
     "execution_count": 53,
     "metadata": {},
     "output_type": "execute_result"
    }
   ],
   "source": [
    "pd.DataFrame(res)"
   ]
  },
  {
   "cell_type": "code",
   "execution_count": 55,
   "id": "4eb5a813",
   "metadata": {},
   "outputs": [],
   "source": [
    "pd.set_option(\"display.max_colwidth\", 500)"
   ]
  },
  {
   "cell_type": "code",
   "execution_count": 56,
   "id": "f639b646",
   "metadata": {},
   "outputs": [
    {
     "data": {
      "text/html": [
       "<div>\n",
       "<style scoped>\n",
       "    .dataframe tbody tr th:only-of-type {\n",
       "        vertical-align: middle;\n",
       "    }\n",
       "\n",
       "    .dataframe tbody tr th {\n",
       "        vertical-align: top;\n",
       "    }\n",
       "\n",
       "    .dataframe thead th {\n",
       "        text-align: right;\n",
       "    }\n",
       "</style>\n",
       "<table border=\"1\" class=\"dataframe\">\n",
       "  <thead>\n",
       "    <tr style=\"text-align: right;\">\n",
       "      <th></th>\n",
       "      <th>sequence</th>\n",
       "      <th>score</th>\n",
       "      <th>token</th>\n",
       "      <th>token_str</th>\n",
       "    </tr>\n",
       "  </thead>\n",
       "  <tbody>\n",
       "    <tr>\n",
       "      <th>0</th>\n",
       "      <td>Argentina is a third world country located in Africa</td>\n",
       "      <td>0.179790</td>\n",
       "      <td>1327</td>\n",
       "      <td>Africa</td>\n",
       "    </tr>\n",
       "    <tr>\n",
       "      <th>1</th>\n",
       "      <td>Argentina is a third world country located in Antarctica</td>\n",
       "      <td>0.133594</td>\n",
       "      <td>27593</td>\n",
       "      <td>Antarctica</td>\n",
       "    </tr>\n",
       "    <tr>\n",
       "      <th>2</th>\n",
       "      <td>Argentina is a third world country located in Argentina</td>\n",
       "      <td>0.121582</td>\n",
       "      <td>5244</td>\n",
       "      <td>Argentina</td>\n",
       "    </tr>\n",
       "    <tr>\n",
       "      <th>3</th>\n",
       "      <td>Argentina is a third world country located in Asia</td>\n",
       "      <td>0.087151</td>\n",
       "      <td>1817</td>\n",
       "      <td>Asia</td>\n",
       "    </tr>\n",
       "    <tr>\n",
       "      <th>4</th>\n",
       "      <td>Argentina is a third world country located in Chile</td>\n",
       "      <td>0.055938</td>\n",
       "      <td>9614</td>\n",
       "      <td>Chile</td>\n",
       "    </tr>\n",
       "  </tbody>\n",
       "</table>\n",
       "</div>"
      ],
      "text/plain": [
       "                                                   sequence     score  token  \\\n",
       "0      Argentina is a third world country located in Africa  0.179790   1327   \n",
       "1  Argentina is a third world country located in Antarctica  0.133594  27593   \n",
       "2   Argentina is a third world country located in Argentina  0.121582   5244   \n",
       "3        Argentina is a third world country located in Asia  0.087151   1817   \n",
       "4       Argentina is a third world country located in Chile  0.055938   9614   \n",
       "\n",
       "     token_str  \n",
       "0       Africa  \n",
       "1   Antarctica  \n",
       "2    Argentina  \n",
       "3         Asia  \n",
       "4        Chile  "
      ]
     },
     "execution_count": 56,
     "metadata": {},
     "output_type": "execute_result"
    }
   ],
   "source": [
    "pd.DataFrame(m('Argentina is a third world country located in <mask>'))"
   ]
  },
  {
   "cell_type": "code",
   "execution_count": 57,
   "id": "249c21a9",
   "metadata": {},
   "outputs": [
    {
     "data": {
      "text/html": [
       "<div>\n",
       "<style scoped>\n",
       "    .dataframe tbody tr th:only-of-type {\n",
       "        vertical-align: middle;\n",
       "    }\n",
       "\n",
       "    .dataframe tbody tr th {\n",
       "        vertical-align: top;\n",
       "    }\n",
       "\n",
       "    .dataframe thead th {\n",
       "        text-align: right;\n",
       "    }\n",
       "</style>\n",
       "<table border=\"1\" class=\"dataframe\">\n",
       "  <thead>\n",
       "    <tr style=\"text-align: right;\">\n",
       "      <th></th>\n",
       "      <th>sequence</th>\n",
       "      <th>score</th>\n",
       "      <th>token</th>\n",
       "      <th>token_str</th>\n",
       "    </tr>\n",
       "  </thead>\n",
       "  <tbody>\n",
       "    <tr>\n",
       "      <th>0</th>\n",
       "      <td>Argentina is a third-world country located in Argentina</td>\n",
       "      <td>0.194115</td>\n",
       "      <td>5244</td>\n",
       "      <td>Argentina</td>\n",
       "    </tr>\n",
       "    <tr>\n",
       "      <th>1</th>\n",
       "      <td>Argentina is a third-world country located in Africa</td>\n",
       "      <td>0.126507</td>\n",
       "      <td>1327</td>\n",
       "      <td>Africa</td>\n",
       "    </tr>\n",
       "    <tr>\n",
       "      <th>2</th>\n",
       "      <td>Argentina is a third-world country located in Antarctica</td>\n",
       "      <td>0.070002</td>\n",
       "      <td>27593</td>\n",
       "      <td>Antarctica</td>\n",
       "    </tr>\n",
       "    <tr>\n",
       "      <th>3</th>\n",
       "      <td>Argentina is a third-world country located in Asia</td>\n",
       "      <td>0.068985</td>\n",
       "      <td>1817</td>\n",
       "      <td>Asia</td>\n",
       "    </tr>\n",
       "    <tr>\n",
       "      <th>4</th>\n",
       "      <td>Argentina is a third-world country located in Switzerland</td>\n",
       "      <td>0.060820</td>\n",
       "      <td>6413</td>\n",
       "      <td>Switzerland</td>\n",
       "    </tr>\n",
       "  </tbody>\n",
       "</table>\n",
       "</div>"
      ],
      "text/plain": [
       "                                                    sequence     score  token  \\\n",
       "0    Argentina is a third-world country located in Argentina  0.194115   5244   \n",
       "1       Argentina is a third-world country located in Africa  0.126507   1327   \n",
       "2   Argentina is a third-world country located in Antarctica  0.070002  27593   \n",
       "3         Argentina is a third-world country located in Asia  0.068985   1817   \n",
       "4  Argentina is a third-world country located in Switzerland  0.060820   6413   \n",
       "\n",
       "      token_str  \n",
       "0     Argentina  \n",
       "1        Africa  \n",
       "2    Antarctica  \n",
       "3          Asia  \n",
       "4   Switzerland  "
      ]
     },
     "execution_count": 57,
     "metadata": {},
     "output_type": "execute_result"
    }
   ],
   "source": [
    "pd.DataFrame(m('Argentina is a third-world country located in <mask>'))"
   ]
  },
  {
   "cell_type": "code",
   "execution_count": 58,
   "id": "5923378a",
   "metadata": {},
   "outputs": [
    {
     "data": {
      "text/html": [
       "<div>\n",
       "<style scoped>\n",
       "    .dataframe tbody tr th:only-of-type {\n",
       "        vertical-align: middle;\n",
       "    }\n",
       "\n",
       "    .dataframe tbody tr th {\n",
       "        vertical-align: top;\n",
       "    }\n",
       "\n",
       "    .dataframe thead th {\n",
       "        text-align: right;\n",
       "    }\n",
       "</style>\n",
       "<table border=\"1\" class=\"dataframe\">\n",
       "  <thead>\n",
       "    <tr style=\"text-align: right;\">\n",
       "      <th></th>\n",
       "      <th>sequence</th>\n",
       "      <th>score</th>\n",
       "      <th>token</th>\n",
       "      <th>token_str</th>\n",
       "    </tr>\n",
       "  </thead>\n",
       "  <tbody>\n",
       "    <tr>\n",
       "      <th>0</th>\n",
       "      <td>Argentina is a country located in Argentina</td>\n",
       "      <td>0.437706</td>\n",
       "      <td>5244</td>\n",
       "      <td>Argentina</td>\n",
       "    </tr>\n",
       "    <tr>\n",
       "      <th>1</th>\n",
       "      <td>Argentina is a country located in Chile</td>\n",
       "      <td>0.105872</td>\n",
       "      <td>9614</td>\n",
       "      <td>Chile</td>\n",
       "    </tr>\n",
       "    <tr>\n",
       "      <th>2</th>\n",
       "      <td>Argentina is a country located in Africa</td>\n",
       "      <td>0.055104</td>\n",
       "      <td>1327</td>\n",
       "      <td>Africa</td>\n",
       "    </tr>\n",
       "    <tr>\n",
       "      <th>3</th>\n",
       "      <td>Argentina is a country located in Uruguay</td>\n",
       "      <td>0.046751</td>\n",
       "      <td>17609</td>\n",
       "      <td>Uruguay</td>\n",
       "    </tr>\n",
       "    <tr>\n",
       "      <th>4</th>\n",
       "      <td>Argentina is a country located in Russia</td>\n",
       "      <td>0.027996</td>\n",
       "      <td>798</td>\n",
       "      <td>Russia</td>\n",
       "    </tr>\n",
       "  </tbody>\n",
       "</table>\n",
       "</div>"
      ],
      "text/plain": [
       "                                      sequence     score  token   token_str\n",
       "0  Argentina is a country located in Argentina  0.437706   5244   Argentina\n",
       "1      Argentina is a country located in Chile  0.105872   9614       Chile\n",
       "2     Argentina is a country located in Africa  0.055104   1327      Africa\n",
       "3    Argentina is a country located in Uruguay  0.046751  17609     Uruguay\n",
       "4     Argentina is a country located in Russia  0.027996    798      Russia"
      ]
     },
     "execution_count": 58,
     "metadata": {},
     "output_type": "execute_result"
    }
   ],
   "source": [
    "# This pipeline only works for inputs with exactly one token masked.\n",
    "# Explain why not South America...\n",
    "pd.DataFrame(m('Argentina is a country located in <mask>'))"
   ]
  },
  {
   "cell_type": "code",
   "execution_count": 63,
   "id": "0cc5e9fb",
   "metadata": {},
   "outputs": [
    {
     "data": {
      "text/html": [
       "<div>\n",
       "<style scoped>\n",
       "    .dataframe tbody tr th:only-of-type {\n",
       "        vertical-align: middle;\n",
       "    }\n",
       "\n",
       "    .dataframe tbody tr th {\n",
       "        vertical-align: top;\n",
       "    }\n",
       "\n",
       "    .dataframe thead th {\n",
       "        text-align: right;\n",
       "    }\n",
       "</style>\n",
       "<table border=\"1\" class=\"dataframe\">\n",
       "  <thead>\n",
       "    <tr style=\"text-align: right;\">\n",
       "      <th></th>\n",
       "      <th>sequence</th>\n",
       "      <th>score</th>\n",
       "      <th>token</th>\n",
       "      <th>token_str</th>\n",
       "    </tr>\n",
       "  </thead>\n",
       "  <tbody>\n",
       "    <tr>\n",
       "      <th>0</th>\n",
       "      <td>Argentina is a country located in South America</td>\n",
       "      <td>0.416754</td>\n",
       "      <td>247</td>\n",
       "      <td>country</td>\n",
       "    </tr>\n",
       "    <tr>\n",
       "      <th>1</th>\n",
       "      <td>Argentina is a region located in South America</td>\n",
       "      <td>0.160597</td>\n",
       "      <td>976</td>\n",
       "      <td>region</td>\n",
       "    </tr>\n",
       "    <tr>\n",
       "      <th>2</th>\n",
       "      <td>Argentina is a republic located in South America</td>\n",
       "      <td>0.126918</td>\n",
       "      <td>16441</td>\n",
       "      <td>republic</td>\n",
       "    </tr>\n",
       "    <tr>\n",
       "      <th>3</th>\n",
       "      <td>Argentina is a nation located in South America</td>\n",
       "      <td>0.085056</td>\n",
       "      <td>1226</td>\n",
       "      <td>nation</td>\n",
       "    </tr>\n",
       "    <tr>\n",
       "      <th>4</th>\n",
       "      <td>Argentina is a province located in South America</td>\n",
       "      <td>0.050522</td>\n",
       "      <td>2791</td>\n",
       "      <td>province</td>\n",
       "    </tr>\n",
       "  </tbody>\n",
       "</table>\n",
       "</div>"
      ],
      "text/plain": [
       "                                           sequence     score  token  \\\n",
       "0   Argentina is a country located in South America  0.416754    247   \n",
       "1    Argentina is a region located in South America  0.160597    976   \n",
       "2  Argentina is a republic located in South America  0.126918  16441   \n",
       "3    Argentina is a nation located in South America  0.085056   1226   \n",
       "4  Argentina is a province located in South America  0.050522   2791   \n",
       "\n",
       "   token_str  \n",
       "0    country  \n",
       "1     region  \n",
       "2   republic  \n",
       "3     nation  \n",
       "4   province  "
      ]
     },
     "execution_count": 63,
     "metadata": {},
     "output_type": "execute_result"
    }
   ],
   "source": [
    "pd.DataFrame(m('Argentina is a <mask> located in South America'))"
   ]
  },
  {
   "cell_type": "code",
   "execution_count": 62,
   "id": "6893bbe9",
   "metadata": {},
   "outputs": [
    {
     "name": "stderr",
     "output_type": "stream",
     "text": [
      "The specified target token `province` does not exist in the model vocabulary. Replacing with `prov`.\n"
     ]
    },
    {
     "data": {
      "text/html": [
       "<div>\n",
       "<style scoped>\n",
       "    .dataframe tbody tr th:only-of-type {\n",
       "        vertical-align: middle;\n",
       "    }\n",
       "\n",
       "    .dataframe tbody tr th {\n",
       "        vertical-align: top;\n",
       "    }\n",
       "\n",
       "    .dataframe thead th {\n",
       "        text-align: right;\n",
       "    }\n",
       "</style>\n",
       "<table border=\"1\" class=\"dataframe\">\n",
       "  <thead>\n",
       "    <tr style=\"text-align: right;\">\n",
       "      <th></th>\n",
       "      <th>sequence</th>\n",
       "      <th>score</th>\n",
       "      <th>token</th>\n",
       "      <th>token_str</th>\n",
       "    </tr>\n",
       "  </thead>\n",
       "  <tbody>\n",
       "    <tr>\n",
       "      <th>0</th>\n",
       "      <td>Argentina is acompany located in South America</td>\n",
       "      <td>2.124516e-06</td>\n",
       "      <td>24233</td>\n",
       "      <td>company</td>\n",
       "    </tr>\n",
       "    <tr>\n",
       "      <th>1</th>\n",
       "      <td>Argentina is aprov located in South America</td>\n",
       "      <td>4.395487e-08</td>\n",
       "      <td>13138</td>\n",
       "      <td>prov</td>\n",
       "    </tr>\n",
       "  </tbody>\n",
       "</table>\n",
       "</div>"
      ],
      "text/plain": [
       "                                         sequence         score  token  \\\n",
       "0  Argentina is acompany located in South America  2.124516e-06  24233   \n",
       "1     Argentina is aprov located in South America  4.395487e-08  13138   \n",
       "\n",
       "  token_str  \n",
       "0   company  \n",
       "1      prov  "
      ]
     },
     "execution_count": 62,
     "metadata": {},
     "output_type": "execute_result"
    }
   ],
   "source": [
    "# Weird\n",
    "pd.DataFrame(m('Argentina is a <mask> located in South America', targets=[\"province\", \"company\"]))"
   ]
  },
  {
   "cell_type": "code",
   "execution_count": 72,
   "id": "64adb8d8",
   "metadata": {},
   "outputs": [],
   "source": [
    "pd.options.display.float_format = '{:.12f}'.format"
   ]
  },
  {
   "cell_type": "code",
   "execution_count": 73,
   "id": "1242ded9",
   "metadata": {},
   "outputs": [
    {
     "data": {
      "text/html": [
       "<div>\n",
       "<style scoped>\n",
       "    .dataframe tbody tr th:only-of-type {\n",
       "        vertical-align: middle;\n",
       "    }\n",
       "\n",
       "    .dataframe tbody tr th {\n",
       "        vertical-align: top;\n",
       "    }\n",
       "\n",
       "    .dataframe thead th {\n",
       "        text-align: right;\n",
       "    }\n",
       "</style>\n",
       "<table border=\"1\" class=\"dataframe\">\n",
       "  <thead>\n",
       "    <tr style=\"text-align: right;\">\n",
       "      <th></th>\n",
       "      <th>sequence</th>\n",
       "      <th>score</th>\n",
       "      <th>token</th>\n",
       "      <th>token_str</th>\n",
       "    </tr>\n",
       "  </thead>\n",
       "  <tbody>\n",
       "    <tr>\n",
       "      <th>0</th>\n",
       "      <td>Argentina is a nation located in South America</td>\n",
       "      <td>0.085056111217</td>\n",
       "      <td>1226</td>\n",
       "      <td>nation</td>\n",
       "    </tr>\n",
       "    <tr>\n",
       "      <th>1</th>\n",
       "      <td>Argentina is a province located in South America</td>\n",
       "      <td>0.050522368401</td>\n",
       "      <td>2791</td>\n",
       "      <td>province</td>\n",
       "    </tr>\n",
       "    <tr>\n",
       "      <th>2</th>\n",
       "      <td>Argentina is a company located in South America</td>\n",
       "      <td>0.004292198457</td>\n",
       "      <td>138</td>\n",
       "      <td>company</td>\n",
       "    </tr>\n",
       "    <tr>\n",
       "      <th>3</th>\n",
       "      <td>Argentina is a apple located in South America</td>\n",
       "      <td>0.000000000138</td>\n",
       "      <td>15162</td>\n",
       "      <td>apple</td>\n",
       "    </tr>\n",
       "  </tbody>\n",
       "</table>\n",
       "</div>"
      ],
      "text/plain": [
       "                                           sequence          score  token  \\\n",
       "0    Argentina is a nation located in South America 0.085056111217   1226   \n",
       "1  Argentina is a province located in South America 0.050522368401   2791   \n",
       "2   Argentina is a company located in South America 0.004292198457    138   \n",
       "3     Argentina is a apple located in South America 0.000000000138  15162   \n",
       "\n",
       "   token_str  \n",
       "0     nation  \n",
       "1   province  \n",
       "2    company  \n",
       "3      apple  "
      ]
     },
     "execution_count": 73,
     "metadata": {},
     "output_type": "execute_result"
    }
   ],
   "source": [
    "pd.DataFrame(m('Argentina is a <mask> located in South America', targets=[\" province\", \" nation\", \" company\", \" apple\"]))"
   ]
  },
  {
   "cell_type": "code",
   "execution_count": 84,
   "id": "7b0779ba",
   "metadata": {},
   "outputs": [
    {
     "data": {
      "text/html": [
       "<div>\n",
       "<style scoped>\n",
       "    .dataframe tbody tr th:only-of-type {\n",
       "        vertical-align: middle;\n",
       "    }\n",
       "\n",
       "    .dataframe tbody tr th {\n",
       "        vertical-align: top;\n",
       "    }\n",
       "\n",
       "    .dataframe thead th {\n",
       "        text-align: right;\n",
       "    }\n",
       "</style>\n",
       "<table border=\"1\" class=\"dataframe\">\n",
       "  <thead>\n",
       "    <tr style=\"text-align: right;\">\n",
       "      <th></th>\n",
       "      <th>sequence</th>\n",
       "      <th>score</th>\n",
       "      <th>token</th>\n",
       "      <th>token_str</th>\n",
       "    </tr>\n",
       "  </thead>\n",
       "  <tbody>\n",
       "    <tr>\n",
       "      <th>0</th>\n",
       "      <td>Argentina is a country located in South America</td>\n",
       "      <td>0.4168</td>\n",
       "      <td>247</td>\n",
       "      <td>country</td>\n",
       "    </tr>\n",
       "    <tr>\n",
       "      <th>1</th>\n",
       "      <td>Argentina is a region located in South America</td>\n",
       "      <td>0.1606</td>\n",
       "      <td>976</td>\n",
       "      <td>region</td>\n",
       "    </tr>\n",
       "    <tr>\n",
       "      <th>2</th>\n",
       "      <td>Argentina is a republic located in South America</td>\n",
       "      <td>0.1269</td>\n",
       "      <td>16441</td>\n",
       "      <td>republic</td>\n",
       "    </tr>\n",
       "    <tr>\n",
       "      <th>3</th>\n",
       "      <td>Argentina is a nation located in South America</td>\n",
       "      <td>0.0851</td>\n",
       "      <td>1226</td>\n",
       "      <td>nation</td>\n",
       "    </tr>\n",
       "    <tr>\n",
       "      <th>4</th>\n",
       "      <td>Argentina is a province located in South America</td>\n",
       "      <td>0.0505</td>\n",
       "      <td>2791</td>\n",
       "      <td>province</td>\n",
       "    </tr>\n",
       "    <tr>\n",
       "      <th>5</th>\n",
       "      <td>Argentina is a city located in South America</td>\n",
       "      <td>0.0184</td>\n",
       "      <td>343</td>\n",
       "      <td>city</td>\n",
       "    </tr>\n",
       "    <tr>\n",
       "      <th>6</th>\n",
       "      <td>Argentina is a territory located in South America</td>\n",
       "      <td>0.0154</td>\n",
       "      <td>4284</td>\n",
       "      <td>territory</td>\n",
       "    </tr>\n",
       "    <tr>\n",
       "      <th>7</th>\n",
       "      <td>Argentina is a colony located in South America</td>\n",
       "      <td>0.0145</td>\n",
       "      <td>21878</td>\n",
       "      <td>colony</td>\n",
       "    </tr>\n",
       "    <tr>\n",
       "      <th>8</th>\n",
       "      <td>Argentina is a state located in South America</td>\n",
       "      <td>0.0145</td>\n",
       "      <td>194</td>\n",
       "      <td>state</td>\n",
       "    </tr>\n",
       "    <tr>\n",
       "      <th>9</th>\n",
       "      <td>Argentina is a municipality located in South America</td>\n",
       "      <td>0.0129</td>\n",
       "      <td>17300</td>\n",
       "      <td>municipality</td>\n",
       "    </tr>\n",
       "    <tr>\n",
       "      <th>10</th>\n",
       "      <td>Argentina is a continent located in South America</td>\n",
       "      <td>0.0099</td>\n",
       "      <td>9183</td>\n",
       "      <td>continent</td>\n",
       "    </tr>\n",
       "    <tr>\n",
       "      <th>11</th>\n",
       "      <td>Argentina is a peninsula located in South America</td>\n",
       "      <td>0.0049</td>\n",
       "      <td>14113</td>\n",
       "      <td>peninsula</td>\n",
       "    </tr>\n",
       "    <tr>\n",
       "      <th>12</th>\n",
       "      <td>Argentina is a federation located in South America</td>\n",
       "      <td>0.0045</td>\n",
       "      <td>15666</td>\n",
       "      <td>federation</td>\n",
       "    </tr>\n",
       "    <tr>\n",
       "      <th>13</th>\n",
       "      <td>Argentina is a company located in South America</td>\n",
       "      <td>0.0043</td>\n",
       "      <td>138</td>\n",
       "      <td>company</td>\n",
       "    </tr>\n",
       "    <tr>\n",
       "      <th>14</th>\n",
       "      <td>Argentina is a place located in South America</td>\n",
       "      <td>0.0038</td>\n",
       "      <td>317</td>\n",
       "      <td>place</td>\n",
       "    </tr>\n",
       "    <tr>\n",
       "      <th>15</th>\n",
       "      <td>Argentina is a destination located in South America</td>\n",
       "      <td>0.0034</td>\n",
       "      <td>6381</td>\n",
       "      <td>destination</td>\n",
       "    </tr>\n",
       "    <tr>\n",
       "      <th>16</th>\n",
       "      <td>Argentina is a university located in South America</td>\n",
       "      <td>0.0031</td>\n",
       "      <td>2737</td>\n",
       "      <td>university</td>\n",
       "    </tr>\n",
       "    <tr>\n",
       "      <th>17</th>\n",
       "      <td>Argentina is a kingdom located in South America</td>\n",
       "      <td>0.0028</td>\n",
       "      <td>11673</td>\n",
       "      <td>kingdom</td>\n",
       "    </tr>\n",
       "    <tr>\n",
       "      <th>18</th>\n",
       "      <td>Argentina is a Country located in South America</td>\n",
       "      <td>0.0026</td>\n",
       "      <td>5093</td>\n",
       "      <td>Country</td>\n",
       "    </tr>\n",
       "    <tr>\n",
       "      <th>19</th>\n",
       "      <td>Argentina is a Republic located in South America</td>\n",
       "      <td>0.0020</td>\n",
       "      <td>3497</td>\n",
       "      <td>Republic</td>\n",
       "    </tr>\n",
       "  </tbody>\n",
       "</table>\n",
       "</div>"
      ],
      "text/plain": [
       "                                                sequence  score  token  \\\n",
       "0        Argentina is a country located in South America 0.4168    247   \n",
       "1         Argentina is a region located in South America 0.1606    976   \n",
       "2       Argentina is a republic located in South America 0.1269  16441   \n",
       "3         Argentina is a nation located in South America 0.0851   1226   \n",
       "4       Argentina is a province located in South America 0.0505   2791   \n",
       "5           Argentina is a city located in South America 0.0184    343   \n",
       "6      Argentina is a territory located in South America 0.0154   4284   \n",
       "7         Argentina is a colony located in South America 0.0145  21878   \n",
       "8          Argentina is a state located in South America 0.0145    194   \n",
       "9   Argentina is a municipality located in South America 0.0129  17300   \n",
       "10     Argentina is a continent located in South America 0.0099   9183   \n",
       "11     Argentina is a peninsula located in South America 0.0049  14113   \n",
       "12    Argentina is a federation located in South America 0.0045  15666   \n",
       "13       Argentina is a company located in South America 0.0043    138   \n",
       "14         Argentina is a place located in South America 0.0038    317   \n",
       "15   Argentina is a destination located in South America 0.0034   6381   \n",
       "16    Argentina is a university located in South America 0.0031   2737   \n",
       "17       Argentina is a kingdom located in South America 0.0028  11673   \n",
       "18       Argentina is a Country located in South America 0.0026   5093   \n",
       "19      Argentina is a Republic located in South America 0.0020   3497   \n",
       "\n",
       "        token_str  \n",
       "0         country  \n",
       "1          region  \n",
       "2        republic  \n",
       "3          nation  \n",
       "4        province  \n",
       "5            city  \n",
       "6       territory  \n",
       "7          colony  \n",
       "8           state  \n",
       "9    municipality  \n",
       "10      continent  \n",
       "11      peninsula  \n",
       "12     federation  \n",
       "13        company  \n",
       "14          place  \n",
       "15    destination  \n",
       "16     university  \n",
       "17        kingdom  \n",
       "18        Country  \n",
       "19       Republic  "
      ]
     },
     "execution_count": 84,
     "metadata": {},
     "output_type": "execute_result"
    }
   ],
   "source": [
    "pd.DataFrame(m('Argentina is a <mask> located in South America', top_k=20))"
   ]
  },
  {
   "cell_type": "code",
   "execution_count": 76,
   "id": "74962c49",
   "metadata": {},
   "outputs": [
    {
     "data": {
      "text/html": [
       "<div>\n",
       "<style scoped>\n",
       "    .dataframe tbody tr th:only-of-type {\n",
       "        vertical-align: middle;\n",
       "    }\n",
       "\n",
       "    .dataframe tbody tr th {\n",
       "        vertical-align: top;\n",
       "    }\n",
       "\n",
       "    .dataframe thead th {\n",
       "        text-align: right;\n",
       "    }\n",
       "</style>\n",
       "<table border=\"1\" class=\"dataframe\">\n",
       "  <thead>\n",
       "    <tr style=\"text-align: right;\">\n",
       "      <th></th>\n",
       "      <th>sequence</th>\n",
       "      <th>score</th>\n",
       "      <th>token</th>\n",
       "      <th>token_str</th>\n",
       "    </tr>\n",
       "  </thead>\n",
       "  <tbody>\n",
       "    <tr>\n",
       "      <th>0</th>\n",
       "      <td>Argentina is a country located in South America</td>\n",
       "      <td>0.6412</td>\n",
       "      <td>730</td>\n",
       "      <td>America</td>\n",
       "    </tr>\n",
       "    <tr>\n",
       "      <th>1</th>\n",
       "      <td>Argentina is a country located in South Africa</td>\n",
       "      <td>0.3338</td>\n",
       "      <td>1327</td>\n",
       "      <td>Africa</td>\n",
       "    </tr>\n",
       "    <tr>\n",
       "      <th>2</th>\n",
       "      <td>Argentina is a country located in South Asia</td>\n",
       "      <td>0.0154</td>\n",
       "      <td>1817</td>\n",
       "      <td>Asia</td>\n",
       "    </tr>\n",
       "    <tr>\n",
       "      <th>3</th>\n",
       "      <td>Argentina is a country located in South Sudan</td>\n",
       "      <td>0.0039</td>\n",
       "      <td>6312</td>\n",
       "      <td>Sudan</td>\n",
       "    </tr>\n",
       "    <tr>\n",
       "      <th>4</th>\n",
       "      <td>Argentina is a country located in South Korea</td>\n",
       "      <td>0.0017</td>\n",
       "      <td>1101</td>\n",
       "      <td>Korea</td>\n",
       "    </tr>\n",
       "    <tr>\n",
       "      <th>5</th>\n",
       "      <td>Argentina is a country located in South China</td>\n",
       "      <td>0.0011</td>\n",
       "      <td>436</td>\n",
       "      <td>China</td>\n",
       "    </tr>\n",
       "    <tr>\n",
       "      <th>6</th>\n",
       "      <td>Argentina is a country located in South Americas</td>\n",
       "      <td>0.0006</td>\n",
       "      <td>11685</td>\n",
       "      <td>Americas</td>\n",
       "    </tr>\n",
       "    <tr>\n",
       "      <th>7</th>\n",
       "      <td>Argentina is a country located in South Pacific</td>\n",
       "      <td>0.0003</td>\n",
       "      <td>3073</td>\n",
       "      <td>Pacific</td>\n",
       "    </tr>\n",
       "    <tr>\n",
       "      <th>8</th>\n",
       "      <td>Argentina is a country located in South Carolina</td>\n",
       "      <td>0.0003</td>\n",
       "      <td>1961</td>\n",
       "      <td>Carolina</td>\n",
       "    </tr>\n",
       "    <tr>\n",
       "      <th>9</th>\n",
       "      <td>Argentina is a country located in South American</td>\n",
       "      <td>0.0002</td>\n",
       "      <td>470</td>\n",
       "      <td>American</td>\n",
       "    </tr>\n",
       "    <tr>\n",
       "      <th>10</th>\n",
       "      <td>Argentina is a country located in South Florida</td>\n",
       "      <td>0.0002</td>\n",
       "      <td>1261</td>\n",
       "      <td>Florida</td>\n",
       "    </tr>\n",
       "    <tr>\n",
       "      <th>11</th>\n",
       "      <td>Argentina is a country located in South African</td>\n",
       "      <td>0.0001</td>\n",
       "      <td>1704</td>\n",
       "      <td>African</td>\n",
       "    </tr>\n",
       "    <tr>\n",
       "      <th>12</th>\n",
       "      <td>Argentina is a country located in South Atlantic</td>\n",
       "      <td>0.0001</td>\n",
       "      <td>5038</td>\n",
       "      <td>Atlantic</td>\n",
       "    </tr>\n",
       "    <tr>\n",
       "      <th>13</th>\n",
       "      <td>Argentina is a country located in South East</td>\n",
       "      <td>0.0001</td>\n",
       "      <td>953</td>\n",
       "      <td>East</td>\n",
       "    </tr>\n",
       "    <tr>\n",
       "      <th>14</th>\n",
       "      <td>Argentina is a country located in South Australia</td>\n",
       "      <td>0.0001</td>\n",
       "      <td>1221</td>\n",
       "      <td>Australia</td>\n",
       "    </tr>\n",
       "    <tr>\n",
       "      <th>15</th>\n",
       "      <td>Argentina is a country located in South Argentina</td>\n",
       "      <td>0.0001</td>\n",
       "      <td>5244</td>\n",
       "      <td>Argentina</td>\n",
       "    </tr>\n",
       "    <tr>\n",
       "      <th>16</th>\n",
       "      <td>Argentina is a country located in South Brazil</td>\n",
       "      <td>0.0001</td>\n",
       "      <td>2910</td>\n",
       "      <td>Brazil</td>\n",
       "    </tr>\n",
       "    <tr>\n",
       "      <th>17</th>\n",
       "      <td>Argentina is a country located in South Wales</td>\n",
       "      <td>0.0001</td>\n",
       "      <td>5295</td>\n",
       "      <td>Wales</td>\n",
       "    </tr>\n",
       "    <tr>\n",
       "      <th>18</th>\n",
       "      <td>Argentina is a country located in South Caucasus</td>\n",
       "      <td>0.0001</td>\n",
       "      <td>39095</td>\n",
       "      <td>Caucasus</td>\n",
       "    </tr>\n",
       "    <tr>\n",
       "      <th>19</th>\n",
       "      <td>Argentina is a country located in South West</td>\n",
       "      <td>0.0001</td>\n",
       "      <td>580</td>\n",
       "      <td>West</td>\n",
       "    </tr>\n",
       "  </tbody>\n",
       "</table>\n",
       "</div>"
      ],
      "text/plain": [
       "                                             sequence  score  token  \\\n",
       "0     Argentina is a country located in South America 0.6412    730   \n",
       "1      Argentina is a country located in South Africa 0.3338   1327   \n",
       "2        Argentina is a country located in South Asia 0.0154   1817   \n",
       "3       Argentina is a country located in South Sudan 0.0039   6312   \n",
       "4       Argentina is a country located in South Korea 0.0017   1101   \n",
       "5       Argentina is a country located in South China 0.0011    436   \n",
       "6    Argentina is a country located in South Americas 0.0006  11685   \n",
       "7     Argentina is a country located in South Pacific 0.0003   3073   \n",
       "8    Argentina is a country located in South Carolina 0.0003   1961   \n",
       "9    Argentina is a country located in South American 0.0002    470   \n",
       "10    Argentina is a country located in South Florida 0.0002   1261   \n",
       "11    Argentina is a country located in South African 0.0001   1704   \n",
       "12   Argentina is a country located in South Atlantic 0.0001   5038   \n",
       "13       Argentina is a country located in South East 0.0001    953   \n",
       "14  Argentina is a country located in South Australia 0.0001   1221   \n",
       "15  Argentina is a country located in South Argentina 0.0001   5244   \n",
       "16     Argentina is a country located in South Brazil 0.0001   2910   \n",
       "17      Argentina is a country located in South Wales 0.0001   5295   \n",
       "18   Argentina is a country located in South Caucasus 0.0001  39095   \n",
       "19       Argentina is a country located in South West 0.0001    580   \n",
       "\n",
       "     token_str  \n",
       "0      America  \n",
       "1       Africa  \n",
       "2         Asia  \n",
       "3        Sudan  \n",
       "4        Korea  \n",
       "5        China  \n",
       "6     Americas  \n",
       "7      Pacific  \n",
       "8     Carolina  \n",
       "9     American  \n",
       "10     Florida  \n",
       "11     African  \n",
       "12    Atlantic  \n",
       "13        East  \n",
       "14   Australia  \n",
       "15   Argentina  \n",
       "16      Brazil  \n",
       "17       Wales  \n",
       "18    Caucasus  \n",
       "19        West  "
      ]
     },
     "execution_count": 76,
     "metadata": {},
     "output_type": "execute_result"
    }
   ],
   "source": [
    "pd.options.display.float_format = '{:.4f}'.format\n",
    "pd.DataFrame(m('Argentina is a country located in South <mask>', top_k=20))"
   ]
  },
  {
   "cell_type": "code",
   "execution_count": 85,
   "id": "7702abca",
   "metadata": {},
   "outputs": [
    {
     "data": {
      "text/html": [
       "<div>\n",
       "<style scoped>\n",
       "    .dataframe tbody tr th:only-of-type {\n",
       "        vertical-align: middle;\n",
       "    }\n",
       "\n",
       "    .dataframe tbody tr th {\n",
       "        vertical-align: top;\n",
       "    }\n",
       "\n",
       "    .dataframe thead th {\n",
       "        text-align: right;\n",
       "    }\n",
       "</style>\n",
       "<table border=\"1\" class=\"dataframe\">\n",
       "  <thead>\n",
       "    <tr style=\"text-align: right;\">\n",
       "      <th></th>\n",
       "      <th>sequence</th>\n",
       "      <th>score</th>\n",
       "      <th>token</th>\n",
       "      <th>token_str</th>\n",
       "    </tr>\n",
       "  </thead>\n",
       "  <tbody>\n",
       "    <tr>\n",
       "      <th>0</th>\n",
       "      <td>During my breakfast I had an orange juice</td>\n",
       "      <td>0.6901</td>\n",
       "      <td>8978</td>\n",
       "      <td>orange</td>\n",
       "    </tr>\n",
       "    <tr>\n",
       "      <th>1</th>\n",
       "      <td>During my breakfast I had an apple juice</td>\n",
       "      <td>0.2874</td>\n",
       "      <td>15162</td>\n",
       "      <td>apple</td>\n",
       "    </tr>\n",
       "    <tr>\n",
       "      <th>2</th>\n",
       "      <td>During my breakfast I had an Orange juice</td>\n",
       "      <td>0.0055</td>\n",
       "      <td>5726</td>\n",
       "      <td>Orange</td>\n",
       "    </tr>\n",
       "    <tr>\n",
       "      <th>3</th>\n",
       "      <td>During my breakfast I had an extra juice</td>\n",
       "      <td>0.0024</td>\n",
       "      <td>1823</td>\n",
       "      <td>extra</td>\n",
       "    </tr>\n",
       "    <tr>\n",
       "      <th>4</th>\n",
       "      <td>During my breakfast I had an avocado juice</td>\n",
       "      <td>0.0018</td>\n",
       "      <td>25358</td>\n",
       "      <td>avocado</td>\n",
       "    </tr>\n",
       "    <tr>\n",
       "      <th>5</th>\n",
       "      <td>During my breakfast I had an almond juice</td>\n",
       "      <td>0.0017</td>\n",
       "      <td>32473</td>\n",
       "      <td>almond</td>\n",
       "    </tr>\n",
       "    <tr>\n",
       "      <th>6</th>\n",
       "      <td>During my breakfast I had an olive juice</td>\n",
       "      <td>0.0015</td>\n",
       "      <td>14983</td>\n",
       "      <td>olive</td>\n",
       "    </tr>\n",
       "    <tr>\n",
       "      <th>7</th>\n",
       "      <td>During my breakfast I had an herbal juice</td>\n",
       "      <td>0.0010</td>\n",
       "      <td>30868</td>\n",
       "      <td>herbal</td>\n",
       "    </tr>\n",
       "    <tr>\n",
       "      <th>8</th>\n",
       "      <td>During my breakfast I had an ice juice</td>\n",
       "      <td>0.0007</td>\n",
       "      <td>2480</td>\n",
       "      <td>ice</td>\n",
       "    </tr>\n",
       "    <tr>\n",
       "      <th>9</th>\n",
       "      <td>During my breakfast I had an acidic juice</td>\n",
       "      <td>0.0006</td>\n",
       "      <td>41314</td>\n",
       "      <td>acidic</td>\n",
       "    </tr>\n",
       "  </tbody>\n",
       "</table>\n",
       "</div>"
      ],
      "text/plain": [
       "                                     sequence  score  token token_str\n",
       "0   During my breakfast I had an orange juice 0.6901   8978    orange\n",
       "1    During my breakfast I had an apple juice 0.2874  15162     apple\n",
       "2   During my breakfast I had an Orange juice 0.0055   5726    Orange\n",
       "3    During my breakfast I had an extra juice 0.0024   1823     extra\n",
       "4  During my breakfast I had an avocado juice 0.0018  25358   avocado\n",
       "5   During my breakfast I had an almond juice 0.0017  32473    almond\n",
       "6    During my breakfast I had an olive juice 0.0015  14983     olive\n",
       "7   During my breakfast I had an herbal juice 0.0010  30868    herbal\n",
       "8      During my breakfast I had an ice juice 0.0007   2480       ice\n",
       "9   During my breakfast I had an acidic juice 0.0006  41314    acidic"
      ]
     },
     "execution_count": 85,
     "metadata": {},
     "output_type": "execute_result"
    }
   ],
   "source": [
    "m = pipeline('fill-mask', framework=\"pt\")\n",
    "pd.DataFrame(m('During my breakfast I had an <mask> juice', top_k=10))"
   ]
  },
  {
   "cell_type": "code",
   "execution_count": 78,
   "id": "1493e547",
   "metadata": {},
   "outputs": [
    {
     "data": {
      "text/html": [
       "<div>\n",
       "<style scoped>\n",
       "    .dataframe tbody tr th:only-of-type {\n",
       "        vertical-align: middle;\n",
       "    }\n",
       "\n",
       "    .dataframe tbody tr th {\n",
       "        vertical-align: top;\n",
       "    }\n",
       "\n",
       "    .dataframe thead th {\n",
       "        text-align: right;\n",
       "    }\n",
       "</style>\n",
       "<table border=\"1\" class=\"dataframe\">\n",
       "  <thead>\n",
       "    <tr style=\"text-align: right;\">\n",
       "      <th></th>\n",
       "      <th>sequence</th>\n",
       "      <th>score</th>\n",
       "      <th>token</th>\n",
       "      <th>token_str</th>\n",
       "    </tr>\n",
       "  </thead>\n",
       "  <tbody>\n",
       "    <tr>\n",
       "      <th>0</th>\n",
       "      <td>Argentina is a country located in South America.</td>\n",
       "      <td>0.7924</td>\n",
       "      <td>4</td>\n",
       "      <td>.</td>\n",
       "    </tr>\n",
       "  </tbody>\n",
       "</table>\n",
       "</div>"
      ],
      "text/plain": [
       "                                           sequence  score  token token_str\n",
       "0  Argentina is a country located in South America. 0.7924      4         ."
      ]
     },
     "execution_count": 78,
     "metadata": {},
     "output_type": "execute_result"
    }
   ],
   "source": [
    "pd.DataFrame(m('Argentina is a country located in South America <mask>', top_k=1))"
   ]
  },
  {
   "cell_type": "code",
   "execution_count": 80,
   "id": "5735ee8e",
   "metadata": {},
   "outputs": [
    {
     "data": {
      "text/html": [
       "<div>\n",
       "<style scoped>\n",
       "    .dataframe tbody tr th:only-of-type {\n",
       "        vertical-align: middle;\n",
       "    }\n",
       "\n",
       "    .dataframe tbody tr th {\n",
       "        vertical-align: top;\n",
       "    }\n",
       "\n",
       "    .dataframe thead th {\n",
       "        text-align: right;\n",
       "    }\n",
       "</style>\n",
       "<table border=\"1\" class=\"dataframe\">\n",
       "  <thead>\n",
       "    <tr style=\"text-align: right;\">\n",
       "      <th></th>\n",
       "      <th>sequence</th>\n",
       "      <th>score</th>\n",
       "      <th>token</th>\n",
       "      <th>token_str</th>\n",
       "    </tr>\n",
       "  </thead>\n",
       "  <tbody>\n",
       "    <tr>\n",
       "      <th>0</th>\n",
       "      <td>Argentina is a country located in South America. ®</td>\n",
       "      <td>0.2803</td>\n",
       "      <td>39110</td>\n",
       "      <td>®</td>\n",
       "    </tr>\n",
       "    <tr>\n",
       "      <th>1</th>\n",
       "      <td>Argentina is a country located in South America.</td>\n",
       "      <td>0.2438</td>\n",
       "      <td>2</td>\n",
       "      <td>&lt;/s&gt;</td>\n",
       "    </tr>\n",
       "    <tr>\n",
       "      <th>2</th>\n",
       "      <td>Argentina is a country located in South America.​</td>\n",
       "      <td>0.0340</td>\n",
       "      <td>13635</td>\n",
       "      <td>​</td>\n",
       "    </tr>\n",
       "    <tr>\n",
       "      <th>3</th>\n",
       "      <td>Argentina is a country located in South America. Contents</td>\n",
       "      <td>0.0196</td>\n",
       "      <td>36422</td>\n",
       "      <td>Contents</td>\n",
       "    </tr>\n",
       "    <tr>\n",
       "      <th>4</th>\n",
       "      <td>Argentina is a country located in South America..</td>\n",
       "      <td>0.0178</td>\n",
       "      <td>479</td>\n",
       "      <td>.</td>\n",
       "    </tr>\n",
       "  </tbody>\n",
       "</table>\n",
       "</div>"
      ],
      "text/plain": [
       "                                                    sequence  score  token  \\\n",
       "0         Argentina is a country located in South America. ® 0.2803  39110   \n",
       "1           Argentina is a country located in South America. 0.2438      2   \n",
       "2          Argentina is a country located in South America.​ 0.0340  13635   \n",
       "3  Argentina is a country located in South America. Contents 0.0196  36422   \n",
       "4          Argentina is a country located in South America.. 0.0178    479   \n",
       "\n",
       "   token_str  \n",
       "0          ®  \n",
       "1       </s>  \n",
       "2          ​  \n",
       "3   Contents  \n",
       "4          .  "
      ]
     },
     "execution_count": 80,
     "metadata": {},
     "output_type": "execute_result"
    }
   ],
   "source": [
    "pd.DataFrame(m('Argentina is a country located in South America. <mask>', top_k=5))"
   ]
  },
  {
   "cell_type": "markdown",
   "id": "0db9b5d3",
   "metadata": {},
   "source": [
    "# [Text generation](https://huggingface.co/transformers/task_summary.html#text-generation)\n",
    "\n",
    "https://www.kaggle.com/julian3833/gpt-2-large-774m-w-pytorch-not-that-impressive"
   ]
  },
  {
   "cell_type": "code",
   "execution_count": 102,
   "id": "543b29c5",
   "metadata": {},
   "outputs": [],
   "source": [
    "from transformers import set_seed\n",
    "set_seed(42)\n",
    "#generator = pipeline('text-generation', model='gpt2')\n",
    "\n",
    "#generator(\"Hello, I'm a language model,\", max_length=30, num_return_sequences=5)\n"
   ]
  },
  {
   "cell_type": "code",
   "execution_count": 101,
   "id": "c882af3d",
   "metadata": {},
   "outputs": [],
   "source": [
    "set_seed??"
   ]
  },
  {
   "cell_type": "code",
   "execution_count": 86,
   "id": "bb66dd77",
   "metadata": {},
   "outputs": [],
   "source": [
    "m = pipeline(\"text-generation\", framework=\"pt\")"
   ]
  },
  {
   "cell_type": "code",
   "execution_count": 88,
   "id": "600616ba",
   "metadata": {},
   "outputs": [
    {
     "name": "stderr",
     "output_type": "stream",
     "text": [
      "Setting `pad_token_id` to `eos_token_id`:50256 for open-end generation.\n"
     ]
    }
   ],
   "source": [
    "res = m(\"As far as I am concerned, I will\", max_length=50, do_sample=False)"
   ]
  },
  {
   "cell_type": "code",
   "execution_count": 92,
   "id": "72c60763",
   "metadata": {},
   "outputs": [
    {
     "name": "stdout",
     "output_type": "stream",
     "text": [
      "As far as I am concerned, I will be the first to admit that I am not a fan of the idea of a \"free market.\" I think that the idea of a free market is a bit of a stretch. I think that the idea\n"
     ]
    }
   ],
   "source": [
    "print(res[0]['generated_text'])"
   ]
  },
  {
   "cell_type": "code",
   "execution_count": 93,
   "id": "e53c957c",
   "metadata": {},
   "outputs": [
    {
     "name": "stderr",
     "output_type": "stream",
     "text": [
      "Setting `pad_token_id` to `eos_token_id`:50256 for open-end generation.\n"
     ]
    },
    {
     "data": {
      "text/plain": [
       "'As far as I am concerned, I will be the first to admit that I am not a fan of the idea of a \"free market.\" I think that the idea of a free market is a bit of a stretch. I think that the idea of a free market is a bit of a stretch. I think that the idea of a free market is a bit of a stretch. I think that the idea of a free market is a bit of a stretch. I think that the idea of a'"
      ]
     },
     "execution_count": 93,
     "metadata": {},
     "output_type": "execute_result"
    }
   ],
   "source": [
    "m(\"As far as I am concerned, I will\", max_length=100, do_sample=False)[0]['generated_text']"
   ]
  },
  {
   "cell_type": "code",
   "execution_count": 107,
   "id": "02ece379",
   "metadata": {},
   "outputs": [
    {
     "name": "stderr",
     "output_type": "stream",
     "text": [
      "Setting `pad_token_id` to `eos_token_id`:50256 for open-end generation.\n"
     ]
    },
    {
     "name": "stdout",
     "output_type": "stream",
     "text": [
      "As far as I am concerned, I will never see what they've got, and I certainly don't want to have a bad influence on their future,\" he said. \"They got a ton of money from it this year. That's a lot of money to make people talk about. So why not make more money?\"\n",
      "\n",
      "\n",
      "Bennet said he's always been concerned about giving away the $500,000 he spent in 2012-2013 on the club he founded as well as its history\n",
      "-----\n",
      "As far as I am concerned, I will play it all out in a few hours (and preferably more!). I'll look at some of the more common features from this post.\n",
      "\n",
      "When I'm done with this, let's look at a few other options. On PC, I can play Super Mario Brothers and Super Puzzle Mode. If you aren't familiar, this is where you can download your Super Mario Bros. 2 game file for PC and play that level in Super Mario Bros. 3\n",
      "-----\n",
      "As far as I am concerned, I will never admit that the whole thing was a lie and a lie never happened. It was a lie, a lie, and I still believe that.\"\n",
      "\n",
      "He continues, \"I have no intention of telling you everything. I have only just given the first ten minutes, and I will keep you informed of your progress. You have all a question before you ask me or you will just be told that I am going to sit down and tell you what I\n",
      "-----\n",
      "As far as I am concerned, I will have to settle for a second-place finish for now.\n",
      "\n",
      "In closing, I would like to say thank you. I am grateful to many for the support from the press and the media.\" — Steve Barger, former US ambassador to Canada\n",
      "\n",
      "\"The following events have brought awareness to the issue of climate change and the need for action from the Canadian government.\" — Tony Carr, media secretary for the Canadian Council of Canadians after Mr. Harper\n",
      "-----\n",
      "As far as I am concerned, I will be back as soon as the book is done. Thank you for sharing your stories.\"\n",
      "\n",
      "Doyle and his wife Mary wrote the book after learning that their son had been diagnosed with schizophrenia, something known as amotivation. When Doyle began researching the new diagnosis, he was unsure of where his son's personality would end, however, he noticed that the same pattern appeared in family members of the child. For example, his father's first words in\n",
      "-----\n"
     ]
    }
   ],
   "source": [
    "res = m(\"As far as I am concerned, I will\", max_length=100, num_return_sequences=5)\n",
    "for r in res:\n",
    "    print(r['generated_text'])\n",
    "    print(\"-----\")"
   ]
  },
  {
   "cell_type": "code",
   "execution_count": 108,
   "id": "05d274e3",
   "metadata": {},
   "outputs": [
    {
     "name": "stderr",
     "output_type": "stream",
     "text": [
      "Setting `pad_token_id` to `eos_token_id`:50256 for open-end generation.\n"
     ]
    },
    {
     "data": {
      "text/plain": [
       "'As far as I am concerned, I will remain ignorant of what really happened and of how it happened,\" she told HuffPost. \"There is no question that my actions violated my responsibilities and as a result, the University of Wisconsin was not in compliance.\"\\n\\nFor the second year in a row, the university\\'s legal team made numerous requests for details about Hoehn to give in December on the matter. Hoehn never replied, her attorney said Thursday afternoon in a court filing.\\n\\n'"
      ]
     },
     "execution_count": 108,
     "metadata": {},
     "output_type": "execute_result"
    }
   ],
   "source": [
    "m(\"As far as I am concerned, I will\", max_length=100, do_sample=True)[0]['generated_text']"
   ]
  },
  {
   "cell_type": "code",
   "execution_count": 109,
   "id": "2d54871b",
   "metadata": {},
   "outputs": [
    {
     "name": "stderr",
     "output_type": "stream",
     "text": [
      "Setting `pad_token_id` to `eos_token_id`:50256 for open-end generation.\n"
     ]
    },
    {
     "data": {
      "text/plain": [
       "'As far as I am concerned, I will call myself a fan of a game called World of Tanks, but I\\'m only interested in the game because of its story,\" says the 30-year-old.\\n\\n\"I can see it\\'s a beautiful story. It doesn\\'t feel like a real story. It just feels like a game. I want the players to explore things with their own minds. [The campaign system that\\'s the focus] is designed to make sure that players have fun'"
      ]
     },
     "execution_count": 109,
     "metadata": {},
     "output_type": "execute_result"
    }
   ],
   "source": [
    "m(\"As far as I am concerned, I will\", max_length=100, do_sample=True)[0]['generated_text']"
   ]
  },
  {
   "cell_type": "code",
   "execution_count": 111,
   "id": "71cb72e9",
   "metadata": {},
   "outputs": [
    {
     "name": "stderr",
     "output_type": "stream",
     "text": [
      "Setting `pad_token_id` to `eos_token_id`:50256 for open-end generation.\n"
     ]
    },
    {
     "data": {
      "text/plain": [
       "'As far as I am concerned, I will not be able to do this. I will be able to do this. I will be able to do this. I will be able to do this. I will be able to do this. I will be able to do this. I will be able to do this. I will be able to do this. I will be able to do this. I will be able to do this. I will be able to do this. I will be able'"
      ]
     },
     "execution_count": 111,
     "metadata": {},
     "output_type": "execute_result"
    }
   ],
   "source": [
    "m(\"As far as I am concerned, I will\", max_length=100, do_sample=True, temperature=0.05)[0]['generated_text']"
   ]
  },
  {
   "cell_type": "code",
   "execution_count": 112,
   "id": "a23c978f",
   "metadata": {},
   "outputs": [
    {
     "name": "stderr",
     "output_type": "stream",
     "text": [
      "Setting `pad_token_id` to `eos_token_id`:50256 for open-end generation.\n"
     ]
    },
    {
     "data": {
      "text/plain": [
       "'As far as I am concerned, I will not be able to do this. I will be able to do this in the future. I will be able to do this in the future. I will be able to do this in the future. I will be able to do this in the future. I will be able to do this in the future. I will be able to do this in the future. I will be able to do this in the future. I will be able to do this'"
      ]
     },
     "execution_count": 112,
     "metadata": {},
     "output_type": "execute_result"
    }
   ],
   "source": [
    "m(\"As far as I am concerned, I will\", max_length=100, do_sample=True, temperature=0.05)[0]['generated_text']"
   ]
  },
  {
   "cell_type": "code",
   "execution_count": 113,
   "id": "2c6eecba",
   "metadata": {},
   "outputs": [
    {
     "name": "stderr",
     "output_type": "stream",
     "text": [
      "Setting `pad_token_id` to `eos_token_id`:50256 for open-end generation.\n"
     ]
    },
    {
     "data": {
      "text/plain": [
       "\"As far as I am concerned, I will not make a prediction based on the data that was available. Rather it will be because I think it is my job to check the data in order to figure out further. But my job is only to tell the tale of what happened and the possible consequences. I do not have to be on the front lines of this stuff. This will happen.\\n\\nI think everybody has something on their mind that could end up making this point to them. It's\""
      ]
     },
     "execution_count": 113,
     "metadata": {},
     "output_type": "execute_result"
    }
   ],
   "source": [
    "m(\"As far as I am concerned, I will\", max_length=100, do_sample=True, temperature=1.0)[0]['generated_text']"
   ]
  },
  {
   "cell_type": "markdown",
   "id": "3730a006",
   "metadata": {},
   "source": [
    "## Feature extraction"
   ]
  },
  {
   "cell_type": "code",
   "execution_count": 114,
   "id": "5ebe9377",
   "metadata": {},
   "outputs": [
    {
     "data": {
      "application/vnd.jupyter.widget-view+json": {
       "model_id": "1cc277b1bc774ae187297206ca5a67c9",
       "version_major": 2,
       "version_minor": 0
      },
      "text/plain": [
       "Downloading:   0%|          | 0.00/411 [00:00<?, ?B/s]"
      ]
     },
     "metadata": {},
     "output_type": "display_data"
    },
    {
     "data": {
      "application/vnd.jupyter.widget-view+json": {
       "model_id": "2b2ded7d2373469db8c0eb35f3110061",
       "version_major": 2,
       "version_minor": 0
      },
      "text/plain": [
       "Downloading:   0%|          | 0.00/263M [00:00<?, ?B/s]"
      ]
     },
     "metadata": {},
     "output_type": "display_data"
    },
    {
     "name": "stderr",
     "output_type": "stream",
     "text": [
      "Some weights of the model checkpoint at distilbert-base-cased were not used when initializing DistilBertModel: ['vocab_transform.bias', 'vocab_layer_norm.bias', 'vocab_transform.weight', 'vocab_projector.bias', 'vocab_projector.weight', 'vocab_layer_norm.weight']\n",
      "- This IS expected if you are initializing DistilBertModel from the checkpoint of a model trained on another task or with another architecture (e.g. initializing a BertForSequenceClassification model from a BertForPreTraining model).\n",
      "- This IS NOT expected if you are initializing DistilBertModel from the checkpoint of a model that you expect to be exactly identical (initializing a BertForSequenceClassification model from a BertForSequenceClassification model).\n"
     ]
    },
    {
     "data": {
      "application/vnd.jupyter.widget-view+json": {
       "model_id": "842c21c04a9d458ea2ff57bfcb58fd7b",
       "version_major": 2,
       "version_minor": 0
      },
      "text/plain": [
       "Downloading:   0%|          | 0.00/213k [00:00<?, ?B/s]"
      ]
     },
     "metadata": {},
     "output_type": "display_data"
    },
    {
     "data": {
      "application/vnd.jupyter.widget-view+json": {
       "model_id": "155f8a6239d14fd9ab12ed0877499aad",
       "version_major": 2,
       "version_minor": 0
      },
      "text/plain": [
       "Downloading:   0%|          | 0.00/436k [00:00<?, ?B/s]"
      ]
     },
     "metadata": {},
     "output_type": "display_data"
    },
    {
     "data": {
      "application/vnd.jupyter.widget-view+json": {
       "model_id": "975699a3b7db40a8a572ebacebdc193f",
       "version_major": 2,
       "version_minor": 0
      },
      "text/plain": [
       "Downloading:   0%|          | 0.00/29.0 [00:00<?, ?B/s]"
      ]
     },
     "metadata": {},
     "output_type": "display_data"
    }
   ],
   "source": [
    "m = pipeline('feature-extraction', framework=\"pt\")\n",
    "output = m('Argentina is a third-world country located in South America')\n",
    "res = np.array(output)   # (Samples, Tokens, Vector Size)"
   ]
  },
  {
   "cell_type": "code",
   "execution_count": 118,
   "id": "4af057bb",
   "metadata": {},
   "outputs": [
    {
     "data": {
      "text/plain": [
       "9"
      ]
     },
     "execution_count": 118,
     "metadata": {},
     "output_type": "execute_result"
    }
   ],
   "source": [
    "len('Argentina is a third-world country located in South America'.split())"
   ]
  },
  {
   "cell_type": "code",
   "execution_count": 121,
   "id": "4451edaa",
   "metadata": {},
   "outputs": [],
   "source": [
    "# Asumiendo que third world cuente como dos tokens, me siguen faltando 3"
   ]
  },
  {
   "cell_type": "code",
   "execution_count": 120,
   "id": "832be8a4",
   "metadata": {},
   "outputs": [
    {
     "data": {
      "text/html": [
       "<div>\n",
       "<style scoped>\n",
       "    .dataframe tbody tr th:only-of-type {\n",
       "        vertical-align: middle;\n",
       "    }\n",
       "\n",
       "    .dataframe tbody tr th {\n",
       "        vertical-align: top;\n",
       "    }\n",
       "\n",
       "    .dataframe thead th {\n",
       "        text-align: right;\n",
       "    }\n",
       "</style>\n",
       "<table border=\"1\" class=\"dataframe\">\n",
       "  <thead>\n",
       "    <tr style=\"text-align: right;\">\n",
       "      <th></th>\n",
       "      <th>0</th>\n",
       "      <th>1</th>\n",
       "      <th>2</th>\n",
       "      <th>3</th>\n",
       "      <th>4</th>\n",
       "      <th>5</th>\n",
       "      <th>6</th>\n",
       "      <th>7</th>\n",
       "      <th>8</th>\n",
       "      <th>9</th>\n",
       "      <th>...</th>\n",
       "      <th>758</th>\n",
       "      <th>759</th>\n",
       "      <th>760</th>\n",
       "      <th>761</th>\n",
       "      <th>762</th>\n",
       "      <th>763</th>\n",
       "      <th>764</th>\n",
       "      <th>765</th>\n",
       "      <th>766</th>\n",
       "      <th>767</th>\n",
       "    </tr>\n",
       "  </thead>\n",
       "  <tbody>\n",
       "    <tr>\n",
       "      <th>0</th>\n",
       "      <td>0.3142</td>\n",
       "      <td>-0.0928</td>\n",
       "      <td>-0.1445</td>\n",
       "      <td>-0.3743</td>\n",
       "      <td>-0.2684</td>\n",
       "      <td>0.0025</td>\n",
       "      <td>0.4324</td>\n",
       "      <td>-0.0110</td>\n",
       "      <td>0.2053</td>\n",
       "      <td>-1.0050</td>\n",
       "      <td>...</td>\n",
       "      <td>0.1891</td>\n",
       "      <td>0.4950</td>\n",
       "      <td>-0.2091</td>\n",
       "      <td>0.0907</td>\n",
       "      <td>0.0479</td>\n",
       "      <td>0.2340</td>\n",
       "      <td>0.1152</td>\n",
       "      <td>-0.1387</td>\n",
       "      <td>0.2466</td>\n",
       "      <td>-0.1291</td>\n",
       "    </tr>\n",
       "    <tr>\n",
       "      <th>1</th>\n",
       "      <td>-0.2211</td>\n",
       "      <td>-0.1835</td>\n",
       "      <td>0.0413</td>\n",
       "      <td>-0.1406</td>\n",
       "      <td>0.1140</td>\n",
       "      <td>-0.1885</td>\n",
       "      <td>0.4402</td>\n",
       "      <td>0.5387</td>\n",
       "      <td>0.6047</td>\n",
       "      <td>0.0857</td>\n",
       "      <td>...</td>\n",
       "      <td>-0.3314</td>\n",
       "      <td>0.3388</td>\n",
       "      <td>-0.4116</td>\n",
       "      <td>-0.0700</td>\n",
       "      <td>0.1156</td>\n",
       "      <td>0.1657</td>\n",
       "      <td>0.0293</td>\n",
       "      <td>0.1920</td>\n",
       "      <td>0.2495</td>\n",
       "      <td>0.0474</td>\n",
       "    </tr>\n",
       "    <tr>\n",
       "      <th>2</th>\n",
       "      <td>0.1210</td>\n",
       "      <td>0.0032</td>\n",
       "      <td>-0.0130</td>\n",
       "      <td>0.2980</td>\n",
       "      <td>0.2649</td>\n",
       "      <td>0.1956</td>\n",
       "      <td>0.2696</td>\n",
       "      <td>0.2847</td>\n",
       "      <td>0.0151</td>\n",
       "      <td>-0.2208</td>\n",
       "      <td>...</td>\n",
       "      <td>-0.1311</td>\n",
       "      <td>0.5167</td>\n",
       "      <td>-0.2849</td>\n",
       "      <td>-0.0949</td>\n",
       "      <td>-0.5130</td>\n",
       "      <td>0.0704</td>\n",
       "      <td>0.1531</td>\n",
       "      <td>0.4746</td>\n",
       "      <td>0.2661</td>\n",
       "      <td>-0.3561</td>\n",
       "    </tr>\n",
       "    <tr>\n",
       "      <th>3</th>\n",
       "      <td>0.0767</td>\n",
       "      <td>-0.1741</td>\n",
       "      <td>-0.3404</td>\n",
       "      <td>0.1893</td>\n",
       "      <td>0.3162</td>\n",
       "      <td>-0.0561</td>\n",
       "      <td>0.3991</td>\n",
       "      <td>0.6855</td>\n",
       "      <td>-0.0327</td>\n",
       "      <td>0.0884</td>\n",
       "      <td>...</td>\n",
       "      <td>-0.0888</td>\n",
       "      <td>0.8325</td>\n",
       "      <td>-0.3268</td>\n",
       "      <td>-0.1733</td>\n",
       "      <td>-0.3021</td>\n",
       "      <td>0.2575</td>\n",
       "      <td>0.4495</td>\n",
       "      <td>0.6846</td>\n",
       "      <td>0.2719</td>\n",
       "      <td>-0.3861</td>\n",
       "    </tr>\n",
       "    <tr>\n",
       "      <th>4</th>\n",
       "      <td>0.1867</td>\n",
       "      <td>-0.2539</td>\n",
       "      <td>-0.5851</td>\n",
       "      <td>-0.2226</td>\n",
       "      <td>0.2334</td>\n",
       "      <td>-0.0126</td>\n",
       "      <td>0.2989</td>\n",
       "      <td>0.2630</td>\n",
       "      <td>-0.0889</td>\n",
       "      <td>-0.1003</td>\n",
       "      <td>...</td>\n",
       "      <td>-0.0888</td>\n",
       "      <td>0.7264</td>\n",
       "      <td>-0.5789</td>\n",
       "      <td>-0.0024</td>\n",
       "      <td>-0.5184</td>\n",
       "      <td>-0.1718</td>\n",
       "      <td>-0.1160</td>\n",
       "      <td>0.6531</td>\n",
       "      <td>0.4978</td>\n",
       "      <td>0.0690</td>\n",
       "    </tr>\n",
       "    <tr>\n",
       "      <th>5</th>\n",
       "      <td>0.5180</td>\n",
       "      <td>-0.4451</td>\n",
       "      <td>-0.5487</td>\n",
       "      <td>0.1668</td>\n",
       "      <td>0.4793</td>\n",
       "      <td>-0.1344</td>\n",
       "      <td>0.2978</td>\n",
       "      <td>0.1596</td>\n",
       "      <td>0.0370</td>\n",
       "      <td>-0.1935</td>\n",
       "      <td>...</td>\n",
       "      <td>0.1750</td>\n",
       "      <td>0.4874</td>\n",
       "      <td>-0.7388</td>\n",
       "      <td>-0.1075</td>\n",
       "      <td>-0.2085</td>\n",
       "      <td>0.5319</td>\n",
       "      <td>0.5084</td>\n",
       "      <td>0.9223</td>\n",
       "      <td>0.0692</td>\n",
       "      <td>-0.4615</td>\n",
       "    </tr>\n",
       "    <tr>\n",
       "      <th>6</th>\n",
       "      <td>0.5295</td>\n",
       "      <td>-0.0484</td>\n",
       "      <td>-0.3013</td>\n",
       "      <td>0.1545</td>\n",
       "      <td>0.2818</td>\n",
       "      <td>0.0397</td>\n",
       "      <td>0.2347</td>\n",
       "      <td>0.3955</td>\n",
       "      <td>-0.2140</td>\n",
       "      <td>-0.0846</td>\n",
       "      <td>...</td>\n",
       "      <td>-0.3223</td>\n",
       "      <td>0.6083</td>\n",
       "      <td>-0.3618</td>\n",
       "      <td>0.0352</td>\n",
       "      <td>-0.0974</td>\n",
       "      <td>0.0688</td>\n",
       "      <td>-0.0991</td>\n",
       "      <td>0.8469</td>\n",
       "      <td>-0.0829</td>\n",
       "      <td>-0.2676</td>\n",
       "    </tr>\n",
       "    <tr>\n",
       "      <th>7</th>\n",
       "      <td>-0.0829</td>\n",
       "      <td>-0.3128</td>\n",
       "      <td>-0.1534</td>\n",
       "      <td>-0.1733</td>\n",
       "      <td>0.0785</td>\n",
       "      <td>-0.1729</td>\n",
       "      <td>0.1882</td>\n",
       "      <td>0.2299</td>\n",
       "      <td>-0.2923</td>\n",
       "      <td>-0.0341</td>\n",
       "      <td>...</td>\n",
       "      <td>-0.1456</td>\n",
       "      <td>0.4434</td>\n",
       "      <td>-0.1903</td>\n",
       "      <td>-0.0701</td>\n",
       "      <td>-0.0783</td>\n",
       "      <td>0.3054</td>\n",
       "      <td>0.6090</td>\n",
       "      <td>0.5938</td>\n",
       "      <td>-0.1504</td>\n",
       "      <td>-0.2140</td>\n",
       "    </tr>\n",
       "    <tr>\n",
       "      <th>8</th>\n",
       "      <td>0.1025</td>\n",
       "      <td>-0.2940</td>\n",
       "      <td>-0.1970</td>\n",
       "      <td>0.2706</td>\n",
       "      <td>0.3495</td>\n",
       "      <td>0.0190</td>\n",
       "      <td>0.1514</td>\n",
       "      <td>0.1349</td>\n",
       "      <td>-0.1195</td>\n",
       "      <td>0.2497</td>\n",
       "      <td>...</td>\n",
       "      <td>-0.0140</td>\n",
       "      <td>0.1871</td>\n",
       "      <td>-0.3999</td>\n",
       "      <td>0.2439</td>\n",
       "      <td>-0.0265</td>\n",
       "      <td>0.1519</td>\n",
       "      <td>0.3591</td>\n",
       "      <td>0.6956</td>\n",
       "      <td>0.3446</td>\n",
       "      <td>-0.3511</td>\n",
       "    </tr>\n",
       "    <tr>\n",
       "      <th>9</th>\n",
       "      <td>0.2896</td>\n",
       "      <td>-0.1953</td>\n",
       "      <td>-0.0789</td>\n",
       "      <td>-0.1754</td>\n",
       "      <td>0.4192</td>\n",
       "      <td>0.1717</td>\n",
       "      <td>0.3444</td>\n",
       "      <td>0.0749</td>\n",
       "      <td>-0.1034</td>\n",
       "      <td>0.3028</td>\n",
       "      <td>...</td>\n",
       "      <td>0.0881</td>\n",
       "      <td>0.4991</td>\n",
       "      <td>-0.4306</td>\n",
       "      <td>0.1792</td>\n",
       "      <td>0.2573</td>\n",
       "      <td>0.0670</td>\n",
       "      <td>0.1462</td>\n",
       "      <td>0.5654</td>\n",
       "      <td>0.1686</td>\n",
       "      <td>-0.7170</td>\n",
       "    </tr>\n",
       "    <tr>\n",
       "      <th>10</th>\n",
       "      <td>-0.0910</td>\n",
       "      <td>-0.2160</td>\n",
       "      <td>0.1973</td>\n",
       "      <td>-0.1368</td>\n",
       "      <td>-0.0627</td>\n",
       "      <td>-0.0229</td>\n",
       "      <td>0.4398</td>\n",
       "      <td>0.1647</td>\n",
       "      <td>0.3235</td>\n",
       "      <td>0.2333</td>\n",
       "      <td>...</td>\n",
       "      <td>0.2199</td>\n",
       "      <td>0.4043</td>\n",
       "      <td>-0.1145</td>\n",
       "      <td>-0.0041</td>\n",
       "      <td>0.1537</td>\n",
       "      <td>0.2143</td>\n",
       "      <td>0.1973</td>\n",
       "      <td>0.0655</td>\n",
       "      <td>0.1245</td>\n",
       "      <td>-0.2542</td>\n",
       "    </tr>\n",
       "    <tr>\n",
       "      <th>11</th>\n",
       "      <td>0.3453</td>\n",
       "      <td>-0.3570</td>\n",
       "      <td>-0.1279</td>\n",
       "      <td>-0.0142</td>\n",
       "      <td>0.4814</td>\n",
       "      <td>0.0248</td>\n",
       "      <td>0.3966</td>\n",
       "      <td>0.4558</td>\n",
       "      <td>0.1948</td>\n",
       "      <td>0.2086</td>\n",
       "      <td>...</td>\n",
       "      <td>0.2290</td>\n",
       "      <td>0.0878</td>\n",
       "      <td>-0.0034</td>\n",
       "      <td>0.0066</td>\n",
       "      <td>0.1192</td>\n",
       "      <td>0.2774</td>\n",
       "      <td>-0.0188</td>\n",
       "      <td>0.1718</td>\n",
       "      <td>-0.0559</td>\n",
       "      <td>-0.1777</td>\n",
       "    </tr>\n",
       "    <tr>\n",
       "      <th>12</th>\n",
       "      <td>0.3890</td>\n",
       "      <td>-0.6219</td>\n",
       "      <td>-0.7159</td>\n",
       "      <td>0.1362</td>\n",
       "      <td>0.5160</td>\n",
       "      <td>-0.0277</td>\n",
       "      <td>0.7363</td>\n",
       "      <td>-0.0179</td>\n",
       "      <td>1.0954</td>\n",
       "      <td>-0.4107</td>\n",
       "      <td>...</td>\n",
       "      <td>-0.3758</td>\n",
       "      <td>1.2093</td>\n",
       "      <td>-0.2074</td>\n",
       "      <td>0.3895</td>\n",
       "      <td>-0.3238</td>\n",
       "      <td>0.8138</td>\n",
       "      <td>0.3991</td>\n",
       "      <td>0.1654</td>\n",
       "      <td>1.2171</td>\n",
       "      <td>-0.9778</td>\n",
       "    </tr>\n",
       "  </tbody>\n",
       "</table>\n",
       "<p>13 rows × 768 columns</p>\n",
       "</div>"
      ],
      "text/plain": [
       "       0       1       2       3       4       5      6       7       8    \\\n",
       "0   0.3142 -0.0928 -0.1445 -0.3743 -0.2684  0.0025 0.4324 -0.0110  0.2053   \n",
       "1  -0.2211 -0.1835  0.0413 -0.1406  0.1140 -0.1885 0.4402  0.5387  0.6047   \n",
       "2   0.1210  0.0032 -0.0130  0.2980  0.2649  0.1956 0.2696  0.2847  0.0151   \n",
       "3   0.0767 -0.1741 -0.3404  0.1893  0.3162 -0.0561 0.3991  0.6855 -0.0327   \n",
       "4   0.1867 -0.2539 -0.5851 -0.2226  0.2334 -0.0126 0.2989  0.2630 -0.0889   \n",
       "5   0.5180 -0.4451 -0.5487  0.1668  0.4793 -0.1344 0.2978  0.1596  0.0370   \n",
       "6   0.5295 -0.0484 -0.3013  0.1545  0.2818  0.0397 0.2347  0.3955 -0.2140   \n",
       "7  -0.0829 -0.3128 -0.1534 -0.1733  0.0785 -0.1729 0.1882  0.2299 -0.2923   \n",
       "8   0.1025 -0.2940 -0.1970  0.2706  0.3495  0.0190 0.1514  0.1349 -0.1195   \n",
       "9   0.2896 -0.1953 -0.0789 -0.1754  0.4192  0.1717 0.3444  0.0749 -0.1034   \n",
       "10 -0.0910 -0.2160  0.1973 -0.1368 -0.0627 -0.0229 0.4398  0.1647  0.3235   \n",
       "11  0.3453 -0.3570 -0.1279 -0.0142  0.4814  0.0248 0.3966  0.4558  0.1948   \n",
       "12  0.3890 -0.6219 -0.7159  0.1362  0.5160 -0.0277 0.7363 -0.0179  1.0954   \n",
       "\n",
       "       9    ...     758    759     760     761     762     763     764  \\\n",
       "0  -1.0050  ...  0.1891 0.4950 -0.2091  0.0907  0.0479  0.2340  0.1152   \n",
       "1   0.0857  ... -0.3314 0.3388 -0.4116 -0.0700  0.1156  0.1657  0.0293   \n",
       "2  -0.2208  ... -0.1311 0.5167 -0.2849 -0.0949 -0.5130  0.0704  0.1531   \n",
       "3   0.0884  ... -0.0888 0.8325 -0.3268 -0.1733 -0.3021  0.2575  0.4495   \n",
       "4  -0.1003  ... -0.0888 0.7264 -0.5789 -0.0024 -0.5184 -0.1718 -0.1160   \n",
       "5  -0.1935  ...  0.1750 0.4874 -0.7388 -0.1075 -0.2085  0.5319  0.5084   \n",
       "6  -0.0846  ... -0.3223 0.6083 -0.3618  0.0352 -0.0974  0.0688 -0.0991   \n",
       "7  -0.0341  ... -0.1456 0.4434 -0.1903 -0.0701 -0.0783  0.3054  0.6090   \n",
       "8   0.2497  ... -0.0140 0.1871 -0.3999  0.2439 -0.0265  0.1519  0.3591   \n",
       "9   0.3028  ...  0.0881 0.4991 -0.4306  0.1792  0.2573  0.0670  0.1462   \n",
       "10  0.2333  ...  0.2199 0.4043 -0.1145 -0.0041  0.1537  0.2143  0.1973   \n",
       "11  0.2086  ...  0.2290 0.0878 -0.0034  0.0066  0.1192  0.2774 -0.0188   \n",
       "12 -0.4107  ... -0.3758 1.2093 -0.2074  0.3895 -0.3238  0.8138  0.3991   \n",
       "\n",
       "       765     766     767  \n",
       "0  -0.1387  0.2466 -0.1291  \n",
       "1   0.1920  0.2495  0.0474  \n",
       "2   0.4746  0.2661 -0.3561  \n",
       "3   0.6846  0.2719 -0.3861  \n",
       "4   0.6531  0.4978  0.0690  \n",
       "5   0.9223  0.0692 -0.4615  \n",
       "6   0.8469 -0.0829 -0.2676  \n",
       "7   0.5938 -0.1504 -0.2140  \n",
       "8   0.6956  0.3446 -0.3511  \n",
       "9   0.5654  0.1686 -0.7170  \n",
       "10  0.0655  0.1245 -0.2542  \n",
       "11  0.1718 -0.0559 -0.1777  \n",
       "12  0.1654  1.2171 -0.9778  \n",
       "\n",
       "[13 rows x 768 columns]"
      ]
     },
     "execution_count": 120,
     "metadata": {},
     "output_type": "execute_result"
    }
   ],
   "source": [
    "pd.DataFrame(res[0])"
   ]
  },
  {
   "cell_type": "code",
   "execution_count": 125,
   "id": "9ea689c9",
   "metadata": {},
   "outputs": [],
   "source": [
    "tokens = 'Argentina is a third world country located in South America'.split()"
   ]
  },
  {
   "cell_type": "code",
   "execution_count": 126,
   "id": "d026047b",
   "metadata": {},
   "outputs": [
    {
     "name": "stderr",
     "output_type": "stream",
     "text": [
      "Some weights of the model checkpoint at distilbert-base-cased were not used when initializing DistilBertModel: ['vocab_transform.bias', 'vocab_layer_norm.bias', 'vocab_transform.weight', 'vocab_projector.bias', 'vocab_projector.weight', 'vocab_layer_norm.weight']\n",
      "- This IS expected if you are initializing DistilBertModel from the checkpoint of a model trained on another task or with another architecture (e.g. initializing a BertForSequenceClassification model from a BertForPreTraining model).\n",
      "- This IS NOT expected if you are initializing DistilBertModel from the checkpoint of a model that you expect to be exactly identical (initializing a BertForSequenceClassification model from a BertForSequenceClassification model).\n"
     ]
    }
   ],
   "source": [
    "m = pipeline('feature-extraction', framework=\"pt\")\n",
    "output_new = m(tokens)\n",
    "res_new = np.array(output_new)   # (Samples, Tokens, Vector Size)"
   ]
  },
  {
   "cell_type": "code",
   "execution_count": 127,
   "id": "4bea6447",
   "metadata": {},
   "outputs": [
    {
     "data": {
      "text/plain": [
       "(10, 3, 768)"
      ]
     },
     "execution_count": 127,
     "metadata": {},
     "output_type": "execute_result"
    }
   ],
   "source": [
    "res_new.shape"
   ]
  },
  {
   "cell_type": "code",
   "execution_count": 137,
   "id": "15120777",
   "metadata": {},
   "outputs": [],
   "source": [
    "# Me perdi mas ahora... esperaba (10, 1, 768)"
   ]
  },
  {
   "cell_type": "code",
   "execution_count": 135,
   "id": "b3ccad1e",
   "metadata": {},
   "outputs": [
    {
     "data": {
      "text/plain": [
       "array([[ 0.28765035,  0.09892987, -0.0486661 , ..., -0.08023636,\n",
       "         0.3199439 , -0.05657339],\n",
       "       [ 0.36360279, -0.1752699 ,  0.17662662, ..., -0.03108238,\n",
       "         0.29846355, -0.09122071],\n",
       "       [ 0.87552035,  0.68321186, -0.10243569, ..., -0.11852566,\n",
       "         1.20282555, -0.31995371]])"
      ]
     },
     "execution_count": 135,
     "metadata": {},
     "output_type": "execute_result"
    }
   ],
   "source": [
    "res_new[4]"
   ]
  },
  {
   "cell_type": "markdown",
   "id": "3f5a3eec",
   "metadata": {},
   "source": [
    "# Translation"
   ]
  },
  {
   "cell_type": "code",
   "execution_count": 142,
   "id": "f2b1fe64",
   "metadata": {},
   "outputs": [
    {
     "data": {
      "application/vnd.jupyter.widget-view+json": {
       "model_id": "7ae4ff685cb946e38bdb47ff70fbef2f",
       "version_major": 2,
       "version_minor": 0
      },
      "text/plain": [
       "Downloading:   0%|          | 0.00/1.20k [00:00<?, ?B/s]"
      ]
     },
     "metadata": {},
     "output_type": "display_data"
    },
    {
     "data": {
      "application/vnd.jupyter.widget-view+json": {
       "model_id": "7b19f38a09824bdfafb3ce1a7171ca97",
       "version_major": 2,
       "version_minor": 0
      },
      "text/plain": [
       "Downloading:   0%|          | 0.00/892M [00:00<?, ?B/s]"
      ]
     },
     "metadata": {},
     "output_type": "display_data"
    },
    {
     "data": {
      "application/vnd.jupyter.widget-view+json": {
       "model_id": "56b55581c4a040f6a09e63e4e5e36fce",
       "version_major": 2,
       "version_minor": 0
      },
      "text/plain": [
       "Downloading:   0%|          | 0.00/792k [00:00<?, ?B/s]"
      ]
     },
     "metadata": {},
     "output_type": "display_data"
    },
    {
     "data": {
      "application/vnd.jupyter.widget-view+json": {
       "model_id": "25f878ada3e848cfb04c2ecbe9b97672",
       "version_major": 2,
       "version_minor": 0
      },
      "text/plain": [
       "Downloading:   0%|          | 0.00/1.39M [00:00<?, ?B/s]"
      ]
     },
     "metadata": {},
     "output_type": "display_data"
    }
   ],
   "source": [
    "m = pipeline(\"translation_en_to_de\", framework=\"pt\")\n",
    "res = m(\"Argentina is a third world country located in South America\")"
   ]
  },
  {
   "cell_type": "code",
   "execution_count": 143,
   "id": "1b387162",
   "metadata": {},
   "outputs": [
    {
     "data": {
      "text/plain": [
       "[{'translation_text': 'Argentinien ist ein Land der Dritten Welt in Südamerika'}]"
      ]
     },
     "execution_count": 143,
     "metadata": {},
     "output_type": "execute_result"
    }
   ],
   "source": [
    "res"
   ]
  },
  {
   "cell_type": "code",
   "execution_count": 144,
   "id": "8040793d",
   "metadata": {},
   "outputs": [],
   "source": [
    "m = pipeline(\"translation_en_to_fr\", framework=\"pt\")\n",
    "res = m(\"Argentina is a third world country located in South America\")"
   ]
  },
  {
   "cell_type": "code",
   "execution_count": 145,
   "id": "608e977a",
   "metadata": {},
   "outputs": [
    {
     "data": {
      "text/plain": [
       "[{'translation_text': \"L'Argentine est un pays du tiers monde situé en Amérique du Sud.\"}]"
      ]
     },
     "execution_count": 145,
     "metadata": {},
     "output_type": "execute_result"
    }
   ],
   "source": [
    "res"
   ]
  },
  {
   "cell_type": "code",
   "execution_count": 2,
   "id": "22b098bd",
   "metadata": {},
   "outputs": [],
   "source": [
    "m = pipeline(\"translation_en_to_es\", framework=\"pt\")\n",
    "res = m(\"Argentina is a third world country located in South America\")"
   ]
  },
  {
   "cell_type": "code",
   "execution_count": 3,
   "id": "82180342",
   "metadata": {},
   "outputs": [
    {
     "data": {
      "text/plain": [
       "[{'translation_text': 'located in South America. Argentina is a third world country located in South America. It'}]"
      ]
     },
     "execution_count": 3,
     "metadata": {},
     "output_type": "execute_result"
    }
   ],
   "source": [
    "res"
   ]
  },
  {
   "cell_type": "markdown",
   "id": "ab6e2707",
   "metadata": {},
   "source": [
    "###  [Summary](https://huggingface.co/transformers/task_summary.html#summarization)"
   ]
  },
  {
   "cell_type": "code",
   "execution_count": 5,
   "id": "a88f42d9",
   "metadata": {},
   "outputs": [
    {
     "data": {
      "application/vnd.jupyter.widget-view+json": {
       "model_id": "f77cd697e41c40bdbb52549f3e84bcd5",
       "version_major": 2,
       "version_minor": 0
      },
      "text/plain": [
       "Downloading:   0%|          | 0.00/1.22G [00:00<?, ?B/s]"
      ]
     },
     "metadata": {},
     "output_type": "display_data"
    },
    {
     "data": {
      "application/vnd.jupyter.widget-view+json": {
       "model_id": "3820c68d2c7048b2a1c7ad50858ba19f",
       "version_major": 2,
       "version_minor": 0
      },
      "text/plain": [
       "Downloading:   0%|          | 0.00/899k [00:00<?, ?B/s]"
      ]
     },
     "metadata": {},
     "output_type": "display_data"
    },
    {
     "data": {
      "application/vnd.jupyter.widget-view+json": {
       "model_id": "dc1b9f9593794b61838eb0e85980ffeb",
       "version_major": 2,
       "version_minor": 0
      },
      "text/plain": [
       "Downloading:   0%|          | 0.00/456k [00:00<?, ?B/s]"
      ]
     },
     "metadata": {},
     "output_type": "display_data"
    },
    {
     "data": {
      "application/vnd.jupyter.widget-view+json": {
       "model_id": "1bedd8b6258147eea20857c8bbb13235",
       "version_major": 2,
       "version_minor": 0
      },
      "text/plain": [
       "Downloading:   0%|          | 0.00/26.0 [00:00<?, ?B/s]"
      ]
     },
     "metadata": {},
     "output_type": "display_data"
    }
   ],
   "source": [
    "m = pipeline(\"summarization\", framework=\"pt\")"
   ]
  },
  {
   "cell_type": "code",
   "execution_count": 10,
   "id": "64101bda",
   "metadata": {},
   "outputs": [],
   "source": [
    "TEXT = \"World War II or the Second World War, often abbreviated as WWII or WW2, was a global war that lasted from 1939 to 1945. It involved the vast majority of the world's countries—including all of the great powers—forming two opposing military alliances: the Allies and the Axis powers. In a total war directly involving more than 100 million personnel from more than 30 countries, the major participants threw their entire economic, industrial, and scientific capabilities behind the war effort, blurring the distinction between civilian and military resources.\""
   ]
  },
  {
   "cell_type": "code",
   "execution_count": 11,
   "id": "ffe1dc6b",
   "metadata": {},
   "outputs": [
    {
     "data": {
      "text/plain": [
       "87"
      ]
     },
     "execution_count": 11,
     "metadata": {},
     "output_type": "execute_result"
    }
   ],
   "source": [
    "len(TEXT.split())"
   ]
  },
  {
   "cell_type": "code",
   "execution_count": 12,
   "id": "1e7ecbfc",
   "metadata": {},
   "outputs": [
    {
     "data": {
      "text/plain": [
       "[{'summary_text': ' World War II or the Second World War, often abbreviated as WWII or WW2, was a global war that lasted from 1939 to 1945 . It involved the vast majority of the world'}]"
      ]
     },
     "execution_count": 12,
     "metadata": {},
     "output_type": "execute_result"
    }
   ],
   "source": [
    "m(TEXT, min_length=20, max_length=40)"
   ]
  },
  {
   "cell_type": "code",
   "execution_count": 9,
   "id": "09fa3b8b",
   "metadata": {},
   "outputs": [
    {
     "data": {
      "text/plain": [
       "[{'summary_text': ' An apple a'}]"
      ]
     },
     "execution_count": 9,
     "metadata": {},
     "output_type": "execute_result"
    }
   ],
   "source": [
    "m(\"An apple a day, keeps the doctor away\", min_length=2, max_length=6)"
   ]
  },
  {
   "cell_type": "code",
   "execution_count": 13,
   "id": "54f650c7",
   "metadata": {},
   "outputs": [],
   "source": [
    "TEXT2 = \"\"\"World War II or the Second World War, often abbreviated as WWII or WW2, was a global war that lasted from 1939 to 1945. It involved the vast majority of the world's countries—including all of the great powers—forming two opposing military alliances: the Allies and the Axis powers. In a total war directly involving more than 100 million personnel from more than 30 countries, the major participants threw their entire economic, industrial, and scientific capabilities behind the war effort, blurring the distinction between civilian and military resources. Aircraft played a major role in the conflict, enabling the strategic bombing of population centres and the only two uses of nuclear weapons in war to this day. World War II was by far the deadliest conflict in human history, and resulted in 70 to 85 million fatalities, a majority being civilians. Tens of millions of people died due to genocides (including the Holocaust), starvation, massacres, and disease. In the wake of the Axis defeat, Germany and Japan were occupied, and war crimes tribunals were conducted against German and Japanese leaders.\n",
    "\n",
    "World War II is generally considered to have begun on 1 September 1939, when Nazi Germany, under Adolf Hitler, invaded Poland. The United Kingdom and France subsequently declared war on Germany on the 3rd. Under the Molotov–Ribbentrop Pact of August 1939, Germany and the Soviet Union had partitioned Poland and marked out their \"spheres of influence\" across Finland, Romania and the Baltic states. From late 1939 to early 1941, in a series of campaigns and treaties, Germany conquered or controlled much of continental Europe, and formed the Axis alliance with Italy and Japan (along with other countries later on). Following the onset of campaigns in North Africa and East Africa, and the fall of France in mid-1940, the war continued primarily between the European Axis powers and the British Empire, with war in the Balkans, the aerial Battle of Britain, the Blitz of the UK, and the Battle of the Atlantic. On 22 June 1941, Germany led the European Axis powers in an invasion of the Soviet Union, opening the Eastern Front, the largest land theatre of war in history and trapping the Axis powers, crucially the German Wehrmacht, in a war of attrition.\"\"\""
   ]
  },
  {
   "cell_type": "code",
   "execution_count": 14,
   "id": "07c6cdd8",
   "metadata": {},
   "outputs": [
    {
     "data": {
      "text/plain": [
       "372"
      ]
     },
     "execution_count": 14,
     "metadata": {},
     "output_type": "execute_result"
    }
   ],
   "source": [
    "len(TEXT2.split())"
   ]
  },
  {
   "cell_type": "code",
   "execution_count": 15,
   "id": "86a0f79a",
   "metadata": {},
   "outputs": [
    {
     "data": {
      "text/plain": [
       "[{'summary_text': \" World War II or the Second World War, often abbreviated as WWII or WW2, was a global war that lasted from 1939 to 1945 . It involved the vast majority of the world's countries, including all of the great powers . Aircraft played a major role in the conflict, enabling strategic bombing of population centres and the only two uses of nuclear weapons in war to this day .\"}]"
      ]
     },
     "execution_count": 15,
     "metadata": {},
     "output_type": "execute_result"
    }
   ],
   "source": [
    "m(TEXT2, min_length=20, max_length=80)"
   ]
  },
  {
   "cell_type": "code",
   "execution_count": 17,
   "id": "be964e7b",
   "metadata": {},
   "outputs": [],
   "source": [
    "qa = pipeline(\"question-answering\", framework=\"pt\")\n",
    "\n",
    "context = r\"\"\"\n",
    "Extractive Question Answering is the task of extracting an answer from a text given a question. An example of a\n",
    "question answering dataset is the SQuAD dataset, which is entirely based on that task. If you would like to fine-tune\n",
    "a model on a SQuAD task, you may leverage the examples/pytorch/question-answering/run_squad.py script.\n",
    "\"\"\""
   ]
  },
  {
   "cell_type": "code",
   "execution_count": 18,
   "id": "fe19f4da",
   "metadata": {},
   "outputs": [],
   "source": [
    "result = qa(question=\"What is extractive question answering?\", context=context)"
   ]
  },
  {
   "cell_type": "code",
   "execution_count": 19,
   "id": "52c86285",
   "metadata": {},
   "outputs": [
    {
     "data": {
      "text/plain": [
       "{'score': 0.6177273988723755,\n",
       " 'start': 34,\n",
       " 'end': 95,\n",
       " 'answer': 'the task of extracting an answer from a text given a question'}"
      ]
     },
     "execution_count": 19,
     "metadata": {},
     "output_type": "execute_result"
    }
   ],
   "source": [
    "result"
   ]
  },
  {
   "cell_type": "code",
   "execution_count": null,
   "id": "7bf95cc2",
   "metadata": {},
   "outputs": [],
   "source": []
  }
 ],
 "metadata": {
  "kernelspec": {
   "display_name": "Python 3",
   "language": "python",
   "name": "python3"
  },
  "language_info": {
   "codemirror_mode": {
    "name": "ipython",
    "version": 3
   },
   "file_extension": ".py",
   "mimetype": "text/x-python",
   "name": "python",
   "nbconvert_exporter": "python",
   "pygments_lexer": "ipython3",
   "version": "3.8.10"
  }
 },
 "nbformat": 4,
 "nbformat_minor": 5
}
